{
 "cells": [
  {
   "cell_type": "markdown",
   "id": "c0ca092b",
   "metadata": {},
   "source": [
    "## *Data Warehouse*."
   ]
  },
  {
   "cell_type": "markdown",
   "id": "419641ad",
   "metadata": {},
   "source": [
    "* Interfaz *SQL*.\n",
    "* Esquema (schema)\n",
    "* Cómputo\n",
    "* Almacenamiento de datos relevantes del negocio (modelo de datos)."
   ]
  },
  {
   "cell_type": "markdown",
   "id": "11f68882",
   "metadata": {},
   "source": [
    "## *Data Lake*"
   ]
  },
  {
   "cell_type": "markdown",
   "id": "57796dfb",
   "metadata": {},
   "source": [
    "Datos no estructurados.\n",
    "\n",
    "* Diversos lenguajes de programación.\n",
    "* No se requieren de esquemas \n",
    "* Almacenamiento de la mayor cantidad de datos."
   ]
  },
  {
   "cell_type": "markdown",
   "id": "a2ac853e",
   "metadata": {},
   "source": [
    "## *Data Mart*\n",
    "\n",
    "* Almacena los datos de un grupo en particular."
   ]
  },
  {
   "cell_type": "markdown",
   "id": "e979c5ec",
   "metadata": {},
   "source": [
    "| *GCP* | Tipo | Contraparte | Modalidad |\n",
    "|:-----:|:----------:|:-------:|:-------:|\n",
    "| *Cloud Storage* | Almacenamiento de objetos| *HDFS* | Administrado |\n",
    "| *Cloud SQL* | Base de datos *SQL* |*MySQL*, *PostgreSQL*, *MS SQL Server* | Administrado |\n",
    "| *Cloud Spanner* | Base de datos *SQL* | *PostgreSQL* | Serverless | \n",
    "| Big Table | Base de datos tabular | HBase | Serverless |\n",
    "| Spanner\n"
   ]
  },
  {
   "cell_type": "markdown",
   "id": "171f9b81",
   "metadata": {},
   "source": [
    "# *Data Warehouse* con *BigQuery*."
   ]
  },
  {
   "cell_type": "markdown",
   "id": "0cae821b",
   "metadata": {},
   "source": [
    "## *BigQuery*."
   ]
  },
  {
   "cell_type": "code",
   "execution_count": null,
   "id": "cdeba00c",
   "metadata": {},
   "outputs": [],
   "source": []
  },
  {
   "cell_type": "markdown",
   "id": "0469cce8",
   "metadata": {},
   "source": [
    "Es una *Data Warehouse* con capacidad de almacenar procesar TB de información *inmutable* mediante consultas en la interfaz *SQL*.\n",
    "\n",
    "A diferencia de una base de datos , *BigQuery* no realiza operaciones transaccionales ([*OLTP*](https://es.wikipedia.org/wiki/OLTP)) sino analíticas ([*OLAP*](https://es.wikipedia.org/wiki/OLAP)).\n",
    "\n",
    "Separa almacenamiento y procesamiento.\n",
    "\n",
    "https://cloud.google.com/bigquery/docs"
   ]
  },
  {
   "cell_type": "markdown",
   "id": "2ca2f779",
   "metadata": {},
   "source": [
    "## Funcionalidades."
   ]
  },
  {
   "cell_type": "markdown",
   "id": "02410e2a",
   "metadata": {},
   "source": [
    "* *Data Warehouse*.\n",
    "* [*Machine Learning básico*](https://cloud.google.com/bigquery-ml/docs).\n",
    "* [*Business Intelligence*](https://cloud.google.com/bigquery/docs/bi-engine-intro)."
   ]
  },
  {
   "cell_type": "markdown",
   "id": "bbed6fce",
   "metadata": {},
   "source": [
    "## Arquitectura."
   ]
  },
  {
   "cell_type": "markdown",
   "id": "765b6296",
   "metadata": {},
   "source": [
    "* Almacenamiento (*Collossus*)\n",
    "* Procesamiento *Dremel*).\n",
    "\n",
    "https://cloud.google.com/blog/products/data-analytics/new-blog-series-bigquery-explained-overview"
   ]
  },
  {
   "cell_type": "markdown",
   "id": "b5ee60cb",
   "metadata": {},
   "source": [
    "## Almacenamiento."
   ]
  },
  {
   "cell_type": "markdown",
   "id": "604be803",
   "metadata": {},
   "source": [
    "https://cloud.google.com/blog/topics/developers-practitioners/bigquery-explained-storage-overview"
   ]
  },
  {
   "cell_type": "markdown",
   "id": "86dac0a8",
   "metadata": {},
   "source": [
    "## Componentes."
   ]
  },
  {
   "cell_type": "markdown",
   "id": "7678fccd",
   "metadata": {},
   "source": [
    "* *Dataset*\n",
    "* *Tabla*\n",
    "* *Vista* (*view*)\n",
    "\n",
    "https://cloud.google.com/blog/topics/developers-practitioners/bigquery-explained-storage-overview"
   ]
  },
  {
   "cell_type": "markdown",
   "id": "a82a6f72",
   "metadata": {},
   "source": [
    "## *SQL*."
   ]
  },
  {
   "cell_type": "markdown",
   "id": "9ecc6f28",
   "metadata": {},
   "source": [
    "### Versiones de *SQL*.\n",
    "\n",
    "* *Standard SQL* (por defecto).\n",
    "* *Legacy SQL* basado en *Dremel*.\n",
    "\n",
    "\n",
    "https://cloud.google.com/blog/topics/developers-practitioners/bigquery-explained-querying-your-data"
   ]
  },
  {
   "cell_type": "markdown",
   "id": "558f9674",
   "metadata": {},
   "source": [
    "## Costos."
   ]
  },
  {
   "cell_type": "markdown",
   "id": "8154f46d",
   "metadata": {},
   "source": [
    "https://cloud.google.com/bigquery/pricing"
   ]
  },
  {
   "cell_type": "markdown",
   "id": "77447518",
   "metadata": {},
   "source": [
    "### Insumos.\n",
    "\n",
    "* Almacenamiento.\n",
    "* Análisis.\n",
    "    * Consultas de *SQL*.\n",
    "    * Funciones definidas por el usuario.\n",
    "    * *Scripts*.\n",
    "    * *Data Manipulation Language* (*DML*).\n",
    "    * *Data Definition Language* (*DDL*).\n",
    "* Inserción de transmisiones (*streaming inserts*).\n"
   ]
  },
  {
   "cell_type": "markdown",
   "id": "32fbcfe2",
   "metadata": {},
   "source": [
    "### Planes.\n",
    "\n",
    "* [Bajo demanda](https://cloud.google.com/bigquery/pricing#on_demand_pricing).\n",
    "* [Precio fijo](https://cloud.google.com/bigquery/pricing#flat-rate_pricing)."
   ]
  },
  {
   "cell_type": "markdown",
   "id": "ae7f0db2",
   "metadata": {},
   "source": [
    "### *Slots*.\n",
    "\n",
    "https://cloud.google.com/bigquery/docs/slots"
   ]
  },
  {
   "cell_type": "markdown",
   "id": "d64375ac",
   "metadata": {},
   "source": [
    "## *Data Ware House*."
   ]
  },
  {
   "cell_type": "markdown",
   "id": "dfbc23c6",
   "metadata": {},
   "source": [
    "https://cloud.google.com/architecture/bigquery-data-warehouse"
   ]
  },
  {
   "cell_type": "markdown",
   "id": "c9e230f0",
   "metadata": {},
   "source": [
    "## Tipos de datos."
   ]
  },
  {
   "cell_type": "markdown",
   "id": "368dc76f",
   "metadata": {},
   "source": [
    "https://cloud.google.com/bigquery/docs/reference/standard-sql/data-types"
   ]
  },
  {
   "cell_type": "markdown",
   "id": "26dbe3f0",
   "metadata": {},
   "source": [
    "### Estampas de tiempo."
   ]
  },
  {
   "cell_type": "markdown",
   "id": "66576f23",
   "metadata": {},
   "source": [
    "## *Big Query Data Transfer*."
   ]
  },
  {
   "cell_type": "markdown",
   "id": "90923f7e",
   "metadata": {},
   "source": [
    "https://cloud.google.com/bigquery-transfer/docs/introduction"
   ]
  },
  {
   "cell_type": "code",
   "execution_count": null,
   "id": "fd454123",
   "metadata": {},
   "outputs": [],
   "source": []
  }
 ],
 "metadata": {
  "kernelspec": {
   "display_name": "Python 3 (ipykernel)",
   "language": "python",
   "name": "python3"
  },
  "language_info": {
   "codemirror_mode": {
    "name": "ipython",
    "version": 3
   },
   "file_extension": ".py",
   "mimetype": "text/x-python",
   "name": "python",
   "nbconvert_exporter": "python",
   "pygments_lexer": "ipython3",
   "version": "3.9.7"
  }
 },
 "nbformat": 4,
 "nbformat_minor": 5
}
