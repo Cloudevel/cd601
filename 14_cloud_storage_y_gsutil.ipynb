{
 "cells": [
  {
   "cell_type": "markdown",
   "metadata": {},
   "source": [
    "[![cloudevel](img/cloudevel.png)](https://cloudevel.com)"
   ]
  },
  {
   "cell_type": "markdown",
   "metadata": {},
   "source": [
    "# *Cloud Storage* y ```gsutil```."
   ]
  },
  {
   "cell_type": "markdown",
   "metadata": {},
   "source": [
    "## Almacenamiento de objetos."
   ]
  },
  {
   "cell_type": "markdown",
   "metadata": {},
   "source": [
    "## *Buckets*."
   ]
  },
  {
   "cell_type": "markdown",
   "metadata": {},
   "source": [
    "### Rutas.\n",
    "Las rutas pueden ser principalmente una *URL* de *Cloud Storage*.\n",
    "\n",
    "```\n",
    "gs://<ruta>\n",
    "```"
   ]
  },
  {
   "cell_type": "markdown",
   "metadata": {},
   "source": [
    "### Carpetas.\n",
    "\n",
    "https://cloud.google.com/storage/docs/folders"
   ]
  },
  {
   "cell_type": "markdown",
   "metadata": {},
   "source": [
    "## Atributos."
   ]
  },
  {
   "cell_type": "markdown",
   "metadata": {},
   "source": [
    "### Localización y ámbito.\n",
    "\n",
    "https://cloud.google.com/storage/docs/locations#key-concepts"
   ]
  },
  {
   "cell_type": "markdown",
   "metadata": {},
   "source": [
    "### Clases.\n",
    "\n",
    "* Regional\n",
    "* Multiregional\n",
    "* Nearline\n",
    "* Cold storage\n",
    "* Archive\n",
    "\n",
    "https://cloud.google.com/storage/docs/storage-classes"
   ]
  },
  {
   "cell_type": "markdown",
   "metadata": {},
   "source": [
    "### Versionamiento.\n",
    "\n",
    "https://cloud.google.com/storage/docs/object-versioning"
   ]
  },
  {
   "cell_type": "markdown",
   "metadata": {},
   "source": [
    "### Ciclo de vida.\n",
    "\n",
    "https://cloud.google.com/storage/docs/lifecycle"
   ]
  },
  {
   "cell_type": "markdown",
   "metadata": {},
   "source": [
    "### Control de acceso.\n",
    "\n",
    "https://cloud.google.com/storage/docs/access-control"
   ]
  },
  {
   "cell_type": "markdown",
   "metadata": {},
   "source": [
    "### Metadatos.\n",
    "\n",
    "https://cloud.google.com/storage/docs/bucket-metadata"
   ]
  },
  {
   "cell_type": "markdown",
   "metadata": {},
   "source": [
    "## El comando ```gsutil```.\n",
    "\n",
    "```\n",
    "gsutil <subcomando> <ruta1> <ruta2> \n",
    "```\n",
    "\n",
    "\n",
    "https://cloud.google.com/storage/docs/quickstart-gsutil"
   ]
  },
  {
   "cell_type": "markdown",
   "metadata": {},
   "source": [
    "### Creación de un ```bucket```.\n",
    "\n",
    "```\n",
    "gsutil mb gs://<nombre>\n",
    "```\n",
    "\n",
    "**Nota:** Los nombre de los buckets son globales, por lo que es necesario utilizar nombre que no estén ocupados."
   ]
  },
  {
   "cell_type": "code",
   "execution_count": null,
   "metadata": {
    "scrolled": true
   },
   "outputs": [],
   "source": [
    "gsutil mb gs://tercera-generacion-jlcv-1"
   ]
  },
  {
   "cell_type": "markdown",
   "metadata": {},
   "source": [
    "* El siguiiente *bucket* se creó durante la sesión del grupo de estudio y no es necesario crearlo."
   ]
  },
  {
   "cell_type": "code",
   "execution_count": null,
   "metadata": {},
   "outputs": [],
   "source": [
    "gsutil mb gs://tercera-generacion-demo-sye"
   ]
  },
  {
   "cell_type": "markdown",
   "metadata": {},
   "source": [
    "### Copiar desde y hacia un bucket.\n",
    "\n",
    "```\n",
    "gsutil cp <elemento local> gs://<bucket de destino>/\n",
    "```\n",
    "\n",
    "```\n",
    "gsutil cp gs://<bucket de origen>/<elemento>  <directorio local>\n",
    "```\n",
    "\n",
    "```\n",
    "gsutil cp gs://<bucket de origen>/<elemento>  gs://<bucket destino>/<elemento>\n",
    "```\n",
    "\n",
    "Opciones:\n",
    "\n",
    "\n",
    "* ```-r``` permite realizar operaciones de copia de forma recursiva."
   ]
  },
  {
   "cell_type": "code",
   "execution_count": null,
   "metadata": {
    "scrolled": true
   },
   "outputs": [],
   "source": [
    "gsutil cp -r ~/Documentos/Pythonista/Disenos/logo_pythonista gs://tercera-generacion-demo-sye"
   ]
  },
  {
   "cell_type": "code",
   "execution_count": null,
   "metadata": {
    "scrolled": true
   },
   "outputs": [],
   "source": [
    "gsutil cp gs://tercera-generacion-demo-sye/logo_pythonista/pythonista-logo.png gs://tercera-generacion-jlcv-1/"
   ]
  },
  {
   "cell_type": "markdown",
   "metadata": {},
   "source": [
    "### Listado de elementos."
   ]
  },
  {
   "cell_type": "code",
   "execution_count": null,
   "metadata": {},
   "outputs": [],
   "source": [
    "gsutil ls"
   ]
  },
  {
   "cell_type": "code",
   "execution_count": null,
   "metadata": {},
   "outputs": [],
   "source": [
    "gsutil ls gs://tercera-generacion-jlcv-1"
   ]
  },
  {
   "cell_type": "code",
   "execution_count": null,
   "metadata": {},
   "outputs": [],
   "source": [
    "gsutil ls gs://tercera-generacion*"
   ]
  },
  {
   "cell_type": "code",
   "execution_count": null,
   "metadata": {
    "scrolled": true
   },
   "outputs": [],
   "source": [
    "gsutil ls gs://tercera-generacion-demo-sye/logo_pythonista"
   ]
  },
  {
   "cell_type": "code",
   "execution_count": null,
   "metadata": {},
   "outputs": [],
   "source": [
    "gsutil ls gs://tercera-generacion-demo-sye/logo_pythonista/*.png"
   ]
  },
  {
   "cell_type": "markdown",
   "metadata": {},
   "source": [
    "### Mover elementos.\n",
    "\n",
    "```\n",
    "gsutil mv gs://<bucket de origen>/<objeto de origen> gs://<bucket de destino>/<objeto de destino>\n",
    "```"
   ]
  },
  {
   "cell_type": "code",
   "execution_count": null,
   "metadata": {},
   "outputs": [],
   "source": [
    "gsutil ls gs://tercera-generacion-jlcv-1/"
   ]
  },
  {
   "cell_type": "code",
   "execution_count": null,
   "metadata": {},
   "outputs": [],
   "source": [
    "gsutil mv gs://tercera-generacion-jlcv-1/pythonista-logo.png gs://tercera-generacion-jlcv-1/logo.png"
   ]
  },
  {
   "cell_type": "code",
   "execution_count": null,
   "metadata": {},
   "outputs": [],
   "source": [
    "gsutil ls gs://tercera-generacion-jlcv-1/"
   ]
  },
  {
   "cell_type": "markdown",
   "metadata": {},
   "source": [
    "### Eliminar elementos."
   ]
  },
  {
   "cell_type": "code",
   "execution_count": null,
   "metadata": {},
   "outputs": [],
   "source": [
    "gsutil rm gs://tercera-generacion-jlcv-1/logo.png"
   ]
  },
  {
   "cell_type": "code",
   "execution_count": null,
   "metadata": {
    "scrolled": true
   },
   "outputs": [],
   "source": [
    "gsutil ls gs://tercera-generacion-jlcv-1/"
   ]
  },
  {
   "cell_type": "markdown",
   "metadata": {},
   "source": [
    "### Tamaño de un bucket."
   ]
  },
  {
   "cell_type": "code",
   "execution_count": null,
   "metadata": {},
   "outputs": [],
   "source": [
    "gsutil du gs://tercera-generacion-demo-sye/"
   ]
  },
  {
   "cell_type": "code",
   "execution_count": null,
   "metadata": {
    "scrolled": true
   },
   "outputs": [],
   "source": [
    "gsutil du -h gs://tercera-generacion-demo-sye/"
   ]
  },
  {
   "cell_type": "markdown",
   "metadata": {},
   "source": [
    "### Gestión de prevención de acceso público.\n",
    "\n",
    "Argumentos:\n",
    "\n",
    "* ```get``` obtiene la información del objeto.\n",
    "* ```set``` asigna la propiedad del objeto.\n",
    "\n",
    "Posibles valores:\n",
    "\n",
    "* ```unspecified```\n",
    "* ```enforced```"
   ]
  },
  {
   "cell_type": "code",
   "execution_count": null,
   "metadata": {},
   "outputs": [],
   "source": [
    "gsutil pap get gs://tercera-generacion-jlcv-1/"
   ]
  },
  {
   "cell_type": "code",
   "execution_count": null,
   "metadata": {
    "scrolled": true
   },
   "outputs": [],
   "source": [
    "gsutil pap set enforced gs://tercera-generacion-jlcv-1/"
   ]
  },
  {
   "cell_type": "code",
   "execution_count": null,
   "metadata": {},
   "outputs": [],
   "source": [
    "gsutil pap get gs://tercera-generacion-jlcv-1/"
   ]
  },
  {
   "cell_type": "markdown",
   "metadata": {},
   "source": [
    "### Deifnición de la clase de almacenamiento.\n",
    "\n",
    "* ```get``` obtiene la información del objeto.\n",
    "* ```set``` asigna la propiedad indicada al objeto.\n",
    "   * ```STANDARD```\n",
    "   * ```NEARLINE```\n",
    "   * ```COLDLINE```\n",
    "   * ```ARCHIVE```"
   ]
  },
  {
   "cell_type": "code",
   "execution_count": null,
   "metadata": {},
   "outputs": [],
   "source": [
    "gsutil defstorageclass get gs://tercera-generacion-jlcv-1/"
   ]
  },
  {
   "cell_type": "code",
   "execution_count": null,
   "metadata": {},
   "outputs": [],
   "source": [
    "gsutil defstorageclass set NEARLINE gs://tercera-generacion-jlcv-1/"
   ]
  },
  {
   "cell_type": "code",
   "execution_count": null,
   "metadata": {},
   "outputs": [],
   "source": [
    "gsutil defstorageclass get gs://tercera-generacion-jlcv-1/"
   ]
  },
  {
   "cell_type": "code",
   "execution_count": null,
   "metadata": {
    "scrolled": false
   },
   "outputs": [],
   "source": [
    "gsutil defstorageclass set STANDARD gs://tercera-generacion-jlcv-1/"
   ]
  },
  {
   "cell_type": "markdown",
   "metadata": {},
   "source": [
    "### Sincronización."
   ]
  },
  {
   "cell_type": "code",
   "execution_count": null,
   "metadata": {},
   "outputs": [],
   "source": [
    "gsutil -m rsync /home/josech/Documentos/Pythonista/Disenos/logo_pythonista gs://tercera-generacion-demo-sye/logo_pythonista"
   ]
  },
  {
   "cell_type": "markdown",
   "metadata": {},
   "source": [
    "### Gestión del ciclo de vida de los buckets.\n",
    "\n",
    "* ```get```\n",
    "* ```set```"
   ]
  },
  {
   "cell_type": "code",
   "execution_count": null,
   "metadata": {},
   "outputs": [],
   "source": [
    "gsutil lifecycle get gs://tercera-generacion-jlcv-1/"
   ]
  },
  {
   "cell_type": "markdown",
   "metadata": {},
   "source": [
    "### Despliegue del estado de un objeto."
   ]
  },
  {
   "cell_type": "code",
   "execution_count": null,
   "metadata": {
    "scrolled": true
   },
   "outputs": [],
   "source": [
    "gsutil stat gs://tercera-generacion-demo-sye/logo_pythonista/Saludos.txt"
   ]
  },
  {
   "cell_type": "markdown",
   "metadata": {},
   "source": [
    "### Versionamiento.\n",
    "\n",
    "* ```get```\n",
    "* ```set```"
   ]
  },
  {
   "cell_type": "code",
   "execution_count": null,
   "metadata": {},
   "outputs": [],
   "source": [
    "gsutil versioning get gs://tercera-generacion-demo-sye/"
   ]
  },
  {
   "cell_type": "markdown",
   "metadata": {},
   "source": [
    "### Gestión de identidad y acceso."
   ]
  },
  {
   "cell_type": "code",
   "execution_count": null,
   "metadata": {},
   "outputs": [],
   "source": [
    "gsutil iam get gs://tercera-generacion-jlcv-1/"
   ]
  },
  {
   "cell_type": "markdown",
   "metadata": {},
   "source": [
    "### Listas de control de acceso (*ACL*)."
   ]
  },
  {
   "cell_type": "markdown",
   "metadata": {},
   "source": [
    "```\n",
    "gsutil acl <subcomando>\n",
    "```\n",
    "\n",
    "* ```set```\n",
    "* ```get```\n",
    "* ```ch```"
   ]
  },
  {
   "cell_type": "code",
   "execution_count": null,
   "metadata": {},
   "outputs": [],
   "source": [
    "gsutil acl get gs://tercera-generacion-jlcv-1/"
   ]
  },
  {
   "cell_type": "markdown",
   "metadata": {},
   "source": [
    "### *URLs* firmadas.\n",
    "\n",
    "https://cloud.google.com/storage/docs/access-control/signed-urls"
   ]
  },
  {
   "cell_type": "markdown",
   "metadata": {},
   "source": [
    "### Seguimiento de eventos."
   ]
  },
  {
   "cell_type": "markdown",
   "metadata": {},
   "source": [
    "<p style=\"text-align: center\"><a rel=\"license\" href=\"http://creativecommons.org/licenses/by/4.0/\"><img alt=\"Licencia Creative Commons\" style=\"border-width:0\" src=\"https://i.creativecommons.org/l/by/4.0/80x15.png\" /></a><br />Esta obra está bajo una <a rel=\"license\" href=\"http://creativecommons.org/licenses/by/4.0/\">Licencia Creative Commons Atribución 4.0 Internacional</a>.</p>\n",
    "<p style=\"text-align: center\">&copy; José Luis Chiquete Valdivieso. 2021.</p>"
   ]
  }
 ],
 "metadata": {
  "kernelspec": {
   "display_name": "Bash",
   "language": "bash",
   "name": "bash"
  },
  "language_info": {
   "codemirror_mode": "shell",
   "file_extension": ".sh",
   "mimetype": "text/x-sh",
   "name": "bash"
  }
 },
 "nbformat": 4,
 "nbformat_minor": 2
}
