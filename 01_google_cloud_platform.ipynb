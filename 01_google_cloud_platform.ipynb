{
 "cells": [
  {
   "cell_type": "markdown",
   "metadata": {},
   "source": [
    "[![cloudevel](img/cloudevel.png)](https://cloudevel.com)"
   ]
  },
  {
   "cell_type": "markdown",
   "metadata": {},
   "source": [
    "# *Google Cloud Platform*."
   ]
  },
  {
   "cell_type": "markdown",
   "metadata": {},
   "source": [
    "## Cómputo en la nube.\n",
    "\n",
    "Seǵun el *NIST*, cómputo en la nube se define como un modelo para habilitar mediante un red ubicua, conveniente y bajo demanda el acceso a un conjunto de recursos de cómputo compartidos y configurables (redes, servidores, almacenamiento, aplicaciones y servicios) que pueden ser aprovisionados rápidamente y desplegados con un mínimo esfuerzo de gestión o de interacción por parte del proveedor del servicio.\n",
    "\n",
    "https://www.nist.gov/news-events/news/2011/10/final-version-nist-cloud-computing-definition-published"
   ]
  },
  {
   "cell_type": "markdown",
   "metadata": {},
   "source": [
    "### Caracteríticas del cómputo en la nube.\n",
    "\n",
    "* Autoservicio bajo demanda.\n",
    "* Acceso amplio a redes de comunicaciones.\n",
    "* Acopio de recursos de cómputo.\n",
    "* Rápida expansión o elasticidad de los recursos.\n",
    "* Servicio medido."
   ]
  },
  {
   "cell_type": "markdown",
   "metadata": {},
   "source": [
    "### Modelos de servicio.\n",
    "\n",
    "* Software como servicio (SaaS).\n",
    "* Plataforma como servicio (PaaS).\n",
    "* Infraestructura como servicio (IaaS)."
   ]
  },
  {
   "cell_type": "markdown",
   "metadata": {},
   "source": [
    "### Modelos de despliegue.\n",
    "\n",
    "* Nube privada.\n",
    "* Nube comunitaria.\n",
    "* Nube pública.\n",
    "* Nube híbrida."
   ]
  },
  {
   "cell_type": "markdown",
   "metadata": {},
   "source": [
    "## Tipos de servicios en la nube."
   ]
  },
  {
   "cell_type": "markdown",
   "metadata": {},
   "source": [
    "* Recursos de cómputo.\n",
    "* Almacenamiento.\n",
    "* Red.\n",
    "* Servicios especializados."
   ]
  },
  {
   "cell_type": "markdown",
   "metadata": {},
   "source": [
    "## *Google Cloud Platfom*.\n",
    "\n",
    "[*Google Cloud Platform* (*GCP*)](https://cloud.google.com/) es un conjunto de servicios globales de *PaaS* e *IaaS* sustentado por la red de comunicaciones y los centros de datos de *Google*, los cuales pueden funcionar bajo un esquema de nube pública e híbrida.\n",
    "\n",
    "Por otra parte *Google* también ofrece un conjunto de servicios *SaaS* llamado [*Google Workspace*](https://workspace.google.com/)."
   ]
  },
  {
   "cell_type": "markdown",
   "metadata": {},
   "source": [
    "### Regiones y zonas.\n",
    "\n",
    "La infaestructura  de *GCP* se encuentra distribuida por todo el mundo mediante una red de centros de datos delimitados por regiones y zonas. \n",
    "\n",
    "La siguiente liga muestra la información más actualizada de las regiones y zonas que *GCP* ofrece, así como los servicios que soporta cada una de ellas.\n",
    "\n",
    "https://cloud.google.com/docs/geography-and-regions\n",
    "\n",
    "https://cloud.google.com/about/locations"
   ]
  },
  {
   "cell_type": "markdown",
   "metadata": {},
   "source": [
    "### Oferta de precios de *GCP*.\n",
    "\n",
    "* Facturación por segundo de recursos de cómputo y procesamiento de datos entre otros.\n",
    "* Descuentos por uso continuo.\n",
    "* Descuentos por uso comprometido.\n",
    "* Aprovisionamiento de instancias de máquinas virtuales a la medida."
   ]
  },
  {
   "cell_type": "markdown",
   "metadata": {},
   "source": [
    "### Niveles de servicio.\n"
   ]
  },
  {
   "cell_type": "markdown",
   "metadata": {},
   "source": [
    "## Servicios disponibles."
   ]
  },
  {
   "cell_type": "markdown",
   "metadata": {},
   "source": [
    "### Servicios de gestión.\n",
    "\n",
    "* [*API de Facturación*](https://cloud.google.com/billing/docs).\n",
    "* [*Resource Manager*](https://cloud.google.com/resource-manager).\n",
    "* [*Cloud Endpoints*](https://cloud.google.com/endpoints). \n",
    "* [*Cloud Shell*](https://cloud.google.com/shell).\n",
    "* [*Cloud Deployment Manager*](https://cloud.google.com/deployment-manager).\n",
    "* [*API de Cloud Recommendations*](https://cloud.google.com/recommendations)."
   ]
  },
  {
   "cell_type": "markdown",
   "metadata": {},
   "source": [
    "### Servicios de operaciones.\n",
    "\n",
    "* [*Cloud Logging*](https://cloud.google.com/logging).\n",
    "* [*Cloud Monitoring*](https://cloud.google.com/monitoring).\n",
    "* [*Cloud Trace*](https://cloud.google.com/trace).\n",
    "* [*Cloud Profiler*](https://cloud.google.com/profiler).\n",
    "* [*Cloud Debugger*](https://cloud.google.com/debugger).\n",
    "* [*Error Reporting*](https://cloud.google.com/error-reporting)."
   ]
  },
  {
   "cell_type": "markdown",
   "metadata": {},
   "source": [
    "### Servicios de cómputo.\n",
    "\n",
    "* [*Google Compute Engine* (*GCE*)](https://cloud.google.com/compute).\n",
    "* [*Google Kubernetes Engine* (*GKE*)](https://cloud.google.com/kubernetes-engine).\n",
    "* [*VMWare Engine*](https://cloud.google.com/vmware-engine).\n",
    "* [*App Engine*](https://cloud.google.com/appengine).\n",
    "* [*Cloud Run*](https://cloud.google.com/run).\n",
    "* [*Cloud Functions*](https://cloud.google.com/functions)."
   ]
  },
  {
   "cell_type": "markdown",
   "metadata": {},
   "source": [
    "### Sevicios de almacenamiento.\n",
    "\n",
    "* [*Persistent disk*](https://cloud.google.com/persistent-disk).\n",
    "* [*Cloud Storage*](https://cloud.google.com/storage).\n",
    "* [*Cloud Storage for Firebase*](https://firebase.google.com/docs/storage/).\n",
    "* [*Cloud Filestore*](https://cloud.google.com/filestore). NAS."
   ]
  },
  {
   "cell_type": "markdown",
   "metadata": {},
   "source": [
    "### Bases de datos.\n",
    "\n",
    "* [*Cloud SQL*](https://cloud.google.com/sql).\n",
    "* [*Cloud Spanner*](https://cloud.google.com/spanner).\n",
    "* [*Cloud Firestore*/*Datastore*](https://cloud.google.com/firestore).\n",
    "* [*Cloud Memorystore*](https://cloud.google.com/memorystore).\n",
    "* [*Cloud Bigtable*](https://cloud.google.com/bigtable)."
   ]
  },
  {
   "cell_type": "markdown",
   "metadata": {},
   "source": [
    "### Big Data y apredizaje automático.\n",
    "\n",
    "* [*BigQuery*](https://cloud.google.com/bigquery).\n",
    "* [*Cloud Composer*](https://cloud.google.com/composer).\n",
    "* [*Cloud Dataflow*](https://cloud.google.com/dataflow).\n",
    "* [*Cloud Dataproc*](https://cloud.google.com/dataproc).\n",
    "* [*Cloud Data Catalog*](https://cloud.google.com/data-catalog).\n",
    "* [*Cloud Data Fusion*](https://cloud.google.com/data-fusion).\n",
    "* [*Cloud Pub/Sub*](https://cloud.google.com/pubsub).\n",
    "* [*Cloud Life Sciences*](https://cloud.google.com/life-sciences)."
   ]
  },
  {
   "cell_type": "markdown",
   "metadata": {},
   "source": [
    "### Analitca.\n",
    "\n",
    "* [*DataLab*](https://cloud.google.com/datalab).\n",
    "* [*DataStudio*](https://datastudio.google.com/)."
   ]
  },
  {
   "cell_type": "markdown",
   "metadata": {},
   "source": [
    "### Redes.\n",
    "\n",
    "* [*Nubes Privadas Virtuales* (*VPC*)](Datas).\n",
    "* [*Cloud Load Balancing*](https://cloud.google.com/load-balancing).\n",
    "* [*Cloud Interconnect*](https://cloud.google.com/network-connectivity/docs/interconnect). \n",
    "* [*Cloud CDN*](https://cloud.google.com/cdn).\n",
    "* [*Cloud DNS*](https://cloud.google.com/dns).\n",
    "* [*Cloud Armor*](https://cloud.google.com/armor).\n",
    "* [*Network Intelligence Center*](https://cloud.google.com/network-intelligence-center).\n",
    "* [*Traffic Director*](https://cloud.google.com/traffic-director)."
   ]
  },
  {
   "cell_type": "markdown",
   "metadata": {},
   "source": [
    "### Servicios de seguridad e identidad.\n",
    "\n",
    "* [*Gestión de Identidades y Acceso* (*IAM*)](https://cloud.google.com/iam).\n",
    "* [*Secret Manager*](https://cloud.google.com/secret-manager).\n",
    "* [*Security Command Center*](https://cloud.google.com/security-command-center).\n",
    "* [*Cloud Data Loss Prevention*](https://cloud.google.com/dlp).\n",
    "* [*Cloud Key Management Service*](https://cloud.google.com/kms).\n",
    "* [*Cloud EKM*](https://cloud.google.com/ekm).\n",
    "* [*Cloud HSM*](https://cloud.google.com/hsm)."
   ]
  },
  {
   "cell_type": "markdown",
   "metadata": {},
   "source": [
    "### Integración de Aplicaciones.\n",
    "\n",
    "* [*API Gateway*](https://cloud.google.com/api-gateway).\n",
    "* [*Cloud Scheduler*](https://cloud.google.com/scheduler).\n",
    "* [*Cloud Tasks*](https://cloud.google.com/tasks).\n",
    "* [*Workflows*](https://cloud.google.com/workflows)."
   ]
  },
  {
   "cell_type": "markdown",
   "metadata": {},
   "source": [
    "### Gestión de *APIs*.\n",
    "\n",
    "* [*Apigee*](https://cloud.google.com/apigee)."
   ]
  },
  {
   "cell_type": "markdown",
   "metadata": {},
   "source": [
    "### Contenido de multimedia y videojuegos.\n",
    "\n",
    "* [*API Transcoder*](https://cloud.google.com/transcoder)."
   ]
  },
  {
   "cell_type": "markdown",
   "metadata": {},
   "source": [
    "### Sanidad y ciencias biológicas.\n",
    "\n",
    "* [*API de Cloud Healthcare*](https://cloud.google.com/healthcare-api). "
   ]
  },
  {
   "cell_type": "markdown",
   "metadata": {},
   "source": [
    "### Herramientas de desarrollo.\n",
    "\n",
    "* [*Cloud Build*](https://cloud.google.com/build).\n",
    "* [*Container Registry*](https://cloud.google.com/container-registry).\n",
    "* [*Artifact Registry*](https://cloud.google.com/artifact-registry).\n",
    "* [*Google Cloud Deploy*](https://cloud.google.com/deploy).\n",
    "* [*Cloud Source Repositories*](https://cloud.google.com/source-repositories)."
   ]
  },
  {
   "cell_type": "markdown",
   "metadata": {},
   "source": [
    "## Interface de acceso a *GCP*.\n",
    "\n",
    "* [*API* de Google Cloud](https://cloud.google.com/apis/docs/overview).\n",
    "    * https://cloud.google.com/monitoring/api/apis-explorer\n",
    "* [Consola web](console.cloud.google.com/).\n",
    "* La interfaz de línea de comandos (*CLI*) mediante el [*Google Cloud SDK*](https://cloud.google.com/sdk).\n",
    "* La aplicación móvil."
   ]
  },
  {
   "cell_type": "markdown",
   "metadata": {},
   "source": [
    "## *Cloud Shell*.\n",
    "\n",
    "* En la consola web.\n",
    "* Instalado en la máquina local conb el *Google Cloud SDK*.\n",
    "* Como una imagen de *Docker*."
   ]
  },
  {
   "cell_type": "markdown",
   "metadata": {},
   "source": [
    "<p style=\"text-align: center\"><a rel=\"license\" href=\"http://creativecommons.org/licenses/by/4.0/\"><img alt=\"Licencia Creative Commons\" style=\"border-width:0\" src=\"https://i.creativecommons.org/l/by/4.0/80x15.png\" /></a><br />Esta obra está bajo una <a rel=\"license\" href=\"http://creativecommons.org/licenses/by/4.0/\">Licencia Creative Commons Atribución 4.0 Internacional</a>.</p>\n",
    "<p style=\"text-align: center\">&copy; José Luis Chiquete Valdivieso. 2021.</p>"
   ]
  }
 ],
 "metadata": {
  "kernelspec": {
   "display_name": "Python 3 (ipykernel)",
   "language": "python",
   "name": "python3"
  },
  "language_info": {
   "codemirror_mode": {
    "name": "ipython",
    "version": 3
   },
   "file_extension": ".py",
   "mimetype": "text/x-python",
   "name": "python",
   "nbconvert_exporter": "python",
   "pygments_lexer": "ipython3",
   "version": "3.9.7"
  }
 },
 "nbformat": 4,
 "nbformat_minor": 2
}
