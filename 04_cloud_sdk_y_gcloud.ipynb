{
 "cells": [
  {
   "cell_type": "markdown",
   "metadata": {},
   "source": [
    "[![cloudevel](img/cloudevel.png)](https://cloudevel.com)"
   ]
  },
  {
   "cell_type": "markdown",
   "metadata": {},
   "source": [
    "# SDK de Google Cloud."
   ]
  },
  {
   "cell_type": "markdown",
   "metadata": {},
   "source": [
    "https://cloud.google.com/sdk/"
   ]
  },
  {
   "cell_type": "markdown",
   "metadata": {},
   "source": [
    "https://cloud.google.com/sdk/gcloud/reference/"
   ]
  },
  {
   "cell_type": "markdown",
   "metadata": {},
   "source": [
    "https://cloud.google.com/sdk/docs/cheatsheet"
   ]
  },
  {
   "cell_type": "markdown",
   "metadata": {},
   "source": [
    "## El comando ```glcoud```."
   ]
  },
  {
   "cell_type": "markdown",
   "metadata": {},
   "source": [
    "```\n",
    "gcloud <subcomandos> <argumentos> <parámetros>\n",
    "```"
   ]
  },
  {
   "cell_type": "markdown",
   "metadata": {},
   "source": [
    "## Inicializacion de un perfil.\n",
    "\n",
    "```\n",
    "gcloud init\n",
    "```\n",
    "\n",
    "https://cloud.google.com/sdk/gcloud/reference/init"
   ]
  },
  {
   "cell_type": "markdown",
   "metadata": {},
   "source": [
    "## Gestión de proyectos asignados a un perfil.\n",
    "\n",
    "\n",
    "```\n",
    "gcloud projects <subcomandos> <argumentos>\n",
    "```"
   ]
  },
  {
   "cell_type": "markdown",
   "metadata": {},
   "source": [
    "### Listado de proyectos.\n",
    "\n",
    "```\n",
    "gcloud projects list\n",
    "````"
   ]
  },
  {
   "cell_type": "markdown",
   "metadata": {},
   "source": [
    "```\n",
    "gcloud projects list\n",
    "```\n",
    "\n",
    "```\n",
    "PROJECT_ID          NAME                PROJECT_NUMBER\n",
    "rosy-decker-327500  My First Project    165561255349\n",
    "tercera-generacion  tercera-generacion  352984998647\n",
    "vernal-zone-320021  My First Project    782840754763\n",
    "\n",
    "```"
   ]
  },
  {
   "cell_type": "markdown",
   "metadata": {},
   "source": [
    "### Descripción de un proyecto.\n",
    "\n",
    "```\n",
    "gcloud projects describe <proyecto>\n",
    "```"
   ]
  },
  {
   "cell_type": "markdown",
   "metadata": {},
   "source": [
    "```\n",
    "gcloud projects describe rosy-decker-327500\n",
    "```\n",
    "\n",
    "```\n",
    "createTime: '2021-09-29T00:04:55.629Z'\n",
    "lifecycleState: ACTIVE\n",
    "name: My First Project\n",
    "projectId: rosy-decker-327500\n",
    "projectNumber: '165561255349'\n",
    "```"
   ]
  },
  {
   "cell_type": "markdown",
   "metadata": {},
   "source": [
    "```\n",
    "gcloud projects describe \"tercera-generacion\"\n",
    "```\n",
    "```\n",
    "createTime: '2021-09-22T23:43:43.475Z'\n",
    "lifecycleState: ACTIVE\n",
    "name: tercera-generacion\n",
    "parent:\n",
    "  id: '26399341850'\n",
    "  type: folder\n",
    "projectId: tercera-generacion\n",
    "projectNumber: '352984998647'\n",
    "```"
   ]
  },
  {
   "cell_type": "markdown",
   "metadata": {},
   "source": [
    "```\n",
    "gcloud projects describe '165561255349'\n",
    "```\n",
    "\n",
    "```\n",
    "createTime: '2021-09-29T00:04:55.629Z'\n",
    "lifecycleState: ACTIVE\n",
    "name: My First Project\n",
    "projectId: rosy-decker-327500\n",
    "projectNumber: '165561255349'\n",
    "```"
   ]
  },
  {
   "cell_type": "markdown",
   "metadata": {},
   "source": [
    "### Listado de usuarios de un projecto."
   ]
  },
  {
   "cell_type": "code",
   "execution_count": null,
   "metadata": {
    "scrolled": true
   },
   "outputs": [],
   "source": [
    "gcloud projects get-iam-policy tercera-generacion"
   ]
  },
  {
   "cell_type": "code",
   "execution_count": null,
   "metadata": {},
   "outputs": [],
   "source": [
    "gcloud projects get-iam-policy tercera-generacion --flatten=\"bindings[].members\""
   ]
  },
  {
   "cell_type": "code",
   "execution_count": null,
   "metadata": {},
   "outputs": [],
   "source": [
    "gcloud projects get-iam-policy tercera-generacion --filter=\"bindings.role=roles/Owner\""
   ]
  },
  {
   "cell_type": "code",
   "execution_count": null,
   "metadata": {},
   "outputs": [],
   "source": []
  },
  {
   "cell_type": "code",
   "execution_count": null,
   "metadata": {},
   "outputs": [],
   "source": [
    "gcloud projects get-iam-policy tercera-generacion --flatten=\"bindings[].members\" \\\n",
    "--filter=\"bindings.role=roles/Owner\" --format=\"value(bindings.members)\""
   ]
  },
  {
   "cell_type": "markdown",
   "metadata": {},
   "source": [
    "## Gestión de la configuración del entorno.\n",
    "\n",
    "```\n",
    "gcloud config <subcomandos> <argumentos> \n",
    "```\n",
    "\n",
    "https://cloud.google.com/sdk/gcloud/reference/config/|"
   ]
  },
  {
   "cell_type": "markdown",
   "metadata": {},
   "source": [
    "### Listado de la configuración actual.\n",
    "\n",
    "```\n",
    "gcloud config list\n",
    "```"
   ]
  },
  {
   "cell_type": "markdown",
   "metadata": {},
   "source": [
    "```\n",
    "gcloud config list\n",
    "```\n",
    "\n",
    "```\n",
    "[compute]\n",
    "region = us-central1\n",
    "zone = us-central1-c\n",
    "[core]\n",
    "account = jlchiquete@syesoftware.com\n",
    "disable_usage_reporting = True\n",
    "project = tercera-generacion\n",
    "\n",
    "Your active configuration is: [sye-software]\n",
    "```"
   ]
  },
  {
   "cell_type": "markdown",
   "metadata": {},
   "source": [
    "### Obtención de un valor de la configuracion actual.\n",
    "\n",
    "```\n",
    "gcloud config get-value <campo>\n",
    "```"
   ]
  },
  {
   "cell_type": "markdown",
   "metadata": {},
   "source": [
    "```\n",
    "gcloud config get-value account\n",
    "```\n",
    "\n",
    "```\n",
    "josech@gmail.com\n",
    "```"
   ]
  },
  {
   "cell_type": "markdown",
   "metadata": {},
   "source": [
    "```\n",
    "gcloud config get-value project\n",
    "```\n",
    "\n",
    "```\n",
    "qualtop-curso\n",
    "```"
   ]
  },
  {
   "cell_type": "markdown",
   "metadata": {},
   "source": [
    "```\n",
    "gcloud config get-value compute/zone\n",
    "```\n",
    "\n",
    "```\n",
    "Your active configuration is: [sye-software]\n",
    "us-central1-c\n",
    "```"
   ]
  },
  {
   "cell_type": "markdown",
   "metadata": {},
   "source": [
    "\n",
    "## Asignación o modificación de un campo de la configuración actual. \n",
    "\n",
    "```\n",
    "gcloud config set <campo> <valor>\n",
    "```"
   ]
  },
  {
   "cell_type": "markdown",
   "metadata": {},
   "source": [
    "```\n",
    "gcloud config set project \"rosy-decker-327500\"\n",
    "```\n",
    "\n",
    "```\n",
    "Updated property [core/project].\n",
    "```"
   ]
  },
  {
   "cell_type": "markdown",
   "metadata": {},
   "source": [
    "```\n",
    "gcloud config set compute/zone \"us-central1-c\"\n",
    "```\n",
    "\n",
    "```\n",
    "Updated property [compute/zone].\n",
    "API [compute.googleapis.com] not enabled on project [165561255349]. \n",
    "Would you like to enable and retry (this will take a few minutes)? \n",
    "(y/N)? \n",
    "```"
   ]
  },
  {
   "cell_type": "markdown",
   "metadata": {},
   "source": [
    "## Gestión de las configuraciones disponibles."
   ]
  },
  {
   "cell_type": "markdown",
   "metadata": {},
   "source": [
    "```\n",
    "gcloud config configurations <subcomandos> <argumentos>\n",
    "```"
   ]
  },
  {
   "cell_type": "markdown",
   "metadata": {},
   "source": [
    "### Listado de las configuraciones disponibles.\n",
    "\n",
    "```\n",
    "gcloud config configurations list\n",
    "```"
   ]
  },
  {
   "cell_type": "markdown",
   "metadata": {},
   "source": [
    "```\n",
    "gcloud config configurations list\n",
    "```\n",
    "``` bash\n",
    "NAME          IS_ACTIVE  ACCOUNT                     PROJECT             COMPUTE_DEFAULT_ZONE  COMPUTE_DEFAULT_REGION\n",
    "default       False      josech@gmail.com            qualtop-curso\n",
    "pythonistamx  False      admin@pythonista.mx         qualtop-curso       us-central1-c         us-central1\n",
    "sye-software  True       jlchiquete@syesoftware.com  tercera-generacion  us-central1-c         us-central1\n",
    "```"
   ]
  },
  {
   "cell_type": "markdown",
   "metadata": {},
   "source": [
    "### Descripción de las configuraciones disponibles.\n",
    "\n",
    "```\n",
    "gcloud config configurations describe <nombre>\n",
    "```"
   ]
  },
  {
   "cell_type": "markdown",
   "metadata": {},
   "source": [
    "```\n",
    "gcloud config configurations describe default\n",
    "```\n",
    "\n",
    "```\n",
    "s_active: false\n",
    "name: default\n",
    "properties:\n",
    "  core:\n",
    "    account: josech@gmail.com\n",
    "    disable_usage_reporting: 'False'\n",
    "    project: qualtop-curso\n",
    "```"
   ]
  },
  {
   "cell_type": "markdown",
   "metadata": {},
   "source": [
    "### Activación de una configuración.\n",
    "\n",
    "```\n",
    "gcloud config configurations activate <nombre>\n",
    "```"
   ]
  },
  {
   "cell_type": "markdown",
   "metadata": {},
   "source": [
    "\n",
    "```\n",
    "gcloud config configurations activate sye-softwargcloud config configurations activate sye-software\n",
    "```\n",
    "\n",
    "```\n",
    "Activated [sye-software].\n",
    "```"
   ]
  },
  {
   "cell_type": "markdown",
   "metadata": {},
   "source": [
    "<p style=\"text-align: center\"><a rel=\"license\" href=\"http://creativecommons.org/licenses/by/4.0/\"><img alt=\"Licencia Creative Commons\" style=\"border-width:0\" src=\"https://i.creativecommons.org/l/by/4.0/80x15.png\" /></a><br />Esta obra está bajo una <a rel=\"license\" href=\"http://creativecommons.org/licenses/by/4.0/\">Licencia Creative Commons Atribución 4.0 Internacional</a>.</p>\n",
    "<p style=\"text-align: center\">&copy; José Luis Chiquete Valdivieso. 2021.</p>"
   ]
  }
 ],
 "metadata": {
  "kernelspec": {
   "display_name": "Bash",
   "language": "bash",
   "name": "bash"
  },
  "language_info": {
   "codemirror_mode": "shell",
   "file_extension": ".sh",
   "mimetype": "text/x-sh",
   "name": "bash"
  }
 },
 "nbformat": 4,
 "nbformat_minor": 2
}
