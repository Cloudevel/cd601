{
 "cells": [
  {
   "cell_type": "markdown",
   "metadata": {},
   "source": [
    "[![cloudevel](img/cloudevel.png)](https://cloudevel.com)"
   ]
  },
  {
   "cell_type": "markdown",
   "metadata": {},
   "source": [
    "# Compute firewalls."
   ]
  },
  {
   "cell_type": "markdown",
   "metadata": {},
   "source": [
    "##  Firewalls.\n",
    "\n",
    "https://cloud.google.com/vpc/docs/firewalls"
   ]
  },
  {
   "cell_type": "code",
   "execution_count": 12,
   "metadata": {},
   "outputs": [
    {
     "name": "stdout",
     "output_type": "stream",
     "text": [
      "{[?2004l\n",
      "  \"firewalls\": [\n",
      "    {\n",
      "      \"allowed\": [\n",
      "        {\n",
      "          \"IPProtocol\": \"tcp\",\n",
      "          \"ports\": [\n",
      "            \"80\"\n",
      "          ]\n",
      "        }\n",
      "      ],\n",
      "      \"creationTimestamp\": \"2021-10-17T12:10:01.806-07:00\",\n",
      "      \"description\": \"\",\n",
      "      \"direction\": \"INGRESS\",\n",
      "      \"disabled\": false,\n",
      "      \"id\": \"4157466274877787110\",\n",
      "      \"kind\": \"compute#firewall\",\n",
      "      \"logConfig\": {\n",
      "        \"enable\": false\n",
      "      },\n",
      "      \"name\": \"default-allow-http\",\n",
      "      \"network\": \"https://www.googleapis.com/compute/v1/projects/tercera-generacion/global/networks/default\",\n",
      "      \"priority\": 1000,\n",
      "      \"selfLink\": \"https://www.googleapis.com/compute/v1/projects/tercera-generacion/global/firewalls/default-allow-http\",\n",
      "      \"sourceRanges\": [\n",
      "        \"0.0.0.0/0\"\n",
      "      ],\n",
      "      \"targetTags\": [\n",
      "        \"http-server\"\n",
      "      ]\n",
      "    },\n",
      "    {\n",
      "      \"allowed\": [\n",
      "        {\n",
      "          \"IPProtocol\": \"tcp\",\n",
      "          \"ports\": [\n",
      "            \"443\"\n",
      "          ]\n",
      "        }\n",
      "      ],\n",
      "      \"creationTimestamp\": \"2021-10-17T12:10:02.269-07:00\",\n",
      "      \"description\": \"\",\n",
      "      \"direction\": \"INGRESS\",\n",
      "      \"disabled\": false,\n",
      "      \"id\": \"5924767337755560933\",\n",
      "      \"kind\": \"compute#firewall\",\n",
      "      \"logConfig\": {\n",
      "        \"enable\": false\n",
      "      },\n",
      "      \"name\": \"default-allow-https\",\n",
      "      \"network\": \"https://www.googleapis.com/compute/v1/projects/tercera-generacion/global/networks/default\",\n",
      "      \"priority\": 1000,\n",
      "      \"selfLink\": \"https://www.googleapis.com/compute/v1/projects/tercera-generacion/global/firewalls/default-allow-https\",\n",
      "      \"sourceRanges\": [\n",
      "        \"0.0.0.0/0\"\n",
      "      ],\n",
      "      \"targetTags\": [\n",
      "        \"https-server\"\n",
      "      ]\n",
      "    },\n",
      "    {\n",
      "      \"allowed\": [\n",
      "        {\n",
      "          \"IPProtocol\": \"tcp\",\n",
      "          \"ports\": [\n",
      "            \"3389\"\n",
      "          ]\n",
      "        }\n",
      "      ],\n",
      "      \"creationTimestamp\": \"2021-09-29T16:36:31.808-07:00\",\n",
      "      \"description\": \"Allow RDP from anywhere\",\n",
      "      \"direction\": \"INGRESS\",\n",
      "      \"disabled\": false,\n",
      "      \"id\": \"6720475768112629392\",\n",
      "      \"kind\": \"compute#firewall\",\n",
      "      \"logConfig\": {\n",
      "        \"enable\": false\n",
      "      },\n",
      "      \"name\": \"default-allow-rdp\",\n",
      "      \"network\": \"https://www.googleapis.com/compute/v1/projects/tercera-generacion/global/networks/default\",\n",
      "      \"priority\": 65534,\n",
      "      \"selfLink\": \"https://www.googleapis.com/compute/v1/projects/tercera-generacion/global/firewalls/default-allow-rdp\",\n",
      "      \"sourceRanges\": [\n",
      "        \"0.0.0.0/0\"\n",
      "      ]\n",
      "    },\n",
      "    {\n",
      "      \"allowed\": [\n",
      "        {\n",
      "          \"IPProtocol\": \"tcp\",\n",
      "          \"ports\": [\n",
      "            \"0-65535\"\n",
      "          ]\n",
      "        },\n",
      "        {\n",
      "          \"IPProtocol\": \"udp\",\n",
      "          \"ports\": [\n",
      "            \"0-65535\"\n",
      "          ]\n",
      "        },\n",
      "        {\n",
      "          \"IPProtocol\": \"icmp\"\n",
      "        }\n",
      "      ],\n",
      "      \"creationTimestamp\": \"2021-09-29T16:36:31.801-07:00\",\n",
      "      \"description\": \"Allow internal traffic on the default network\",\n",
      "      \"direction\": \"INGRESS\",\n",
      "      \"disabled\": false,\n",
      "      \"id\": \"3747333787587528336\",\n",
      "      \"kind\": \"compute#firewall\",\n",
      "      \"logConfig\": {\n",
      "        \"enable\": false\n",
      "      },\n",
      "      \"name\": \"default-allow-internal\",\n",
      "      \"network\": \"https://www.googleapis.com/compute/v1/projects/tercera-generacion/global/networks/default\",\n",
      "      \"priority\": 65534,\n",
      "      \"selfLink\": \"https://www.googleapis.com/compute/v1/projects/tercera-generacion/global/firewalls/default-allow-internal\",\n",
      "      \"sourceRanges\": [\n",
      "        \"10.128.0.0/9\"\n",
      "      ]\n",
      "    },\n",
      "    {\n",
      "      \"allowed\": [\n",
      "        {\n",
      "          \"IPProtocol\": \"tcp\",\n",
      "          \"ports\": [\n",
      "            \"22\"\n",
      "          ]\n",
      "        }\n",
      "      ],\n",
      "      \"creationTimestamp\": \"2021-09-29T16:36:31.805-07:00\",\n",
      "      \"description\": \"Allow SSH from anywhere\",\n",
      "      \"direction\": \"INGRESS\",\n",
      "      \"disabled\": false,\n",
      "      \"id\": \"6134090888281409168\",\n",
      "      \"kind\": \"compute#firewall\",\n",
      "      \"logConfig\": {\n",
      "        \"enable\": false\n",
      "      },\n",
      "      \"name\": \"default-allow-ssh\",\n",
      "      \"network\": \"https://www.googleapis.com/compute/v1/projects/tercera-generacion/global/networks/default\",\n",
      "      \"priority\": 65534,\n",
      "      \"selfLink\": \"https://www.googleapis.com/compute/v1/projects/tercera-generacion/global/firewalls/default-allow-ssh\",\n",
      "      \"sourceRanges\": [\n",
      "        \"0.0.0.0/0\"\n",
      "      ]\n",
      "    },\n",
      "    {\n",
      "      \"allowed\": [\n",
      "        {\n",
      "          \"IPProtocol\": \"icmp\"\n",
      "        }\n",
      "      ],\n",
      "      \"creationTimestamp\": \"2021-09-29T16:36:31.812-07:00\",\n",
      "      \"description\": \"Allow ICMP from anywhere\",\n",
      "      \"direction\": \"INGRESS\",\n",
      "      \"disabled\": false,\n",
      "      \"id\": \"7944062519964419728\",\n",
      "      \"kind\": \"compute#firewall\",\n",
      "      \"logConfig\": {\n",
      "        \"enable\": false\n",
      "      },\n",
      "      \"name\": \"default-allow-icmp\",\n",
      "      \"network\": \"https://www.googleapis.com/compute/v1/projects/tercera-generacion/global/networks/default\",\n",
      "      \"priority\": 65534,\n",
      "      \"selfLink\": \"https://www.googleapis.com/compute/v1/projects/tercera-generacion/global/firewalls/default-allow-icmp\",\n",
      "      \"sourceRanges\": [\n",
      "        \"0.0.0.0/0\"\n",
      "      ]\n",
      "    }\n",
      "  ]\n",
      "}\n",
      "\u001b[?2004h"
     ]
    },
    {
     "ename": "",
     "evalue": "1",
     "output_type": "error",
     "traceback": []
    }
   ],
   "source": [
    "gcloud compute networks get-effective-firewalls default --format=json"
   ]
  },
  {
   "cell_type": "code",
   "execution_count": 18,
   "metadata": {},
   "outputs": [
    {
     "name": "stdout",
     "output_type": "stream",
     "text": [
      "NAME                    NETWORK  DIRECTION  PRIORITY  ALLOW                         DENY  DISABLED\n",
      "default-allow-http      default  INGRESS    1000      tcp:80                              False\n",
      "default-allow-https     default  INGRESS    1000      tcp:443                             False\n",
      "default-allow-icmp      default  INGRESS    65534     icmp                                False\n",
      "default-allow-internal  default  INGRESS    65534     tcp:0-65535,udp:0-65535,icmp        False\n",
      "default-allow-rdp       default  INGRESS    65534     tcp:3389                            False\n",
      "default-allow-ssh       default  INGRESS    65534     tcp:22                              False\n",
      "\n",
      "To show all fields of the firewall, please show in JSON format: --format=json\n",
      "To show all fields in table format, please see the examples in --help.\n",
      "\n",
      "\u001b[?2004h"
     ]
    },
    {
     "ename": "",
     "evalue": "1",
     "output_type": "error",
     "traceback": []
    }
   ],
   "source": [
    "gcloud compute firewall-rules list"
   ]
  },
  {
   "cell_type": "markdown",
   "metadata": {},
   "source": [
    "### Reglas.\n",
    "\n",
    "* ```Direction```: ```ingress```o ```egress```.\n",
    "* ```Priority```: 0 a 65535\n",
    "* ```Action```: ```allow```o ```deny```\n",
    "* ```Target```: instancias.\n",
    "* ```Source/destination``` \n",
    "* ```Protocol``` y ```port```: ```TCP```, ```UDP```o ```ICMP```.\n",
    "* ```Enforment status```: ```enabled``` o ```disabled```."
   ]
  },
  {
   "cell_type": "markdown",
   "metadata": {},
   "source": [
    "2 reglas por defecto con prioridad 65535:\n",
    "* Permite la salida a 0.0.0.0/0\n",
    "* Niega tráfico de entrada a 0.0.0.0/0"
   ]
  },
  {
   "cell_type": "markdown",
   "metadata": {},
   "source": [
    "#### Reglas al crear una VPC.\n",
    "\n",
    "    Incoming traffic from any VM instance on the same network\n",
    "    Incoming TCP traffic on port 22, allowing SSH\n",
    "    Incoming TCP traffic on port 3389, allowing Microsoft Remote Desktop Protocol (RDP)\n",
    "    Incoming Internet Control Message Protocol (ICMP) from any source on the network"
   ]
  },
  {
   "cell_type": "markdown",
   "metadata": {},
   "source": [
    "```\n",
    "gcloud compute firewall-rules\n",
    "```\n",
    "\n",
    "--action\n",
    "--allow\n",
    "--description\n",
    "--destination-ranges\n",
    "--direction\n",
    "--network\n",
    "--priority\n",
    "--source-ranges\n",
    "--source-service-accounts\n",
    "--source-tags\n",
    "--target-service-accounts\n",
    "--target-tags"
   ]
  },
  {
   "cell_type": "markdown",
   "metadata": {},
   "source": [
    "```\n",
    "gcloud compute firewall-rules create ace-exam-fwr2 –-network ace-exam-vpc1 –-allow tcp:20000-25000\n",
    "```"
   ]
  },
  {
   "cell_type": "markdown",
   "metadata": {},
   "source": []
  },
  {
   "cell_type": "markdown",
   "metadata": {},
   "source": []
  },
  {
   "cell_type": "markdown",
   "metadata": {},
   "source": []
  },
  {
   "cell_type": "markdown",
   "metadata": {},
   "source": []
  },
  {
   "cell_type": "markdown",
   "metadata": {},
   "source": []
  },
  {
   "cell_type": "markdown",
   "metadata": {},
   "source": []
  },
  {
   "cell_type": "markdown",
   "metadata": {},
   "source": []
  },
  {
   "cell_type": "markdown",
   "metadata": {},
   "source": []
  },
  {
   "cell_type": "markdown",
   "metadata": {},
   "source": [
    "<p style=\"text-align: center\"><a rel=\"license\" href=\"http://creativecommons.org/licenses/by/4.0/\"><img alt=\"Licencia Creative Commons\" style=\"border-width:0\" src=\"https://i.creativecommons.org/l/by/4.0/80x15.png\" /></a><br />Esta obra está bajo una <a rel=\"license\" href=\"http://creativecommons.org/licenses/by/4.0/\">Licencia Creative Commons Atribución 4.0 Internacional</a>.</p>\n",
    "<p style=\"text-align: center\">&copy; José Luis Chiquete Valdivieso. 2021.</p>"
   ]
  }
 ],
 "metadata": {
  "kernelspec": {
   "display_name": "Bash",
   "language": "bash",
   "name": "bash"
  },
  "language_info": {
   "codemirror_mode": "shell",
   "file_extension": ".sh",
   "mimetype": "text/x-sh",
   "name": "bash"
  }
 },
 "nbformat": 4,
 "nbformat_minor": 2
}
