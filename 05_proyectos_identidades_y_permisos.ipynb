{
 "cells": [
  {
   "cell_type": "markdown",
   "metadata": {},
   "source": [
    "[![cloudevel](img/cloudevel.png)](https://cloudevel.com)"
   ]
  },
  {
   "cell_type": "markdown",
   "metadata": {},
   "source": [
    "# Proyectos, identidades y permisos."
   ]
  },
  {
   "cell_type": "markdown",
   "metadata": {},
   "source": [
    "## Gestión de proyectos."
   ]
  },
  {
   "cell_type": "markdown",
   "metadata": {},
   "source": [
    "```\n",
    "gcloud projects <subcomandos> <argumentos>\n",
    "```\n",
    "\n",
    "https://cloud.google.com/sdk/gcloud/reference/projects"
   ]
  },
  {
   "cell_type": "markdown",
   "metadata": {},
   "source": [
    "### Listado de proyectos.\n",
    "\n",
    "```\n",
    "gcloud projects list <argumentos>\n",
    "````"
   ]
  },
  {
   "cell_type": "markdown",
   "metadata": {},
   "source": [
    "```\n",
    "gcloud projects list\n",
    "```\n",
    "\n",
    "```\n",
    "PROJECT_ID          NAME                PROJECT_NUMBER\n",
    "rosy-decker-327500  My First Project    165561255349\n",
    "tercera-generacion  tercera-generacion  352984998647\n",
    "vernal-zone-320021  My First Project    782840754763\n",
    "\n",
    "```"
   ]
  },
  {
   "cell_type": "markdown",
   "metadata": {},
   "source": [
    "### Descripción de un proyecto.\n",
    "\n",
    "```\n",
    "gcloud projects describe <proyecto> <argumentos>\n",
    "```"
   ]
  },
  {
   "cell_type": "markdown",
   "metadata": {},
   "source": [
    "```\n",
    "gcloud projects describe rosy-decker-327500\n",
    "```\n",
    "\n",
    "```\n",
    "createTime: '2021-09-29T00:04:55.629Z'\n",
    "lifecycleState: ACTIVE\n",
    "name: My First Project\n",
    "projectId: rosy-decker-327500\n",
    "projectNumber: '165561255349'\n",
    "```"
   ]
  },
  {
   "cell_type": "markdown",
   "metadata": {},
   "source": [
    "```\n",
    "gcloud projects describe \"tercera-generacion\"\n",
    "```\n",
    "```\n",
    "createTime: '2021-09-22T23:43:43.475Z'\n",
    "lifecycleState: ACTIVE\n",
    "name: tercera-generacion\n",
    "parent:\n",
    "  id: '26399341850'\n",
    "  type: folder\n",
    "projectId: tercera-generacion\n",
    "projectNumber: '352984998647'\n",
    "```"
   ]
  },
  {
   "cell_type": "markdown",
   "metadata": {},
   "source": [
    "```\n",
    "gcloud projects describe '165561255349'\n",
    "```\n",
    "\n",
    "```\n",
    "createTime: '2021-09-29T00:04:55.629Z'\n",
    "lifecycleState: ACTIVE\n",
    "name: My First Project\n",
    "projectId: rosy-decker-327500\n",
    "projectNumber: '165561255349'\n",
    "```"
   ]
  },
  {
   "cell_type": "markdown",
   "metadata": {},
   "source": [
    "### Consulta de los antecesores de un proyecto."
   ]
  },
  {
   "cell_type": "code",
   "execution_count": null,
   "metadata": {},
   "outputs": [],
   "source": [
    "gcloud projects get-ancestors tercera-generacion"
   ]
  },
  {
   "cell_type": "code",
   "execution_count": null,
   "metadata": {},
   "outputs": [],
   "source": []
  },
  {
   "cell_type": "markdown",
   "metadata": {},
   "source": [
    "### Listado de usuarios de un projecto."
   ]
  },
  {
   "cell_type": "code",
   "execution_count": 11,
   "metadata": {
    "scrolled": true
   },
   "outputs": [
    {
     "name": "stdout",
     "output_type": "stream",
     "text": [
      "bindings:\n",
      "- members:\n",
      "  - serviceAccount:352984998647@cloudbuild.gserviceaccount.com\n",
      "  role: roles/cloudbuild.builds.builder\n",
      "- members:\n",
      "  - serviceAccount:service-352984998647@gcp-sa-cloudbuild.iam.gserviceaccount.com\n",
      "  role: roles/cloudbuild.serviceAgent\n",
      "- members:\n",
      "  - user:eran79mx@gmail.com\n",
      "  - user:lmelendez@syesoftware.com\n",
      "  role: roles/compute.admin\n",
      "- members:\n",
      "  - serviceAccount:service-352984998647@compute-system.iam.gserviceaccount.com\n",
      "  role: roles/compute.serviceAgent\n",
      "- members:\n",
      "  - serviceAccount:service-352984998647@container-engine-robot.iam.gserviceaccount.com\n",
      "  role: roles/container.serviceAgent\n",
      "- members:\n",
      "  - serviceAccount:service-352984998647@containerregistry.iam.gserviceaccount.com\n",
      "  role: roles/containerregistry.ServiceAgent\n",
      "- members:\n",
      "  - serviceAccount:352984998647-compute@developer.gserviceaccount.com\n",
      "  - serviceAccount:352984998647@cloudservices.gserviceaccount.com\n",
      "  role: roles/editor\n",
      "- members:\n",
      "  - user:eran79mx@gmail.com\n",
      "  - user:lmelendez@syesoftware.com\n",
      "  role: roles/iam.serviceAccountUser\n",
      "- members:\n",
      "  - serviceAccount:tercera-generacion-admin@tercera-generacion.iam.gserviceaccount.com\n",
      "  - user:google_cloud@syesoftware.com\n",
      "  - user:jlchiquete@syesoftware.com\n",
      "  role: roles/owner\n",
      "- members:\n",
      "  - serviceAccount:service-352984998647@gcp-sa-pubsub.iam.gserviceaccount.com\n",
      "  role: roles/pubsub.serviceAgent\n",
      "- members:\n",
      "  - user:eran79mx@gmail.com\n",
      "  - user:lmelendez@syesoftware.com\n",
      "  role: roles/resourcemanager.projectIamAdmin\n",
      "- members:\n",
      "  - user:alberto.contreras@syesoftware.com\n",
      "  - user:alberto.juarez@syesoftware.com\n",
      "  - user:alejandra.vanegas@syesoftware.com\n",
      "  - user:alejandro.miguel@syesoftware.com\n",
      "  - user:amartinezm@syesoftware.com\n",
      "  - user:brandon.contreras@syesoftware.com\n",
      "  - user:cgarciap@syesoftware.com\n",
      "  - user:david.guadarrama@syesoftware.com\n",
      "  - user:ehurtado@syesoftware.com\n",
      "  - user:ejaime@syesoftware.com\n",
      "  - user:eran79mx@gmail.com\n",
      "  - user:fabian.estrella@syesoftware.com\n",
      "  - user:fernando.sanchez@syesoftware.com\n",
      "  - user:ferodriguezg@syesoftware.com\n",
      "  - user:gabriela.robles@syesoftware.com\n",
      "  - user:gmunguia@syesoftware.com\n",
      "  - user:gsanchezt@syesoftware.com\n",
      "  - user:hugo.carachure@syesoftware.com\n",
      "  - user:isaac.diaz@syesoftware.com\n",
      "  - user:isael.gonzalez@syesoftware.com\n",
      "  - user:ivonne.chavez@syesoftware.com\n",
      "  - user:joaquin.gama@syesoftware.com\n",
      "  - user:jorge.tenjay@syesoftware.com\n",
      "  - user:jose.espinoza@syesoftware.com\n",
      "  - user:jose.guerrero@syesoftware.com\n",
      "  - user:jose.rivera@syesoftware.com\n",
      "  - user:jossue.ortega@syesoftware.com\n",
      "  - user:juan.p.rodriguez@syesoftware.com\n",
      "  - user:karina.romero@syesoftware.com\n",
      "  - user:lgarciap@syesoftware.com\n",
      "  - user:linda.velasco@syesoftware.com\n",
      "  - user:mara.vazquez@syesoftware.com\n",
      "  - user:maria.diaz@syesoftware.com\n",
      "  - user:mario.perez@syesoftware.com\n",
      "  - user:mayra.velazquez@syesoftware.com\n",
      "  - user:miguel.betancourt@syesoftware.com\n",
      "  - user:miguel.lopez@syesoftware.com\n",
      "  - user:moises.silva@syesoftware.com\n",
      "  - user:moises.zamudio@syesoftware.com\n",
      "  - user:omar.duarte@syesoftware.com\n",
      "  - user:pzapata@syesoftware.com\n",
      "  - user:ramiro.gonzalez@syesoftware.com\n",
      "  - user:roberto.garcia@syesoftware.com\n",
      "  - user:roberto.morales@syesoftware.com\n",
      "  - user:samuel.cruz@syesoftware.com\n",
      "  - user:zlopez@syesoftware.com\n",
      "  role: roles/viewer\n",
      "etag: BwXOciOMACA=\n",
      "version: 1\n",
      "\u001b[?2004h"
     ]
    },
    {
     "ename": "",
     "evalue": "1",
     "output_type": "error",
     "traceback": []
    }
   ],
   "source": [
    "gcloud projects get-iam-policy tercera-generacion"
   ]
  },
  {
   "cell_type": "code",
   "execution_count": null,
   "metadata": {},
   "outputs": [],
   "source": [
    "gcloud projects get-iam-policy tercera-generacion --flatten=\"bindings[].members\""
   ]
  },
  {
   "cell_type": "code",
   "execution_count": null,
   "metadata": {},
   "outputs": [],
   "source": [
    "gcloud projects get-iam-policy tercera-generacion --filter=\"bindings.role=roles/Owner\""
   ]
  },
  {
   "cell_type": "code",
   "execution_count": null,
   "metadata": {},
   "outputs": [],
   "source": []
  },
  {
   "cell_type": "code",
   "execution_count": null,
   "metadata": {},
   "outputs": [],
   "source": [
    "gcloud projects get-iam-policy tercera-generacion --flatten=\"bindings[].members\" \\\n",
    "--filter=\"bindings.role=roles/Owner\" --format=\"value(bindings.members)\""
   ]
  },
  {
   "cell_type": "markdown",
   "metadata": {},
   "source": [
    "## Gestión de identidades y acceso."
   ]
  },
  {
   "cell_type": "markdown",
   "metadata": {},
   "source": [
    "```\n",
    "gcloud iam  <subcomandos> <argumentos>\n",
    "```\n",
    "\n",
    "https://cloud.google.com/sdk/gcloud/reference/iam"
   ]
  },
  {
   "cell_type": "code",
   "execution_count": null,
   "metadata": {},
   "outputs": [],
   "source": [
    "gcloud iam service-accounts list"
   ]
  },
  {
   "cell_type": "code",
   "execution_count": null,
   "metadata": {},
   "outputs": [],
   "source": [
    "gcloud iam service-accounts describe 352984998647-compute@developer.gserviceaccount.com"
   ]
  },
  {
   "cell_type": "markdown",
   "metadata": {},
   "source": [
    "<p style=\"text-align: center\"><a rel=\"license\" href=\"http://creativecommons.org/licenses/by/4.0/\"><img alt=\"Licencia Creative Commons\" style=\"border-width:0\" src=\"https://i.creativecommons.org/l/by/4.0/80x15.png\" /></a><br />Esta obra está bajo una <a rel=\"license\" href=\"http://creativecommons.org/licenses/by/4.0/\">Licencia Creative Commons Atribución 4.0 Internacional</a>.</p>\n",
    "<p style=\"text-align: center\">&copy; José Luis Chiquete Valdivieso. 2021.</p>"
   ]
  }
 ],
 "metadata": {
  "kernelspec": {
   "display_name": "Bash",
   "language": "bash",
   "name": "bash"
  },
  "language_info": {
   "codemirror_mode": "shell",
   "file_extension": ".sh",
   "mimetype": "text/x-sh",
   "name": "bash"
  }
 },
 "nbformat": 4,
 "nbformat_minor": 2
}
