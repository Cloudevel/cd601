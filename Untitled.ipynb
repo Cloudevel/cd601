{
 "cells": [
  {
   "cell_type": "code",
   "execution_count": null,
   "id": "748db89f",
   "metadata": {},
   "outputs": [],
   "source": []
  },
  {
   "cell_type": "markdown",
   "id": "a2fc7d1d",
   "metadata": {},
   "source": [
    "**1.1.** Instance templates are used to create a group of identical VMs. The instance templates include:\n",
    "\n",
    "**A** Machine type, boot disk image or container image, zone, and labels"
   ]
  },
  {
   "cell_type": "markdown",
   "id": "49871519",
   "metadata": {},
   "source": [
    "**1.2** The command-line command to create a Cloud Storage bucket is:\n",
    "\n",
    "**B** gsutil mb"
   ]
  },
  {
   "cell_type": "markdown",
   "id": "6a4b2519",
   "metadata": {},
   "source": [
    "**1.3** Your company has an object management policy that requires that objects stored in Cloud Storage be migrated from regional storage to nearline storage 90 days after the object is created. The most efficient way to do this is to:\n",
    "\n",
    "**D** Create a lifecycle management configuration policy specifying an age of 90 days and SetStorageClass as nearline.\n",
    "\n",
    "https://cloud.google.com/storage/docs/lifecycle"
   ]
  },
  {
   "cell_type": "markdown",
   "id": "50a24e04",
   "metadata": {},
   "source": [
    "**1,4** An education client maintains a site where users can upload videos, and your client needs to assure redundancy for the files; therefore, you have created two buckets for Cloud Storage. Which command do you use to synchronize the contents of the two buckets?\n",
    "\n",
    "**A** gsutil rsync\n",
    "\n",
    "https://cloud.google.com/storage/docs/gsutil/commands/rsync"
   ]
  },
  {
   "cell_type": "markdown",
   "id": "35d61f03",
   "metadata": {},
   "source": [
    "**1.5** VPCs are ______________ resources.\n",
    "\n",
    "**C** Global "
   ]
  },
  {
   "cell_type": "markdown",
   "id": "5e630c6e",
   "metadata": {},
   "source": [
    "**1.6** A remote component in your network has failed, which results in a transient network error. When you submit a gsutil command, it fails because of a transient error. By default, the command will:\n",
    "\n",
    "**B** Retry using a truncated binary exponential back-off strategy"
   ]
  },
  {
   "cell_type": "markdown",
   "id": "08ca1724",
   "metadata": {},
   "source": [
    "**1.7** All of the following are components of firewall rules except which one?\n",
    "\n",
    "**C** TTL\n",
    "\n",
    "https://cloud.google.com/vpc/docs/firewalls"
   ]
  },
  {
   "cell_type": "markdown",
   "id": "3847953d",
   "metadata": {},
   "source": [
    "**1.8** Adding virtual machines to an instance group can be triggered in an autoscaling policy by all of the following, except which one?\n",
    "\n",
    "**C** IAM policy violations \n",
    "\n",
    "https://cloud.google.com/compute/docs/autoscaler"
   ]
  },
  {
   "cell_type": "markdown",
   "id": "2fae63cc",
   "metadata": {},
   "source": [
    "**1.9** Your company’s finance department is developing a new account management application that requires transactions and the ability to perform relational database operations using fully compliant SQL. Data store options in GCP include:\n",
    "\n",
    "**A** Spanner and Cloud SQL"
   ]
  },
  {
   "cell_type": "markdown",
   "id": "9d5e3487",
   "metadata": {},
   "source": [
    "**1.10** The marketing department in your company wants to deploy a web application but does not want to have to manage servers or clusters. A good option for them is:\n",
    "\n",
    "**C** App Engine"
   ]
  },
  {
   "cell_type": "markdown",
   "id": "c6d45f77",
   "metadata": {},
   "source": [
    "**1.11** Your company is building an enterprise data warehouse and wants SQL query capabilities over petabytes of data, but does not want to manage servers or clusters. A good option for them is:\n",
    "\n",
    "**B** BigQuery"
   ]
  },
  {
   "cell_type": "markdown",
   "id": "e449e13d",
   "metadata": {},
   "source": [
    "**1.12** You have been hired as a consultant to a startup in the Internet of Things (IoT) space. The startup will stream large volumes of data into GCP. The data needs to be filtered, transformed, and analyzed before being stored in GCP Datastore. A good option for the stream processing component is:\n",
    "\n",
    "**B** Cloud Dataflow"
   ]
  },
  {
   "cell_type": "markdown",
   "id": "ce20c0c1",
   "metadata": {},
   "source": [
    "**1.13** Preemptible virtual machines may be shut down at any time but will always be shut down after running:\n",
    "\n",
    "**C** 24 hours"
   ]
  },
  {
   "cell_type": "markdown",
   "id": "75ef2f44",
   "metadata": {},
   "source": [
    "**1.14** You have been tasked with designing an organizational hierarchy for managing departments and their cloud resources. What organizing components are available in GCP?\n",
    "\n",
    "**A** Organization, folders, projects"
   ]
  },
  {
   "cell_type": "markdown",
   "id": "437b665d",
   "metadata": {},
   "source": [
    "**1.15** During an incident that has caused an application to fail, you suspect some resource may not have appropriate roles granted. The command to list roles granted to a resource is:\n",
    "\n",
    "**B** gcloud iam list-grantable-roles\n",
    "\n",
    "https://cloud.google.com/sdk/gcloud/reference/iam/list-grantable-roles"
   ]
  },
  {
   "cell_type": "markdown",
   "id": "51c3c068",
   "metadata": {},
   "source": [
    "**1.16** The availability of CPU platforms can vary between zones. To get a list of all CPU types available in a particular zone, you should use:\n",
    "**A** gcloud compute zones describe"
   ]
  },
  {
   "cell_type": "markdown",
   "id": "8591d5a4",
   "metadata": {},
   "source": [
    "**1.17** To create a custom role, a user must possess which role?\n",
    "\n",
    "**C** iam.roles.create"
   ]
  },
  {
   "cell_type": "markdown",
   "id": "936e7d15",
   "metadata": {},
   "source": [
    "**1.18** You have been asked to create a network with 1,000 IP addresses. In the interest of minimizing unused IP addresses, which CIDR suffix would you use to create a network with at least 1,000 addresses but no more than necessary?\n",
    "\n",
    "**B** /22"
   ]
  },
  {
   "cell_type": "markdown",
   "id": "4f5b246e",
   "metadata": {},
   "source": [
    "**1.19** A team of data scientists have asked for your help setting up an Apache Spark cluster. You suggest they use a managed GCP service instead of managing a cluster themselves on Compute Engine. The service they would use is:\n",
    "\n",
    "**A** Cloud Dataproc"
   ]
  },
  {
   "cell_type": "markdown",
   "id": "7614f98c",
   "metadata": {},
   "source": [
    "**1.20** You have created a web application that allows users to upload files to Cloud Storage. When files are uploaded, you want to check the file size and update the user’s total storage used in their account. A serverless option for performing this action on load is:\n",
    "\n",
    "**D** Cloud Functions"
   ]
  },
  {
   "cell_type": "markdown",
   "id": "bcf5da8b",
   "metadata": {},
   "source": [
    "**1.21** Your company has just started using GCP, and executives want to have a dedicated connection from your data center to the GCP to allow for large data transfers. Which networking service would you recommend?\n",
    "\n",
    "**B** Google Cloud Interconnect – Dedicated\n",
    "\n",
    "https://cloud.google.com/network-connectivity/docs/interconnect"
   ]
  },
  {
   "cell_type": "markdown",
   "id": "421cb0a0",
   "metadata": {},
   "source": [
    "**1.22** You want to have GCP manage cryptographic keys, so you’ve decided to use Cloud Key Management Services. Before you can start creating cryptographic keys, you must:\n",
    "\n",
    "**A** Enable Google Cloud Key Management Service (KMS) API and set up billing"
   ]
  },
  {
   "cell_type": "markdown",
   "id": "976a0a6e",
   "metadata": {},
   "source": [
    "**1.23** In Kubernetes Engine, a node pool is:\n",
    "\n",
    "**D** A subset of node instances within a cluster that all have the same configuration"
   ]
  },
  {
   "cell_type": "markdown",
   "id": "6b088151",
   "metadata": {},
   "source": [
    "**1.24** The GCP service for storing and managing Docker containers is:\n",
    "\n",
    "**C** Container Registry"
   ]
  },
  {
   "cell_type": "markdown",
   "id": "8b3222ab",
   "metadata": {},
   "source": [
    "**1.25** Code for Cloud Functions can be written in:\n",
    "\n",
    "**B** Node.js, Python, and Go"
   ]
  },
  {
   "cell_type": "markdown",
   "id": "8a7154c8",
   "metadata": {},
   "source": []
  }
 ],
 "metadata": {
  "kernelspec": {
   "display_name": "Bash",
   "language": "bash",
   "name": "bash"
  },
  "language_info": {
   "codemirror_mode": "shell",
   "file_extension": ".sh",
   "mimetype": "text/x-sh",
   "name": "bash"
  }
 },
 "nbformat": 4,
 "nbformat_minor": 5
}
