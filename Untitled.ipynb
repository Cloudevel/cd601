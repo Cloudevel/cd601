{
 "cells": [
  {
   "cell_type": "markdown",
   "id": "4da557c3",
   "metadata": {},
   "source": [
    "* *JSON*\n",
    "* *XML*\n",
    "* *CSV*\n",
    "* [*AVRO*](https://avro.apache.org/)"
   ]
  },
  {
   "cell_type": "markdown",
   "id": "22da6e81",
   "metadata": {},
   "source": [
    "## *Cloud Storage*.\n",
    "\n",
    "Sustituye *HDFS*."
   ]
  },
  {
   "cell_type": "markdown",
   "id": "ee99695b",
   "metadata": {},
   "source": [
    "https://cloud.google.com/storage/docs/audit-logging"
   ]
  },
  {
   "cell_type": "markdown",
   "id": "fe15401d",
   "metadata": {},
   "source": [
    "## *Cloud SQL*"
   ]
  },
  {
   "cell_type": "markdown",
   "id": "9ef616ba",
   "metadata": {},
   "source": [
    "https://cloud.google.com/sql/docs/mysql/manage-connections\n",
    "\n",
    "https://www.mysqltutorial.org/mysql-window-functions/mysql-row_number-function/\n",
    "\n",
    "https://cloud.google.com/sql/docs/mysql/high-availability\n",
    "\n",
    "https://cloud.google.com/sql/docs/mysql/configure-ha\n",
    "\n",
    "https://cloud.google.com/sql/docs/mysql/replication\n",
    "\n",
    "https://cloud.google.com/sql/docs/quotas#storage_limits\n",
    "\n",
    "https://cloud.google.com/bigquery/docs/column-level-security-intro"
   ]
  },
  {
   "cell_type": "markdown",
   "id": "f2782844",
   "metadata": {},
   "source": [
    "## *Cloud Spanner*."
   ]
  },
  {
   "cell_type": "markdown",
   "id": "e9dc96ca",
   "metadata": {},
   "source": [
    "https://cloud.google.com/spanner/docs/\n",
    "\n",
    "https://cloud.google.com/spanner/docs/instances#available-configurations-multi-region\n",
    "\n",
    "https://cloud.google.com/spanner/docs/schema-and-data-model"
   ]
  },
  {
   "cell_type": "markdown",
   "id": "a0ceaf77",
   "metadata": {},
   "source": [
    "## *BigQuery*.\n",
    "\n",
    "https://cloud.google.com/bigquery/docs"
   ]
  },
  {
   "cell_type": "markdown",
   "id": "a8e48337",
   "metadata": {},
   "source": [
    "### Comando ```bq```.\n",
    "\n",
    "https://cloud.google.com/bigquery/docs/reference/bq-cli-reference"
   ]
  },
  {
   "cell_type": "markdown",
   "id": "c8ebebdc",
   "metadata": {},
   "source": [
    "### Control de acceso.\n",
    "\n",
    "* https://cloud.google.com/bigquery/docs/access-control\n",
    "* https://cloud.google.com/bigquery/docs/access-control-primitive-roles\n",
    "* https://cloud.google.com/bigquery/docs/table-access-controls-intro\n",
    "* https://cloud.google.com/bigquery/docs/column-level-security\n",
    "\n",
    "\n",
    "### Costos.\n",
    "\n",
    "* https://cloud.google.com/bigquery/docs/best-practices-costs\n",
    "\n",
    "\n",
    "### Tablas.\n",
    "\n",
    "* https://cloud.google.com/bigquery/docs/partitioned-tables\n",
    "* https://cloud.google.com/bigquery/docs/clustered-tables\n",
    "* https://cloud.google.com/bigquery/docs/reference/standard-sql/wildcard-table-reference\n",
    "* https://cloud.google.com/bigquery/table-decorators\n",
    "* https://cloud.google.com/bigquery/docs/table-snapshots-intro\n",
    "* https://cloud.google.com/bigquery/docs/schema-detect\n",
    "\n",
    "\n",
    "### Access views.\n",
    "\n",
    "* https://cloud.google.com/bigquery/docs/share-access-views\n",
    "\n",
    "\n",
    "### Carga de datos y migraciones. \n",
    "\n",
    "* https://cloud.google.com/bigquery/loading-data\n",
    "* https://cloud.google.com/bigquery/docs/loading-data-cloud-datastore\n",
    "\n",
    "\n",
    "\n",
    "### SQL.\n",
    "\n",
    "https://cloud.google.com/bigquery/docs/reference/standard-sql\n",
    "\n",
    "https://cloud.google.com/bigquery/docs/reference/legacy-sql\n",
    "\n",
    "\n",
    "### Transferencia.\n",
    "\n",
    "https://cloud.google.com/bigquery-transfer/docs/introduction\n",
    "\n",
    "\n",
    "### Varios.\n",
    "* https://cloud.google.com/blog/products/gcp/performing-large-scale-mutations-in-bigquery\n",
    "* https://cloud.google.com/bigquery/external-data-cloud-storage\n",
    "* https://cloud.google.com/bigquery/docs/nested-repeated\n",
    "* https://cloud.google.com/bigquery/docs/time-travel"
   ]
  },
  {
   "cell_type": "markdown",
   "id": "9b6a9f46",
   "metadata": {},
   "source": [
    "## *Cloud Dataprep*."
   ]
  },
  {
   "cell_type": "markdown",
   "id": "35c0908a",
   "metadata": {},
   "source": [
    "https://cloud.google.com/dataprep/"
   ]
  },
  {
   "cell_type": "markdown",
   "id": "00327b21",
   "metadata": {},
   "source": [
    "## *Dataproc*.\n",
    "\n",
    "* *Cluster Properties*."
   ]
  },
  {
   "cell_type": "markdown",
   "id": "84bace61",
   "metadata": {},
   "source": [
    "https://cloud.google.com/dataproc/docs/concepts/configuring-clusters/flex\n",
    "\n",
    "https://cloud.google.com/dataproc/docs/concepts/workflows/using-workflows\n",
    "\n",
    "https://cloud.google.com/dataflow/docs/guides/updating-a-pipeline#python\n",
    "\n",
    "https://cloud.google.com/dataproc/docs/tutorials/bigquery-sparkml\n",
    "\n",
    "https://cloud.google.com/dataproc/docs/concepts/configuring-clusters/init-actions\n",
    "\n",
    "https://cloud.google.com/dataproc/docs/concepts/service-accounts#important_notes\n",
    "\n",
    "https://cloud.google.com/dataproc/docs/concepts/preemptible-vms\n",
    "\n",
    "https://cloud.google.com/dataproc/docs/concepts/accessing/cluster-web-interfaces#connecting_to_web_interfaces\n",
    "\n",
    "https://cloud.google.com/dataproc/docs/concepts/connectors/"
   ]
  },
  {
   "cell_type": "markdown",
   "id": "2cd69049",
   "metadata": {},
   "source": [
    "## *DataFlow*\n",
    "\n",
    "\n",
    "* [*Dataflow templates*](https://cloud.google.com/dataflow/docs/concepts/dataflow-templates)."
   ]
  },
  {
   "cell_type": "markdown",
   "id": "e767ce82",
   "metadata": {},
   "source": [
    "* https://cloud.google.com/dataflow/docs/concepts/streaming-pipelines\n",
    "* https://cloud.google.com/dataflow/docs/guides/deploying-a-pipeline\n",
    "* https://cloud.google.com/dataflow/docs/guides/updating-a-pipeline\n",
    "\n",
    "* https://cloud.google.com/dataflow/docs/concepts/access-control#roles\n",
    "\n",
    "* https://cloud.google.com/dataflow/docs/guides/troubleshooting-your-pipeline#detecting_an_exception_in_worker_code"
   ]
  },
  {
   "cell_type": "markdown",
   "id": "dc67f81d",
   "metadata": {},
   "source": [
    "### *Apache Beam*.\n",
    "\n",
    "* https://beam.apache.org/documentation/programming-guide/\n",
    "* https://beam.apache.org/documentation/programming-guide/#provided-windowing-functions\n",
    "* https://beam.apache.org/documentation/io/built-in/google-bigquery/\n",
    "* https://docs.google.com/document/d/12r7frmxNickxB5tbpuEh_n35_IJeVZn1peOrBrhhP6Y/edit#heading=h.7a03n7d5mf6g"
   ]
  },
  {
   "cell_type": "markdown",
   "id": "2c5c789a",
   "metadata": {},
   "source": [
    "### Windows.\n",
    "\n",
    "* Fixed\n",
    "* Sliding\n",
    "* Sessions"
   ]
  },
  {
   "cell_type": "markdown",
   "id": "49b00759",
   "metadata": {},
   "source": [
    "https://cloud.google.com/blog/products/gcp/guide-to-common-cloud-dataflow-use-case-patterns-part-1"
   ]
  },
  {
   "cell_type": "markdown",
   "id": "3bbbd172",
   "metadata": {},
   "source": [
    "## *Pub/Sub*.\n",
    "\n",
    "https://cloud.google.com/pubsub/docs\n",
    "\n",
    "* 7 días.\n",
    "* Hasta 300MBps"
   ]
  },
  {
   "cell_type": "markdown",
   "id": "0ecd61d9",
   "metadata": {},
   "source": [
    "https://cloud.google.com/pubsub/docs/monitoring#monitoring_forwarded_undeliverable_messages\n",
    "\n",
    "https://cloud.google.com/pubsub/docs/handling-failures"
   ]
  },
  {
   "cell_type": "markdown",
   "id": "ae20b5a4",
   "metadata": {},
   "source": [
    "## BigTable.\n",
    "\n",
    "*No SQL*.\n",
    "\n",
    "*Rowkey*"
   ]
  },
  {
   "cell_type": "markdown",
   "id": "9b814efb",
   "metadata": {},
   "source": [
    "### El comando ```cbt```.\n",
    "\n",
    "https://cloud.google.com/bigtable/docs/cbt-reference"
   ]
  },
  {
   "cell_type": "markdown",
   "id": "4addf16f",
   "metadata": {},
   "source": [
    "* https://cloud.google.com/bigtable/docs/overview\n",
    "\n",
    "* https://cloud.google.com/bigtable/docs/schema-design\n",
    "* https://cloud.google.com/bigtable/docs/schema-design-time-series\n",
    "\n",
    "* https://cloud.google.com/bigtable/docs/performance\n",
    "* https://cloud.google.com/bigtable/docs/hbase-bigtable\n",
    "* https://cloud.google.com/bigtable/docs/dataflow-hbase\n"
   ]
  },
  {
   "cell_type": "markdown",
   "id": "156c3025",
   "metadata": {},
   "source": [
    "## *DataStudio*."
   ]
  },
  {
   "cell_type": "markdown",
   "id": "d235b307",
   "metadata": {},
   "source": [
    "https://support.google.com/datastudio/answer/7020039?hl=en"
   ]
  },
  {
   "cell_type": "markdown",
   "id": "79035de7",
   "metadata": {},
   "source": [
    "## *DataLab*."
   ]
  },
  {
   "cell_type": "markdown",
   "id": "e291dd19",
   "metadata": {},
   "source": [
    "https://cloud.google.com/datalab/docs"
   ]
  },
  {
   "cell_type": "markdown",
   "id": "82ba7b57",
   "metadata": {},
   "source": [
    "## *Transfer Appliance*"
   ]
  },
  {
   "cell_type": "markdown",
   "id": "d575f213",
   "metadata": {},
   "source": [
    "https://cloud.google.com/transfer-appliance/docs/2.0/overview\n",
    "\n",
    "https://cloud.google.com/blog/products/data-analytics/dml-without-limits-now-in-bigquery"
   ]
  },
  {
   "cell_type": "markdown",
   "id": "1865b533",
   "metadata": {},
   "source": [
    "## Storage transfer."
   ]
  },
  {
   "cell_type": "markdown",
   "id": "dec04bb7",
   "metadata": {},
   "source": [
    "https://cloud.google.com/storage-transfer/docs/overview#gsutil"
   ]
  },
  {
   "cell_type": "markdown",
   "id": "86d8a512",
   "metadata": {},
   "source": [
    "## *Composer*."
   ]
  },
  {
   "cell_type": "markdown",
   "id": "b5dc67de",
   "metadata": {},
   "source": [
    "\n",
    "https://cloud.google.com/composer/\n",
    "\n",
    "https://cloud.google.com/blog/products/data-analytics/how-to-orchestrate-cloud-dataprep-jobs-using-cloud-composer\n",
    "\n",
    "https://cloud.google.com/composer/docs/how-to/using/using-dataflow-template-operator\n",
    "\n",
    "https://cloud.google.com/composer/docs/how-to/using/writing-dags"
   ]
  },
  {
   "cell_type": "markdown",
   "id": "96e69a49",
   "metadata": {},
   "source": [
    "## *Cloud Data Loss Prevention*."
   ]
  },
  {
   "cell_type": "markdown",
   "id": "1bc39206",
   "metadata": {},
   "source": [
    "https://cloud.google.com/dlp/\n",
    "\n",
    "https://cloud.google.com/blog/products/identity-security/take-charge-of-your-data-scan-for-sensitive-data-in-just-a-few-clicks"
   ]
  },
  {
   "cell_type": "markdown",
   "id": "b7fe10d2",
   "metadata": {},
   "source": [
    "## *Speech to text*"
   ]
  },
  {
   "cell_type": "markdown",
   "id": "f94f5293",
   "metadata": {},
   "source": [
    "https://cloud.google.com/speech-to-text#section-9"
   ]
  },
  {
   "cell_type": "markdown",
   "id": "543565d3",
   "metadata": {},
   "source": [
    "## *Cloud DataStore*"
   ]
  },
  {
   "cell_type": "markdown",
   "id": "5a82ae16",
   "metadata": {},
   "source": [
    "https://cloud.google.com/datastore/docs/concepts/overview\n",
    "\n",
    "https://cloud.google.com/datastore/docs/export-import-entities\n",
    "\n",
    "https://cloud.google.com/datastore/docs/concepts/indexes#index_limits\n",
    "\n",
    "https://cloud.google.com/datastore/docs/concepts/indexes#datastore-datastore-exploding-properties-python"
   ]
  },
  {
   "cell_type": "markdown",
   "id": "66272e8b",
   "metadata": {},
   "source": [
    "## *AutoML Vision*"
   ]
  },
  {
   "cell_type": "markdown",
   "id": "59737238",
   "metadata": {},
   "source": [
    "* https://cloud.google.com/automl/\n",
    "* https://cloud.google.com/vision/automl/docs/evaluate\n",
    "* https://cloud.google.com/vision/automl/object-detection/docs/\n",
    "https://cloud.google.com/vision/automl/docs/beginners-guide#is_the_vision_api_or_automl_the_right_tool_for_me"
   ]
  },
  {
   "cell_type": "markdown",
   "id": "08600e9f",
   "metadata": {},
   "source": [
    "## *TPU*"
   ]
  },
  {
   "cell_type": "markdown",
   "id": "dbb85c10",
   "metadata": {},
   "source": [
    "* https://cloud.google.com/tpu/docs/tpus"
   ]
  },
  {
   "cell_type": "markdown",
   "id": "76cd2561",
   "metadata": {},
   "source": [
    "## *ML Engine*."
   ]
  },
  {
   "cell_type": "markdown",
   "id": "41078d9d",
   "metadata": {},
   "source": [
    "* https://cloud.google.com/ml-engine/docs/technical-overview\n",
    "* https://cloud.google.com/ml-engine/docs/training-overview\n",
    "* https://cloud.google.com/ml-engine/docs/prediction-overview\n",
    "* https://cloud.google.com/ml-engine/docs/hyperparameter-tuning-overview\n",
    "* https://cloud.google.com/sdk/gcloud/reference/ml-engine/local/train"
   ]
  },
  {
   "cell_type": "markdown",
   "id": "0c346c86",
   "metadata": {},
   "source": [
    "## Bitácoras."
   ]
  },
  {
   "cell_type": "markdown",
   "id": "4a94b97a",
   "metadata": {},
   "source": [
    "* https://cloud.google.com/logging/docs/export/aggregated_sinks"
   ]
  },
  {
   "cell_type": "markdown",
   "id": "b50e31e7",
   "metadata": {},
   "source": [
    "## Monitoreo."
   ]
  },
  {
   "cell_type": "markdown",
   "id": "ef080052",
   "metadata": {},
   "source": [
    "* https://cloud.google.com/monitoring/api/metrics_gcp\n",
    "* https://cloud.google.com/monitoring/agent/ops-agent/third-party/mariadb\n",
    "* https://cloud.google.com/monitoring/api/metrics_gcp#pubsub/subscription/num_undelivered_messages"
   ]
  },
  {
   "cell_type": "markdown",
   "id": "17254079",
   "metadata": {},
   "source": [
    "## *Machine Learning*."
   ]
  },
  {
   "cell_type": "markdown",
   "id": "c3bf79a4",
   "metadata": {},
   "source": [
    "https://developers.google.com/machine-learning/crash-course/generalization/peril-of-overfitting\n",
    "\n",
    "https://towardsdatascience.com/deep-learning-3-more-on-cnns-handling-overfitting-2bd5d99abe5d\n",
    "\n",
    "https://developers.google.com/machine-learning/crash-course/regularization-for-simplicity/l2-regularization\n",
    "\n",
    "https://developers.google.com/machine-learning/crash-course/training-neural-networks/best-practices\n",
    "\n",
    "https://medium.com/mlreview/a-simple-deep-learning-model-for-stock-price-prediction-using-tensorflow-30505541d877\n",
    "\n",
    "https://towardsdatascience.com/anomaly-detection-for-dummies-15f148e559c1#:~:text=Unsupervised%20Anomaly%20Detection%20for%20Univariate%20%26%20Multivariate%20Data.&text=Anomaly%20detection%20has%20two%20basic,from%20the%20normal%20instances%20significantly\n",
    "\n",
    "https://cloud.google.com/video-intelligence/docs/feature-label-detection\n",
    "\n",
    "https://ai.googleblog.com/2020/05/speeding-up-neural-network-training.html\n",
    "\n",
    "https://developers.google.com/machine-learning/crash-course/regularization-for-sparsity/l1-regularization\n",
    "\n",
    "https://cloud.google.com/blog/big-data/2016/07/understanding-neural-networks-with-tensorflow-playground\n",
    "\n",
    "https://www.tensorflow.org/tutorials/wide\n",
    "\n",
    "https://www.tensorflow.org/tutorials/linear#feature_columns_and_transformations"
   ]
  },
  {
   "cell_type": "markdown",
   "id": "f7b7d89d",
   "metadata": {},
   "source": [
    "## Soluciones"
   ]
  },
  {
   "cell_type": "markdown",
   "id": "53e3580c",
   "metadata": {},
   "source": [
    "### Bases *SQL*.\n",
    "\n",
    "* https://cloud.google.com/solutions/dr-scenarios-for-data#managed-database-services-on-gcp\n",
    "\n",
    "\n",
    "### *PubSub*.\n",
    "\n",
    "* https://cloud.google.com/architecture/migrating-from-kafka-to-pubsub\n",
    "\n",
    "\n",
    "### *Streaming*.\n",
    "\n",
    "* https://cloud.google.com/solutions/stream-analytics/\n",
    "* https://cloud.google.com/blog/products/data-analytics/streaming-analytics-now-simpler-more-cost-effective-cloud-dataflow\n",
    "\n",
    "\n",
    "### *Dataflow*.\n",
    "\n",
    "* https://cloud.google.com/blog/products/gcp/handling-invalid-inputs-in-dataflow\n",
    "* https://cloud.google.com/architecture/streaming-avro-records-into-bigquery-using-dataflow\n",
    "\n",
    "\n",
    "### Bitácoras.\n",
    "\n",
    "* https://cloud.google.com/blog/products/management-tools/automate-your-response-to-a-cloud-logging-event\n",
    "\n",
    "\n",
    "### * BigQuery*.\n",
    "\n",
    "* https://cloud.google.com/blog/products/gcp/accessing-external-federated-data-sources-with-bigquerys-data-access-layer\n",
    "* https://cloud.google.com/solutions/bigquery-data-warehouse#handling_change\n",
    "* https://cloud.google.com/solutions/bigquery-data-warehouse#backup-and-recovery\n",
    "* https://cloud.google.com/blog/products/gcp/using-bigquery-and-firebase-analytics-to-understand-your-mobile-app?hl=am\n",
    "\n",
    "\n",
    "### Seguridad y cifrado.\n",
    "\n",
    "* https://cloud.google.com/security/encryption-at-rest\n",
    "\n",
    " \n",
    "### *DataProc*.\n",
    "\n",
    "* https://cloud.google.com/architecture/hadoop/migrating-apache-spark-jobs-to-cloud-dataproc#optimize_performance\n",
    "\n",
    "\n",
    "### Varios.\n",
    "\n",
    "* https://cloud.google.com/blog/products/databases/getting-started-with-time-series-trend-predictions-using-gcp\n",
    "* https://cloud.google.com/solutions/migration/hadoop/hadoop-gcp-migration-jobs\n",
    "* https://cloud.google.com/solutions/processing-messages-from-kafka-hosted-outside-gcp\n",
    "* https://kafka.apache.org/081/documentation.html\n",
    "* https://cloud.google.com/architecture/e-commerce/patterns/slow-updating-side-inputs"
   ]
  }
 ],
 "metadata": {
  "kernelspec": {
   "display_name": "Python 3 (ipykernel)",
   "language": "python",
   "name": "python3"
  },
  "language_info": {
   "codemirror_mode": {
    "name": "ipython",
    "version": 3
   },
   "file_extension": ".py",
   "mimetype": "text/x-python",
   "name": "python",
   "nbconvert_exporter": "python",
   "pygments_lexer": "ipython3",
   "version": "3.9.7"
  }
 },
 "nbformat": 4,
 "nbformat_minor": 5
}
