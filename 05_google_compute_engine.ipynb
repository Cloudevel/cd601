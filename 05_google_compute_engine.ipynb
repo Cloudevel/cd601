{
 "cells": [
  {
   "cell_type": "markdown",
   "metadata": {},
   "source": [
    "[![cloudevel](img/cloudevel.png)](https://cloudevel.com)"
   ]
  },
  {
   "cell_type": "markdown",
   "metadata": {},
   "source": [
    "# Google Compute Engine."
   ]
  },
  {
   "cell_type": "markdown",
   "metadata": {},
   "source": [
    "## Máquinas virtuales."
   ]
  },
  {
   "cell_type": "markdown",
   "metadata": {},
   "source": [
    "## El comando ```gcloud compute```.\n",
    "\n",
    "https://cloud.google.com/sdk/gcloud/reference/compute"
   ]
  },
  {
   "cell_type": "markdown",
   "metadata": {},
   "source": [
    "## Instancias."
   ]
  },
  {
   "cell_type": "markdown",
   "metadata": {},
   "source": [
    "* Sistema operativo.\n",
    "* Número de procesadores.\n",
    "* Memoria RAM.\n",
    "* Tamaño de almacenamiento persistente.\n",
    "* GPU.\n",
    "* Decidir si es preferencial (preemltible)."
   ]
  },
  {
   "cell_type": "markdown",
   "metadata": {},
   "source": [
    "## Gestión de zonas y regiones.\n",
    "\n",
    "* Costo.\n",
    "* Normatividad.\n",
    "* Disponibilidad.\n",
    "* Latencia.\n",
    "* Hardware."
   ]
  },
  {
   "cell_type": "code",
   "execution_count": null,
   "metadata": {},
   "outputs": [],
   "source": [
    "gcloud compute zones list"
   ]
  },
  {
   "cell_type": "code",
   "execution_count": null,
   "metadata": {},
   "outputs": [],
   "source": [
    "gcloud compute zones describe \"europe-west4-a\""
   ]
  },
  {
   "cell_type": "markdown",
   "metadata": {},
   "source": [
    "## Tipos de máquinas."
   ]
  },
  {
   "cell_type": "code",
   "execution_count": null,
   "metadata": {},
   "outputs": [],
   "source": [
    "gcloud compute machine-types list"
   ]
  },
  {
   "cell_type": "code",
   "execution_count": null,
   "metadata": {
    "scrolled": false
   },
   "outputs": [],
   "source": [
    "gcloud compute machine-types list --zones=us-east1-a"
   ]
  },
  {
   "cell_type": "code",
   "execution_count": null,
   "metadata": {},
   "outputs": [],
   "source": [
    "gcloud compute machine-types list --zones=us-central1-c --filter=\"name:f1\""
   ]
  },
  {
   "cell_type": "code",
   "execution_count": null,
   "metadata": {},
   "outputs": [],
   "source": [
    "gcloud compute machine-types describe \"e2-highcpu-32\""
   ]
  },
  {
   "cell_type": "markdown",
   "metadata": {},
   "source": [
    "## Tipos de disco."
   ]
  },
  {
   "cell_type": "code",
   "execution_count": null,
   "metadata": {},
   "outputs": [],
   "source": [
    "gcloud compute disk-types list"
   ]
  },
  {
   "cell_type": "code",
   "execution_count": null,
   "metadata": {},
   "outputs": [],
   "source": [
    "gcloud compute disk-types describe \"pd-balanced\" --zone=\"us-central1-c\""
   ]
  },
  {
   "cell_type": "markdown",
   "metadata": {},
   "source": [
    "## Gestión de instancias.\n",
    "\n",
    "```\n",
    "gcloud compute instances\n",
    "```"
   ]
  },
  {
   "cell_type": "markdown",
   "metadata": {},
   "source": [
    "### Creación de una instancia.\n",
    "\n",
    "\n",
    "```\n",
    "gcloud compute instances create\n",
    "```\n",
    "https://cloud.google.com/sdk/gcloud/reference/compute/instances/create\n",
    "\n",
    "```--machine-type```\n",
    "\n",
    "```--boot-disk-type```\n",
    "\n",
    "```--boot-disk-size``` \n",
    "\n",
    "```--labels```\n",
    "\n",
    "```--preemptive```"
   ]
  },
  {
   "cell_type": "markdown",
   "metadata": {},
   "source": [
    "### Creación de una instancia.\n",
    "\n",
    "```\n",
    "gcloud compute instances create <identificador> <argumentos> \n",
    "```"
   ]
  },
  {
   "cell_type": "code",
   "execution_count": null,
   "metadata": {
    "scrolled": true
   },
   "outputs": [],
   "source": [
    "gcloud compute instances create instancia-sin-ip --project=\"tercera-generacion\" --zone=us-central1-c --machine-type=f1-micro \\\n",
    "--image=projects/debian-cloud/global/images/debian-10-buster-v20210916 --boot-disk-type=pd-balanced --boot-disk-size=10 --no-address"
   ]
  },
  {
   "cell_type": "markdown",
   "metadata": {},
   "source": [
    "### Listar instancias."
   ]
  },
  {
   "cell_type": "code",
   "execution_count": 37,
   "metadata": {
    "scrolled": true
   },
   "outputs": [
    {
     "name": "stdout",
     "output_type": "stream",
     "text": [
      "NAME              ZONE           MACHINE_TYPE  PREEMPTIBLE  INTERNAL_IP  EXTERNAL_IP  STATUS\n",
      "instance-angeles  us-central1-c  e2-medium                  10.128.0.13               TERMINATED\n",
      "instancia-abcg    us-central1-c  f1-micro                   10.128.0.28               TERMINATED\n",
      "instancia-ajc     us-central1-c  f1-micro                   10.128.0.29               TERMINATED\n",
      "instancia-avr     us-central1-c  f1-micro                   10.128.0.16               TERMINATED\n",
      "instancia-dgf     us-central1-c  f1-micro                   10.128.0.23               TERMINATED\n",
      "instancia-egb     us-central1-c  f1-micro                   10.128.0.25               TERMINATED\n",
      "instancia-ejaime  us-central1-c  f1-micro                   10.128.0.37               TERMINATED\n",
      "instancia-feer    us-central1-c  f1-micro                   10.128.0.17               TERMINATED\n",
      "instancia-fgsl    us-central1-c  f1-micro                   10.128.0.30               TERMINATED\n",
      "instancia-frg     us-central1-c  f1-micro                   10.128.0.14               TERMINATED\n",
      "instancia-gmh     us-central1-c  f1-micro                   10.128.0.11               TERMINATED\n",
      "instancia-hscl    us-central1-c  f1-micro                   10.128.0.21               TERMINATED\n",
      "instancia-irgy    us-central1-c  f1-micro                   10.128.0.39               TERMINATED\n",
      "instancia-jatc    us-central1-c  f1-micro                   10.128.0.12               TERMINATED\n",
      "instancia-jgc     us-central1-c  f1-micro                   10.128.0.32               TERMINATED\n",
      "instancia-jlcv    us-central1-c  f1-micro                   10.128.0.10               RUNNING\n",
      "instancia-jprc    us-central1-c  f1-micro                   10.128.0.22               TERMINATED\n",
      "instancia-jrrs    us-central1-c  f1-micro                   10.128.0.35               TERMINATED\n",
      "instancia-krc     us-central1-c  f1-micro                   10.128.0.33               TERMINATED\n",
      "instancia-lgp     us-central1-c  f1-micro                   10.128.0.18               TERMINATED\n",
      "instancia-lmm     us-central1-c  f1-micro                   10.128.0.38               TERMINATED\n",
      "instancia-mab     us-central1-c  f1-micro                   10.128.0.26               TERMINATED\n",
      "instancia-malg    us-central1-c  f1-micro                   10.128.0.27               TERMINATED\n",
      "instancia-mjsr    us-central1-c  f1-micro                   10.128.0.19               TERMINATED\n",
      "instancia-myvc    us-central1-c  f1-micro                   10.128.0.24               TERMINATED\n",
      "instancia-odl     us-central1-c  f1-micro                   10.128.0.34               TERMINATED\n",
      "instancia-rgm     us-central1-c  f1-micro                   10.128.0.20               TERMINATED\n",
      "\u001b[?2004h"
     ]
    },
    {
     "ename": "",
     "evalue": "1",
     "output_type": "error",
     "traceback": []
    }
   ],
   "source": [
    "gcloud compute instances list"
   ]
  },
  {
   "cell_type": "code",
   "execution_count": 39,
   "metadata": {},
   "outputs": [
    {
     "name": "stdout",
     "output_type": "stream",
     "text": [
      "NAME            ZONE           MACHINE_TYPE  PREEMPTIBLE  INTERNAL_IP  EXTERNAL_IP  STATUS\n",
      "instancia-jlcv  us-central1-c  f1-micro                   10.128.0.10               RUNNING\n",
      "\u001b[?2004h"
     ]
    },
    {
     "ename": "",
     "evalue": "1",
     "output_type": "error",
     "traceback": []
    }
   ],
   "source": [
    "gcloud compute instances list --filter=\"name:jlcv\""
   ]
  },
  {
   "cell_type": "markdown",
   "metadata": {},
   "source": [
    "### Describir una instancia."
   ]
  },
  {
   "cell_type": "code",
   "execution_count": 40,
   "metadata": {},
   "outputs": [
    {
     "name": "stdout",
     "output_type": "stream",
     "text": [
      "{[?2004l\n",
      "  \"canIpForward\": false,\n",
      "  \"cpuPlatform\": \"Intel Haswell\",\n",
      "  \"creationTimestamp\": \"2021-10-13T16:56:41.572-07:00\",\n",
      "  \"deletionProtection\": false,\n",
      "  \"disks\": [\n",
      "    {\n",
      "      \"autoDelete\": true,\n",
      "      \"boot\": true,\n",
      "      \"deviceName\": \"persistent-disk-0\",\n",
      "      \"diskSizeGb\": \"10\",\n",
      "      \"guestOsFeatures\": [\n",
      "        {\n",
      "          \"type\": \"UEFI_COMPATIBLE\"\n",
      "        },\n",
      "        {\n",
      "          \"type\": \"VIRTIO_SCSI_MULTIQUEUE\"\n",
      "        }\n",
      "      ],\n",
      "      \"index\": 0,\n",
      "      \"interface\": \"SCSI\",\n",
      "      \"kind\": \"compute#attachedDisk\",\n",
      "      \"licenses\": [\n",
      "        \"https://www.googleapis.com/compute/v1/projects/debian-cloud/global/licenses/debian-10-buster\"\n",
      "      ],\n",
      "      \"mode\": \"READ_WRITE\",\n",
      "      \"source\": \"https://www.googleapis.com/compute/v1/projects/tercera-generacion/zones/us-central1-c/disks/instancia-jlcv\",\n",
      "      \"type\": \"PERSISTENT\"\n",
      "    }\n",
      "  ],\n",
      "  \"fingerprint\": \"3YEkri8kjNk=\",\n",
      "  \"id\": \"1647331475488165078\",\n",
      "  \"kind\": \"compute#instance\",\n",
      "  \"labelFingerprint\": \"42WmSpB8rSM=\",\n",
      "  \"lastStartTimestamp\": \"2021-10-15T14:27:13.954-07:00\",\n",
      "  \"lastStopTimestamp\": \"2021-10-13T17:16:33.087-07:00\",\n",
      "  \"machineType\": \"https://www.googleapis.com/compute/v1/projects/tercera-generacion/zones/us-central1-c/machineTypes/f1-micro\",\n",
      "  \"metadata\": {\n",
      "    \"fingerprint\": \"4xNyHJ4UxCw=\",\n",
      "    \"kind\": \"compute#metadata\"\n",
      "  },\n",
      "  \"name\": \"instancia-jlcv\",\n",
      "  \"networkInterfaces\": [\n",
      "    {\n",
      "      \"fingerprint\": \"MOfIYn3L24Y=\",\n",
      "      \"kind\": \"compute#networkInterface\",\n",
      "      \"name\": \"nic0\",\n",
      "      \"network\": \"https://www.googleapis.com/compute/v1/projects/tercera-generacion/global/networks/default\",\n",
      "      \"networkIP\": \"10.128.0.10\",\n",
      "      \"stackType\": \"IPV4_ONLY\",\n",
      "      \"subnetwork\": \"https://www.googleapis.com/compute/v1/projects/tercera-generacion/regions/us-central1/subnetworks/default\"\n",
      "    }\n",
      "  ],\n",
      "  \"scheduling\": {\n",
      "    \"automaticRestart\": true,\n",
      "    \"onHostMaintenance\": \"MIGRATE\",\n",
      "    \"preemptible\": false\n",
      "  },\n",
      "  \"selfLink\": \"https://www.googleapis.com/compute/v1/projects/tercera-generacion/zones/us-central1-c/instances/instancia-jlcv\",\n",
      "  \"serviceAccounts\": [\n",
      "    {\n",
      "      \"email\": \"352984998647-compute@developer.gserviceaccount.com\",\n",
      "      \"scopes\": [\n",
      "        \"https://www.googleapis.com/auth/devstorage.read_only\",\n",
      "        \"https://www.googleapis.com/auth/logging.write\",\n",
      "        \"https://www.googleapis.com/auth/monitoring.write\",\n",
      "        \"https://www.googleapis.com/auth/pubsub\",\n",
      "        \"https://www.googleapis.com/auth/service.management.readonly\",\n",
      "        \"https://www.googleapis.com/auth/servicecontrol\",\n",
      "        \"https://www.googleapis.com/auth/trace.append\"\n",
      "      ]\n",
      "    }\n",
      "  ],\n",
      "  \"shieldedInstanceConfig\": {\n",
      "    \"enableIntegrityMonitoring\": true,\n",
      "    \"enableSecureBoot\": false,\n",
      "    \"enableVtpm\": true\n",
      "  },\n",
      "  \"shieldedInstanceIntegrityPolicy\": {\n",
      "    \"updateAutoLearnPolicy\": true\n",
      "  },\n",
      "  \"startRestricted\": false,\n",
      "  \"status\": \"RUNNING\",\n",
      "  \"tags\": {\n",
      "    \"fingerprint\": \"42WmSpB8rSM=\"\n",
      "  },\n",
      "  \"zone\": \"https://www.googleapis.com/compute/v1/projects/tercera-generacion/zones/us-central1-c\"\n",
      "}\n",
      "\u001b[?2004h"
     ]
    },
    {
     "ename": "",
     "evalue": "1",
     "output_type": "error",
     "traceback": []
    }
   ],
   "source": [
    "gcloud compute instances describe instancia-jlcv --format=json"
   ]
  },
  {
   "cell_type": "markdown",
   "metadata": {},
   "source": [
    "### Detener"
   ]
  },
  {
   "cell_type": "code",
   "execution_count": null,
   "metadata": {
    "scrolled": true
   },
   "outputs": [],
   "source": [
    "gcloud compute instances stop instancia-jlcv"
   ]
  },
  {
   "cell_type": "code",
   "execution_count": null,
   "metadata": {},
   "outputs": [],
   "source": [
    "gcloud compute instances describe instancia-jlcv"
   ]
  },
  {
   "cell_type": "markdown",
   "metadata": {},
   "source": [
    "### Iniciar"
   ]
  },
  {
   "cell_type": "code",
   "execution_count": null,
   "metadata": {},
   "outputs": [],
   "source": [
    "gcloud compute instances start instancia-jlcv"
   ]
  },
  {
   "cell_type": "markdown",
   "metadata": {},
   "source": [
    "### Reiniciar"
   ]
  },
  {
   "cell_type": "code",
   "execution_count": null,
   "metadata": {},
   "outputs": [],
   "source": [
    "gcloud compute instances reset instancia-jlcv"
   ]
  },
  {
   "cell_type": "markdown",
   "metadata": {},
   "source": [
    "### Eliminar"
   ]
  },
  {
   "cell_type": "markdown",
   "metadata": {},
   "source": [
    "––keep-disks"
   ]
  },
  {
   "cell_type": "code",
   "execution_count": null,
   "metadata": {},
   "outputs": [],
   "source": [
    "gcloud compute instances delete instancia-jlcv"
   ]
  },
  {
   "cell_type": "markdown",
   "metadata": {},
   "source": [
    "## Aprovisionamiento de almacenamiento por bloque."
   ]
  },
  {
   "cell_type": "markdown",
   "metadata": {},
   "source": [
    "### Listado de discos."
   ]
  },
  {
   "cell_type": "code",
   "execution_count": null,
   "metadata": {},
   "outputs": [],
   "source": [
    "gcloud compute disks list"
   ]
  },
  {
   "cell_type": "markdown",
   "metadata": {},
   "source": [
    "### Descripción de un disco."
   ]
  },
  {
   "cell_type": "code",
   "execution_count": 41,
   "metadata": {
    "scrolled": true
   },
   "outputs": [
    {
     "name": "stdout",
     "output_type": "stream",
     "text": [
      "creationTimestamp: '2021-10-13T16:56:41.611-07:00'\n",
      "guestOsFeatures:\n",
      "- type: UEFI_COMPATIBLE\n",
      "- type: VIRTIO_SCSI_MULTIQUEUE\n",
      "id: '7337552321029262550'\n",
      "kind: compute#disk\n",
      "labelFingerprint: 42WmSpB8rSM=\n",
      "lastAttachTimestamp: '2021-10-13T16:56:41.612-07:00'\n",
      "licenseCodes:\n",
      "- '5543610867827062957'\n",
      "licenses:\n",
      "- https://www.googleapis.com/compute/v1/projects/debian-cloud/global/licenses/debian-10-buster\n",
      "name: instancia-jlcv\n",
      "physicalBlockSizeBytes: '4096'\n",
      "selfLink: https://www.googleapis.com/compute/v1/projects/tercera-generacion/zones/us-central1-c/disks/instancia-jlcv\n",
      "sizeGb: '10'\n",
      "sourceImage: https://www.googleapis.com/compute/v1/projects/debian-cloud/global/images/debian-10-buster-v20210916\n",
      "sourceImageId: '2427010555319344057'\n",
      "status: READY\n",
      "type: https://www.googleapis.com/compute/v1/projects/tercera-generacion/zones/us-central1-c/diskTypes/pd-balanced\n",
      "users:\n",
      "- https://www.googleapis.com/compute/v1/projects/tercera-generacion/zones/us-central1-c/instances/instancia-jlcv\n",
      "zone: https://www.googleapis.com/compute/v1/projects/tercera-generacion/zones/us-central1-c\n",
      "\u001b[?2004h"
     ]
    },
    {
     "ename": "",
     "evalue": "1",
     "output_type": "error",
     "traceback": []
    }
   ],
   "source": [
    "gcloud compute disks describe instancia-jlcv --format=yaml"
   ]
  },
  {
   "cell_type": "markdown",
   "metadata": {},
   "source": [
    "### Creación de un disco."
   ]
  },
  {
   "cell_type": "code",
   "execution_count": null,
   "metadata": {},
   "outputs": [],
   "source": [
    "gcloud compute disks create  disco-prueba-jlcv --type=pd-balanced --size=10 --zone=us-central1-c"
   ]
  },
  {
   "cell_type": "markdown",
   "metadata": {},
   "source": [
    "### Añadir un disco a una instancia.\n",
    "\n",
    "Los discos no se encuentran formateados, por lo que es necesario acondicionarlos desde el sistema operativo de la instancia."
   ]
  },
  {
   "cell_type": "code",
   "execution_count": null,
   "metadata": {
    "scrolled": true
   },
   "outputs": [],
   "source": [
    "gcloud compute instances attach-disk instancia-jlcv --disk=disco-prueba-jlcv"
   ]
  },
  {
   "cell_type": "markdown",
   "metadata": {},
   "source": [
    "### Separar un disco de una instancia."
   ]
  },
  {
   "cell_type": "code",
   "execution_count": null,
   "metadata": {
    "scrolled": true
   },
   "outputs": [],
   "source": [
    "gcloud compute instances detach-disk instancia-jlcv --disk=disco-prueba-jlcv"
   ]
  },
  {
   "cell_type": "markdown",
   "metadata": {},
   "source": [
    "### Eliminar un disco."
   ]
  },
  {
   "cell_type": "code",
   "execution_count": null,
   "metadata": {},
   "outputs": [],
   "source": [
    "gcloud compute disks  delete disco-prueba-jlcv --quiet"
   ]
  },
  {
   "cell_type": "markdown",
   "metadata": {},
   "source": [
    "## Snapshots.\n",
    "\n",
    "```Compute Storage Admin```.\n",
    "\n",
    "Son incrementales."
   ]
  },
  {
   "cell_type": "code",
   "execution_count": null,
   "metadata": {},
   "outputs": [],
   "source": [
    "gcloud compute snapshots list"
   ]
  },
  {
   "cell_type": "code",
   "execution_count": null,
   "metadata": {},
   "outputs": [],
   "source": [
    "gcloud beta compute snapshots create respaldo-disco-jlcv --source-disk instancia-jlcv"
   ]
  },
  {
   "cell_type": "code",
   "execution_count": null,
   "metadata": {},
   "outputs": [],
   "source": [
    "gcloud compute snapshots list"
   ]
  },
  {
   "cell_type": "code",
   "execution_count": null,
   "metadata": {},
   "outputs": [],
   "source": [
    "gcloud compute snapshots describe respaldo-disco-jlcv"
   ]
  },
  {
   "cell_type": "markdown",
   "metadata": {},
   "source": [
    "## Imágenes."
   ]
  },
  {
   "cell_type": "code",
   "execution_count": null,
   "metadata": {
    "scrolled": false
   },
   "outputs": [],
   "source": [
    "gcloud compute images list"
   ]
  },
  {
   "cell_type": "markdown",
   "metadata": {},
   "source": [
    "### Creación de imágenes."
   ]
  },
  {
   "cell_type": "markdown",
   "metadata": {},
   "source": [
    "```\n",
    "gcloud compute images create <nombre de imagen> \n",
    "```\n",
    "\n",
    "* ```--source-disk```\n",
    "* ```--source-image```\n",
    "* ```--source-image-family```\n",
    "* ```--source-snapshot```\n",
    "* ```--source-uri```\n"
   ]
  },
  {
   "cell_type": "markdown",
   "metadata": {},
   "source": [
    "### Eliminación de imágenes.\n",
    "\n",
    "```\n",
    "gcloud compute images delete <nombre>\n",
    "```"
   ]
  },
  {
   "cell_type": "markdown",
   "metadata": {},
   "source": [
    "### Exportación de imágenes.\n",
    "```\n",
    "gcloud compute images export --destination-uri <destino> --image <imagen>\n",
    "```"
   ]
  },
  {
   "cell_type": "markdown",
   "metadata": {},
   "source": []
  },
  {
   "cell_type": "markdown",
   "metadata": {},
   "source": [
    "## Grupos de instancias."
   ]
  },
  {
   "cell_type": "markdown",
   "metadata": {},
   "source": [
    "Los grupos de instancias pueden contener instancias de una sola zona o de toda una región.\n",
    "\n",
    "* ```zonal managed instance group```\n",
    "* ```region managed instance group```"
   ]
  },
  {
   "cell_type": "markdown",
   "metadata": {},
   "source": [
    "* Gestionadas. VMs idénticas creadas a partir de una plantilla de instancias (instance template). \n",
    "* No gestionadas."
   ]
  },
  {
   "cell_type": "code",
   "execution_count": null,
   "metadata": {},
   "outputs": [],
   "source": [
    "gcloud compute instance-templates list"
   ]
  },
  {
   "cell_type": "markdown",
   "metadata": {},
   "source": [
    "### Creación de plantillas de instancia."
   ]
  },
  {
   "cell_type": "markdown",
   "metadata": {},
   "source": [
    "```\n",
    "gcloud compute instance-templates create <NOMBRE> \n",
    "```\n",
    "\n",
    "* ```--source-instance```"
   ]
  },
  {
   "cell_type": "markdown",
   "metadata": {},
   "source": [
    "<p style=\"text-align: center\"><a rel=\"license\" href=\"http://creativecommons.org/licenses/by/4.0/\"><img alt=\"Licencia Creative Commons\" style=\"border-width:0\" src=\"https://i.creativecommons.org/l/by/4.0/80x15.png\" /></a><br />Esta obra está bajo una <a rel=\"license\" href=\"http://creativecommons.org/licenses/by/4.0/\">Licencia Creative Commons Atribución 4.0 Internacional</a>.</p>\n",
    "<p style=\"text-align: center\">&copy; José Luis Chiquete Valdivieso. 2021.</p>"
   ]
  }
 ],
 "metadata": {
  "kernelspec": {
   "display_name": "Bash",
   "language": "bash",
   "name": "bash"
  },
  "language_info": {
   "codemirror_mode": "shell",
   "file_extension": ".sh",
   "mimetype": "text/x-sh",
   "name": "bash"
  }
 },
 "nbformat": 4,
 "nbformat_minor": 2
}
