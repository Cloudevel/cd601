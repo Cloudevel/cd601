{
 "cells": [
  {
   "cell_type": "markdown",
   "metadata": {},
   "source": [
    "[![cloudevel](img/cloudevel.png)](https://cloudevel.com)"
   ]
  },
  {
   "cell_type": "markdown",
   "metadata": {},
   "source": [
    "# ```VPC```."
   ]
  },
  {
   "cell_type": "markdown",
   "metadata": {},
   "source": [
    "Son globales. Se crean automáticamente.\n",
    "\n",
    "* Subredes (subnets) con rangos de direcciones IP."
   ]
  },
  {
   "cell_type": "markdown",
   "metadata": {},
   "source": []
  },
  {
   "cell_type": "markdown",
   "metadata": {},
   "source": [
    "##  Firewalls"
   ]
  },
  {
   "cell_type": "markdown",
   "metadata": {},
   "source": [
    "### Reglas.\n",
    "\n",
    "* ```Direction```: ```ingress```o ```egress```.\n",
    "* ```Priority```: 0 a 65535\n",
    "* ```Action```: ```allow```o ```deny```\n",
    "* ```Target```: instancias.\n",
    "* ```Source/destination``` \n",
    "* ```Protocol``` y ```port```: ```TCP```, ```UDP```o ```ICMP```.\n",
    "* ```Enforment status```: ```enabled``` o ```disabled```."
   ]
  },
  {
   "cell_type": "markdown",
   "metadata": {},
   "source": [
    "2 reglas por defecto con prioridad 65535:\n",
    "* Permite la salida a 0.0.0.0/0\n",
    "* Niega tráfico de entrada a 0.0.0.0/0"
   ]
  },
  {
   "cell_type": "markdown",
   "metadata": {},
   "source": [
    "#### Reglas al crear una VPC.\n",
    "\n",
    "    Incoming traffic from any VM instance on the same network\n",
    "    Incoming TCP traffic on port 22, allowing SSH\n",
    "    Incoming TCP traffic on port 3389, allowing Microsoft Remote Desktop Protocol (RDP)\n",
    "    Incoming Internet Control Message Protocol (ICMP) from any source on the network"
   ]
  },
  {
   "cell_type": "markdown",
   "metadata": {},
   "source": [
    "```\n",
    "gcloud compute firewall-rules\n",
    "```\n",
    "\n",
    "--action\n",
    "--allow\n",
    "--description\n",
    "--destination-ranges\n",
    "--direction\n",
    "--network\n",
    "--priority\n",
    "--source-ranges\n",
    "--source-service-accounts\n",
    "--source-tags\n",
    "--target-service-accounts\n",
    "--target-tags"
   ]
  },
  {
   "cell_type": "markdown",
   "metadata": {},
   "source": [
    "```\n",
    "gcloud compute firewall-rules create ace-exam-fwr2 –-network ace-exam-vpc1 –-allow tcp:20000-25000\n",
    "```"
   ]
  },
  {
   "cell_type": "markdown",
   "metadata": {},
   "source": []
  },
  {
   "cell_type": "markdown",
   "metadata": {},
   "source": []
  },
  {
   "cell_type": "markdown",
   "metadata": {},
   "source": []
  },
  {
   "cell_type": "markdown",
   "metadata": {},
   "source": []
  },
  {
   "cell_type": "markdown",
   "metadata": {},
   "source": []
  },
  {
   "cell_type": "markdown",
   "metadata": {},
   "source": []
  },
  {
   "cell_type": "markdown",
   "metadata": {},
   "source": []
  },
  {
   "cell_type": "markdown",
   "metadata": {},
   "source": []
  },
  {
   "cell_type": "markdown",
   "metadata": {},
   "source": [
    "<p style=\"text-align: center\"><a rel=\"license\" href=\"http://creativecommons.org/licenses/by/4.0/\"><img alt=\"Licencia Creative Commons\" style=\"border-width:0\" src=\"https://i.creativecommons.org/l/by/4.0/80x15.png\" /></a><br />Esta obra está bajo una <a rel=\"license\" href=\"http://creativecommons.org/licenses/by/4.0/\">Licencia Creative Commons Atribución 4.0 Internacional</a>.</p>\n",
    "<p style=\"text-align: center\">&copy; José Luis Chiquete Valdivieso. 2021.</p>"
   ]
  }
 ],
 "metadata": {
  "kernelspec": {
   "display_name": "Bash",
   "language": "bash",
   "name": "bash"
  },
  "language_info": {
   "codemirror_mode": "shell",
   "file_extension": ".sh",
   "mimetype": "text/x-sh",
   "name": "bash"
  }
 },
 "nbformat": 4,
 "nbformat_minor": 2
}
