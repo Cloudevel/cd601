{
 "cells": [
  {
   "cell_type": "markdown",
   "metadata": {},
   "source": [
    "[![cloudevel](img/cloudevel.png)](https://cloudevel.com)"
   ]
  },
  {
   "cell_type": "markdown",
   "metadata": {},
   "source": [
    "# *Google Cloud Platform*."
   ]
  },
  {
   "cell_type": "markdown",
   "metadata": {},
   "source": [
    "## Cómputo en la nube.\n",
    "\n",
    "Seǵun el *NIST*, cómputo en la nube se define como un modelo para habilitar mediante un red ubicua, conveniente y bajo demanda el acceso a un conjunto de recursos de cómputo compartidos y configurables (redes, servidores, almacenamiento, aplicaciones y servicios) que pueden ser aprovisionados rápidamente y desplegados con un mínimo esfuerzo de gestión o de interacción por parte del proveedor del servicio.\n",
    "\n",
    "https://www.nist.gov/news-events/news/2011/10/final-version-nist-cloud-computing-definition-published"
   ]
  },
  {
   "cell_type": "markdown",
   "metadata": {},
   "source": [
    "### Caracteríticas del cómputo en la nube.\n",
    "\n",
    "* Autoservicio bajo demanda.\n",
    "* Acceso amplio a redes de comunicaciones.\n",
    "* Acopio de recursos de cómputo.\n",
    "* Rápida expansión o elasticidad de los recursos.\n",
    "* Servicio medido."
   ]
  },
  {
   "cell_type": "markdown",
   "metadata": {},
   "source": [
    "### Modelos de servicio.\n",
    "\n",
    "* Software como servicio (SaaS).\n",
    "* Plataforma como servicio (PaaS).\n",
    "* Infraestructura como servicio (IaaS)."
   ]
  },
  {
   "cell_type": "markdown",
   "metadata": {},
   "source": [
    "### Modelos de despliegue.\n",
    "\n",
    "* Nube privada.\n",
    "* Nube comunitaria.\n",
    "* Nube pública.\n",
    "* Nube híbrida."
   ]
  },
  {
   "cell_type": "markdown",
   "metadata": {},
   "source": [
    "## Tipos de servicios en la nube."
   ]
  },
  {
   "cell_type": "markdown",
   "metadata": {},
   "source": [
    "* Recursos de cómputo.\n",
    "* Almacenamiento.\n",
    "* Red.\n",
    "* Servicios especializados."
   ]
  },
  {
   "cell_type": "markdown",
   "metadata": {},
   "source": [
    "## *Google Cloud Platfom*.\n",
    "\n",
    "[*Google Cloud Platform* (*GCP*)](https://cloud.google.com/) es un conjunto de servicios globales de *PaaS* e *IaaS* sustentado por la red de comunicaciones y los centros de datos de *Google*, los cuales pueden funcionar bajo un esquema de nube pública e híbrida.\n",
    "\n",
    "Por otra parte *Google* también ofrece un conjunto de servicios *SaaS* llamado [*Google Workspace*](https://workspace.google.com/)."
   ]
  },
  {
   "cell_type": "markdown",
   "metadata": {},
   "source": [
    "### Regiones y zonas.\n",
    "\n",
    "La infaestructura  de *GCP* se encuentra distribuida por todo el mundo mediante una red de centros de datos delimitados por regiones y zonas. \n",
    "\n",
    "La siguiente liga muestra la información más actualizada de las regiones y zonas que *GCP* ofrece, así como los servicios que soporta cada una de ellas.\n",
    "\n",
    "https://cloud.google.com/about/locations"
   ]
  },
  {
   "cell_type": "markdown",
   "metadata": {},
   "source": [
    "### Oferta de precios de *GCP*.\n",
    "\n",
    "* Facturación por segundo de recursos de cómputo y procesamiento de datos entre otros.\n",
    "* Descuentos por uso continuo.\n",
    "* Descuentos por uso comprometido.\n",
    "* Aprovisionamiento de instancias de máquinas virtuales a la medida."
   ]
  },
  {
   "cell_type": "markdown",
   "metadata": {},
   "source": [
    "## Servicios disponibles."
   ]
  },
  {
   "cell_type": "markdown",
   "metadata": {},
   "source": [
    "### Servicios de administración.\n",
    "\n",
    "* Facturación.\n",
    "* Gestión de identidad y acceso (*IAM*).\n",
    "* Gestión de *APIs* y servicios."
   ]
  },
  {
   "cell_type": "markdown",
   "metadata": {},
   "source": [
    "### Servicios de operación.\n",
    "\n",
    "* *Google Cloud Operations Suite*,llamado anteriormente *Stackdriver*).\n",
    "* *Google Cloud Deployment Manager*.\n",
    "* *GCP Marketplace*."
   ]
  },
  {
   "cell_type": "markdown",
   "metadata": {},
   "source": [
    "## Servicios de cómputo.\n",
    "\n",
    "* *Google Compute Engine* (*GCE*).\n",
    "* *Google Kubernetes Engine* (*GKE*).\n",
    "* *VMWare Engine*."
   ]
  },
  {
   "cell_type": "markdown",
   "metadata": {},
   "source": [
    "### Servicios de cómputo  \"serverless\".\n",
    "\n",
    "* *Google App Engine*.\n",
    "  * Estándar.\n",
    "  * Dinámico.\n",
    "* *Cloud Run*.\n",
    "* *Cloud Functions*."
   ]
  },
  {
   "cell_type": "markdown",
   "metadata": {},
   "source": [
    "### Sevicios de almacenamiento.\n",
    "\n",
    "* Servicio de almacenamiento en bloques.\n",
    "* *Cloud Storage*.\n",
    "* *Filestore*."
   ]
  },
  {
   "cell_type": "markdown",
   "metadata": {},
   "source": [
    "### Bases de datos.\n",
    "\n",
    "* *Cloud SQL*.\n",
    "* *Spanner*.\n",
    "* *Datastore*.\n",
    "* *Firestore*.\n",
    "* *Memorystore*.\n",
    "* *Bigtable*."
   ]
  },
  {
   "cell_type": "markdown",
   "metadata": {},
   "source": [
    "## Redes."
   ]
  },
  {
   "cell_type": "markdown",
   "metadata": {},
   "source": [
    "### Redes VPC.\n",
    "\n",
    "VPCs in the Google Cloud can be linked to on-premise virtual private networks using Internet Protocol Security (IPSec)."
   ]
  },
  {
   "cell_type": "markdown",
   "metadata": {},
   "source": [
    "### Cloud Load Balancing.\n",
    "\n",
    "* HTTP\n",
    "* HTTPS\n",
    "* TCP/SSL\n",
    "* UDP"
   ]
  },
  {
   "cell_type": "markdown",
   "metadata": {},
   "source": [
    "### Cloud Armor.\n",
    "\n",
    "* Permite o restringe accesos mediante IP.\n",
    "* Permite o restringe accesos a partir de la posición geográfica o el tamao de carga.\n",
    "* Cuenta con reglas predefindas para evitar ataques de tipo XSS.\n",
    "* Cuenta con medidas para evitar atauqes de inyección SQL.\n",
    "* Permite definir reglas de nivel 3 (network) y 7 (application)."
   ]
  },
  {
   "cell_type": "markdown",
   "metadata": {},
   "source": [
    "### Cloud CDN.\n",
    "\n",
    "Contenido estático."
   ]
  },
  {
   "cell_type": "markdown",
   "metadata": {},
   "source": [
    "### Cloud Interconnect."
   ]
  },
  {
   "cell_type": "markdown",
   "metadata": {},
   "source": [
    "### Cloud DNS."
   ]
  },
  {
   "cell_type": "markdown",
   "metadata": {},
   "source": [
    "## Integración de Apps."
   ]
  },
  {
   "cell_type": "markdown",
   "metadata": {},
   "source": [
    "### API Gateway."
   ]
  },
  {
   "cell_type": "markdown",
   "metadata": {},
   "source": [
    "### Cloud Scheduler."
   ]
  },
  {
   "cell_type": "markdown",
   "metadata": {},
   "source": [
    "### Cloud Tasks."
   ]
  },
  {
   "cell_type": "markdown",
   "metadata": {},
   "source": [
    "### Apigee."
   ]
  },
  {
   "cell_type": "markdown",
   "metadata": {},
   "source": [
    "## CI/CD."
   ]
  },
  {
   "cell_type": "markdown",
   "metadata": {},
   "source": [
    "### Cloud Build"
   ]
  },
  {
   "cell_type": "markdown",
   "metadata": {},
   "source": [
    "### Container Registry"
   ]
  },
  {
   "cell_type": "markdown",
   "metadata": {},
   "source": [
    "### Artifact Registry"
   ]
  },
  {
   "cell_type": "markdown",
   "metadata": {},
   "source": [
    "### Source Repositories"
   ]
  },
  {
   "cell_type": "markdown",
   "metadata": {},
   "source": [
    "## Flujos de datos."
   ]
  },
  {
   "cell_type": "markdown",
   "metadata": {},
   "source": [
    "### Pub/Sub."
   ]
  },
  {
   "cell_type": "markdown",
   "metadata": {},
   "source": [
    "### BigQuery."
   ]
  },
  {
   "cell_type": "markdown",
   "metadata": {},
   "source": []
  },
  {
   "cell_type": "markdown",
   "metadata": {},
   "source": []
  },
  {
   "cell_type": "markdown",
   "metadata": {},
   "source": [
    "## Interface de acceso a *GCP*.\n",
    "\n",
    "* API REST.\n",
    "* Consola web.\n",
    "* Shell mediante el *Google Cloud SDK*."
   ]
  },
  {
   "cell_type": "markdown",
   "metadata": {},
   "source": [
    "<p style=\"text-align: center\"><a rel=\"license\" href=\"http://creativecommons.org/licenses/by/4.0/\"><img alt=\"Licencia Creative Commons\" style=\"border-width:0\" src=\"https://i.creativecommons.org/l/by/4.0/80x15.png\" /></a><br />Esta obra está bajo una <a rel=\"license\" href=\"http://creativecommons.org/licenses/by/4.0/\">Licencia Creative Commons Atribución 4.0 Internacional</a>.</p>\n",
    "<p style=\"text-align: center\">&copy; José Luis Chiquete Valdivieso. 2021.</p>"
   ]
  }
 ],
 "metadata": {
  "kernelspec": {
   "display_name": "Bash",
   "language": "bash",
   "name": "bash"
  },
  "language_info": {
   "codemirror_mode": "shell",
   "file_extension": ".sh",
   "mimetype": "text/x-sh",
   "name": "bash"
  }
 },
 "nbformat": 4,
 "nbformat_minor": 2
}
