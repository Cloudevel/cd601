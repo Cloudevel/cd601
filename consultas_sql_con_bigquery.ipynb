{
 "cells": [
  {
   "cell_type": "markdown",
   "id": "722c180f",
   "metadata": {},
   "source": [
    "https://cloud.google.com/blog/topics/developers-practitioners/bigquery-explained-querying-your-data"
   ]
  },
  {
   "cell_type": "markdown",
   "id": "25e96ff1",
   "metadata": {},
   "source": [
    "https://cloud.google.com/blog/topics/developers-practitioners/bigquery-explained-working-joins-nested-repeated-data"
   ]
  }
 ],
 "metadata": {
  "kernelspec": {
   "display_name": "Python 3 (ipykernel)",
   "language": "python",
   "name": "python3"
  },
  "language_info": {
   "codemirror_mode": {
    "name": "ipython",
    "version": 3
   },
   "file_extension": ".py",
   "mimetype": "text/x-python",
   "name": "python",
   "nbconvert_exporter": "python",
   "pygments_lexer": "ipython3",
   "version": "3.9.7"
  }
 },
 "nbformat": 4,
 "nbformat_minor": 5
}
