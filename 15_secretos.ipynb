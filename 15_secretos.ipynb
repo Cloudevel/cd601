{
 "cells": [
  {
   "cell_type": "markdown",
   "metadata": {},
   "source": [
    "[![cloudevel](img/cloudevel.png)](https://cloudevel.com)"
   ]
  },
  {
   "cell_type": "markdown",
   "metadata": {},
   "source": [
    "# Secretos."
   ]
  },
  {
   "cell_type": "markdown",
   "metadata": {},
   "source": [
    "Un secreto es un objeto global del proyecto que contiene una colección de metadatos y versiones de secretos. Los metadatos pueden incluir ubicaciones de replicación, etiquetas y permisos. Las versiones del secreto almacenan los datos del secreto reales, como una credencial o una clave de *API*. \n",
    "\n",
    "```\n",
    "gcloud secrets <subcomandos> <argumentos>\n",
    "```\n",
    "\n",
    "https://cloud.google.com/secret-manager/docs/overview"
   ]
  },
  {
   "cell_type": "markdown",
   "metadata": {},
   "source": [
    "## Gestión de secretos."
   ]
  },
  {
   "cell_type": "markdown",
   "metadata": {},
   "source": [
    "### Creación de un secreto.\n",
    "\n",
    "```\n",
    "gcloud secrets create <secreto> --data-file <archivo>\n",
    "```"
   ]
  },
  {
   "cell_type": "code",
   "execution_count": null,
   "metadata": {},
   "outputs": [],
   "source": [
    "echo \"Este es un secreto.\" > secreto.txt"
   ]
  },
  {
   "cell_type": "code",
   "execution_count": null,
   "metadata": {
    "scrolled": true
   },
   "outputs": [],
   "source": [
    "gcloud secrets create secreto-jlcv-tercera --data-file secreto.txt"
   ]
  },
  {
   "cell_type": "markdown",
   "metadata": {},
   "source": [
    "### Listado de secretos.\n",
    "\n",
    "```\n",
    "gcloud secrets list\n",
    "```"
   ]
  },
  {
   "cell_type": "code",
   "execution_count": null,
   "metadata": {
    "scrolled": true
   },
   "outputs": [],
   "source": [
    "gcloud secrets list"
   ]
  },
  {
   "cell_type": "markdown",
   "metadata": {},
   "source": [
    "### Descripción de un secreto.\n",
    "\n",
    "```\n",
    "gcloud secrets describe <secreto>\n",
    "```"
   ]
  },
  {
   "cell_type": "code",
   "execution_count": null,
   "metadata": {
    "scrolled": false
   },
   "outputs": [],
   "source": [
    "gcloud secrets describe secreto-jlcv-tercera"
   ]
  },
  {
   "cell_type": "markdown",
   "metadata": {},
   "source": [
    "### Listado de secretos.\n",
    "\n",
    "```\n",
    "gcloud secrets list\n",
    "```"
   ]
  },
  {
   "cell_type": "code",
   "execution_count": null,
   "metadata": {},
   "outputs": [],
   "source": [
    "gcloud secrets list"
   ]
  },
  {
   "cell_type": "markdown",
   "metadata": {},
   "source": [
    "### Actualización de secretos.\n",
    "\n",
    "```\n",
    "gcloud secrets update secreto-<secreto> <argumentos>\n",
    "```\n",
    "\n",
    "https://cloud.google.com/sdk/gcloud/reference/secrets/update"
   ]
  },
  {
   "cell_type": "markdown",
   "metadata": {},
   "source": [
    "#### Vencimiento de secretos. \n",
    "\n",
    "https://cloud.google.com/secret-manager/docs/creating-and-managing-expiring-secrets"
   ]
  },
  {
   "cell_type": "code",
   "execution_count": null,
   "metadata": {
    "scrolled": false
   },
   "outputs": [],
   "source": [
    "gcloud secrets update secreto-jlcv-tercera --ttl=3600s --quiet"
   ]
  },
  {
   "cell_type": "code",
   "execution_count": null,
   "metadata": {},
   "outputs": [],
   "source": [
    "gcloud secrets describe secreto-jlcv-tercera"
   ]
  },
  {
   "cell_type": "markdown",
   "metadata": {},
   "source": [
    "### Eliminación de secretos.\n",
    "\n",
    "```\n",
    "gcloud secrets delete <secreto>\n",
    "```"
   ]
  },
  {
   "cell_type": "markdown",
   "metadata": {},
   "source": [
    "## Versiones de los secretos.|"
   ]
  },
  {
   "cell_type": "markdown",
   "metadata": {},
   "source": [
    "### Adición de una nueva versión de un secreto."
   ]
  },
  {
   "cell_type": "code",
   "execution_count": null,
   "metadata": {},
   "outputs": [],
   "source": [
    "echo \"Este es otro secreto\" > secreto.txt"
   ]
  },
  {
   "cell_type": "code",
   "execution_count": null,
   "metadata": {},
   "outputs": [],
   "source": [
    "gcloud secrets versions add secreto-jlcv-tercera --data-file=secreto.txt"
   ]
  },
  {
   "cell_type": "markdown",
   "metadata": {},
   "source": [
    "### Listado de versiones.\n",
    "\n",
    "```\n",
    "\n",
    "gcloud secrets versions list <secreto>\n",
    "```"
   ]
  },
  {
   "cell_type": "code",
   "execution_count": null,
   "metadata": {
    "scrolled": true
   },
   "outputs": [],
   "source": [
    "gcloud secrets versions list secreto-jlcv-tercera"
   ]
  },
  {
   "cell_type": "markdown",
   "metadata": {},
   "source": [
    "### Descripción de la versión de un secreto.\n",
    "\n",
    "```\n",
    "gcloud secrets versions describe <version> --secret=<secreto>\n",
    "```"
   ]
  },
  {
   "cell_type": "code",
   "execution_count": null,
   "metadata": {
    "scrolled": true
   },
   "outputs": [],
   "source": [
    "gcloud secrets versions describe 2 --secret=secreto-jlcv-tercera"
   ]
  },
  {
   "cell_type": "markdown",
   "metadata": {},
   "source": [
    "### Acceso a un secreto.\n",
    "\n",
    "```\n",
    "gcloud secrets versions access <version> --secret=<secreto>\n",
    "```"
   ]
  },
  {
   "cell_type": "code",
   "execution_count": null,
   "metadata": {},
   "outputs": [],
   "source": [
    "gcloud secrets versions access 2 --secret=secreto-jlcv-tercera"
   ]
  },
  {
   "cell_type": "markdown",
   "metadata": {},
   "source": [
    "### Deshabilitación de un secreto.\n",
    "\n",
    "\n",
    "```\n",
    "gcloud secrets versions disable <version> --secret=<secreto>\n",
    "```"
   ]
  },
  {
   "cell_type": "code",
   "execution_count": null,
   "metadata": {},
   "outputs": [],
   "source": [
    "gcloud secrets versions disable 1 --secret=secreto-jlcv-tercera"
   ]
  },
  {
   "cell_type": "code",
   "execution_count": null,
   "metadata": {},
   "outputs": [],
   "source": [
    "gcloud secrets versions describe 1 --secret=secreto-jlcv-tercera"
   ]
  },
  {
   "cell_type": "markdown",
   "metadata": {},
   "source": [
    "### Habilitación de un secreto.\n",
    "\n",
    "```\n",
    "gcloud secrets versions enable <version> --secret=<secreto>\n",
    "```"
   ]
  },
  {
   "cell_type": "code",
   "execution_count": null,
   "metadata": {},
   "outputs": [],
   "source": [
    "gcloud secrets versions enable 1 --secret=secreto-jlcv-tercera"
   ]
  },
  {
   "cell_type": "code",
   "execution_count": null,
   "metadata": {
    "scrolled": true
   },
   "outputs": [],
   "source": [
    "gcloud secrets versions describe 1 --secret=secreto-jlcv-tercera"
   ]
  },
  {
   "cell_type": "markdown",
   "metadata": {},
   "source": [
    "## Replicación de un secreto.\n",
    "\n",
    "Un secreto con una política de replicación automática tiene sus datos de carga útil replicados sin restricción. Esta es la configuración más simple y se recomienda para la mayoría de los usuarios. Cuando creas un secreto con la herramienta de línea de comandos de gcloud o la IU web, esta es la política de replicación predeterminada.\n",
    "\n",
    "```\n",
    "gcloud secrets replication <secreto> <argumentos>\n",
    "```\n",
    "\n",
    "https://cloud.google.com/secret-manager/docs/choosing-replication\n",
    "\n",
    "https://cloud.google.com/secret-manager/docs/locations"
   ]
  },
  {
   "cell_type": "code",
   "execution_count": null,
   "metadata": {},
   "outputs": [],
   "source": [
    "gcloud secrets locations list"
   ]
  },
  {
   "cell_type": "code",
   "execution_count": null,
   "metadata": {},
   "outputs": [],
   "source": [
    "gcloud secrets replication get secreto-jlcv-tercera"
   ]
  },
  {
   "cell_type": "markdown",
   "metadata": {},
   "source": [
    "<p style=\"text-align: center\"><a rel=\"license\" href=\"http://creativecommons.org/licenses/by/4.0/\"><img alt=\"Licencia Creative Commons\" style=\"border-width:0\" src=\"https://i.creativecommons.org/l/by/4.0/80x15.png\" /></a><br />Esta obra está bajo una <a rel=\"license\" href=\"http://creativecommons.org/licenses/by/4.0/\">Licencia Creative Commons Atribución 4.0 Internacional</a>.</p>\n",
    "<p style=\"text-align: center\">&copy; José Luis Chiquete Valdivieso. 2021.</p>"
   ]
  }
 ],
 "metadata": {
  "kernelspec": {
   "display_name": "Bash",
   "language": "bash",
   "name": "bash"
  },
  "language_info": {
   "codemirror_mode": "shell",
   "file_extension": ".sh",
   "mimetype": "text/x-sh",
   "name": "bash"
  }
 },
 "nbformat": 4,
 "nbformat_minor": 2
}
