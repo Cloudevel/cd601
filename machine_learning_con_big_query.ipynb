{
 "cells": [
  {
   "cell_type": "markdown",
   "id": "aa0143b3",
   "metadata": {},
   "source": [
    "https://cloud.google.com/bigquery-ml/docs/"
   ]
  },
  {
   "cell_type": "markdown",
   "id": "1a2bd337",
   "metadata": {},
   "source": [
    "https://cloud.google.com/bigquery-ml/docs/introduction"
   ]
  },
  {
   "cell_type": "markdown",
   "id": "3b0c604d",
   "metadata": {},
   "source": [
    "https://cloud.google.com/bigquery-ml/docs/introduction#supported_models_in"
   ]
  },
  {
   "cell_type": "markdown",
   "id": "3d2d4bbb",
   "metadata": {},
   "source": [
    "https://cloud.google.com/bigquery-ml/docs/introduction#model_selection_guide"
   ]
  }
 ],
 "metadata": {
  "kernelspec": {
   "display_name": "Python 3 (ipykernel)",
   "language": "python",
   "name": "python3"
  },
  "language_info": {
   "codemirror_mode": {
    "name": "ipython",
    "version": 3
   },
   "file_extension": ".py",
   "mimetype": "text/x-python",
   "name": "python",
   "nbconvert_exporter": "python",
   "pygments_lexer": "ipython3",
   "version": "3.9.7"
  }
 },
 "nbformat": 4,
 "nbformat_minor": 5
}
