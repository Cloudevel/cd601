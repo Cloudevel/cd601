{
 "cells": [
  {
   "cell_type": "markdown",
   "id": "1d28cd28",
   "metadata": {},
   "source": [
    "https://elitedatascience.com/overfitting-in-machine-learning"
   ]
  },
  {
   "cell_type": "markdown",
   "id": "396c32d1",
   "metadata": {},
   "source": [
    "### Bias y Weight\n",
    "\n",
    "https://medium.com/fintechexplained/neural-networks-bias-and-weights-10b53e6285da"
   ]
  },
  {
   "cell_type": "markdown",
   "id": "6e99785d",
   "metadata": {},
   "source": [
    "https://cloud.google.com/products/ai"
   ]
  }
 ],
 "metadata": {
  "kernelspec": {
   "display_name": "Python 3 (ipykernel)",
   "language": "python",
   "name": "python3"
  },
  "language_info": {
   "codemirror_mode": {
    "name": "ipython",
    "version": 3
   },
   "file_extension": ".py",
   "mimetype": "text/x-python",
   "name": "python",
   "nbconvert_exporter": "python",
   "pygments_lexer": "ipython3",
   "version": "3.9.7"
  }
 },
 "nbformat": 4,
 "nbformat_minor": 5
}
