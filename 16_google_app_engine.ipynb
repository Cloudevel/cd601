{
 "cells": [
  {
   "cell_type": "markdown",
   "metadata": {},
   "source": [
    "[![cloudevel](img/cloudevel.png)](https://cloudevel.com)"
   ]
  },
  {
   "cell_type": "markdown",
   "metadata": {},
   "source": [
    "# *Google App Engine*."
   ]
  },
  {
   "cell_type": "markdown",
   "metadata": {},
   "source": [
    "Es un servicio de *Google Cloud Platform* que permite desplegar una aplicación dentro de de la plataforma, la cual es totalmente autogestionada. \n",
    "\n",
    "Este tipo de servicios se recomiendan cuando un proyecto requiere desplegar una sola aplicación, debido a que sólamente es posible correr una *app* en un servicio."
   ]
  },
  {
   "cell_type": "markdown",
   "metadata": {},
   "source": [
    "```\n",
    "gcloud app <argumantos>\n",
    "```\n"
   ]
  },
  {
   "cell_type": "markdown",
   "metadata": {},
   "source": [
    "## Tipos de entornos."
   ]
  },
  {
   "cell_type": "markdown",
   "metadata": {},
   "source": [
    "### Entorno estándar.\n",
    "\n",
    "\n",
    "Permite ejecutar aplicaciones escritas en los lenguajes soportados por *CGP*.\n",
    "\n",
    "\n",
    "* Python 3.x\n",
    "* Java 8 y 11\n",
    "* PHP 5 y7\n",
    "* Ruby\n",
    "* Go 1.11 y 1.12+\n",
    "* Node.js\n",
    "\n",
    "\n",
    "https://cloud.google.com/appengine/docs/standard"
   ]
  },
  {
   "cell_type": "markdown",
   "metadata": {},
   "source": [
    "### Entorno flexible.\n",
    "\n",
    "Permite crear aplicaciones dentro de un contenedor de Docker, el cual será ejecutado desde *GCP* y -a diferencia de la versión estándar- es posible acceder a las instancias mediante *ssh*.\n",
    "\n",
    "https://cloud.google.com/appengine/docs/flexible/custom-runtimes/quickstart"
   ]
  },
  {
   "cell_type": "markdown",
   "metadata": {},
   "source": [
    "## Componentes."
   ]
  },
  {
   "cell_type": "markdown",
   "metadata": {},
   "source": [
    "* Aplicaciones.\n",
    "* Servicios.\n",
    "* Versiones.\n",
    "* Instancias.\n",
    "\n",
    "https://cloud.google.com/appengine/docs/standard/python3/an-overview-of-app-engine"
   ]
  },
  {
   "cell_type": "markdown",
   "metadata": {},
   "source": [
    " ## El dominio ```appspot.com```.\n",
    " \n",
    "Cuando se despliega una aplicación, la raíz de dicha aplicación será publicada como un subdominio del dominio ```appspot.com```. \n"
   ]
  },
  {
   "cell_type": "markdown",
   "metadata": {},
   "source": [
    "## Tipos de implementaciones.\n",
    "\n",
    "*Google* ha publiado un repositorio con código de ejemplo para gran parte de sus productos, el cual puede ser consultado desde: \n",
    "\n",
    "https://github.com/GoogleCloudPlatform\n",
    "\n",
    "En este caso, se estudiará un ejemplo de *Google App Engine* estándar con *Python 3* basada en el código localizado en:\n",
    "\n",
    "https://github.com/GoogleCloudPlatform/python-docs-samples/tree/master/appengine/standard_python3/hello_world"
   ]
  },
  {
   "cell_type": "markdown",
   "metadata": {},
   "source": [
    "### Instalación de *Google App Engine* para *Python*."
   ]
  },
  {
   "cell_type": "markdown",
   "metadata": {},
   "source": [
    "```\n",
    "gcloud components install app-engine-python\n",
    "```"
   ]
  },
  {
   "cell_type": "markdown",
   "metadata": {},
   "source": [
    "```\n",
    "git clone https://github.com/GoogleCloudPlatform/python-docs-samples\n",
    "```"
   ]
  },
  {
   "cell_type": "markdown",
   "metadata": {},
   "source": [
    "## *Scripts* de configuración de *App Engine*.\n",
    "\n",
    "Es posible definir el comportamiento de *App Engine* mediante los siguientes *scripts*\n",
    "\n",
    "\n",
    "https://cloud.google.com/appengine/docs/standard/python3/configuration-files\n",
    "* [```app.yaml```](https://cloud.google.com/appengine/docs/standard/python/config/appref). El cual especifica la forma en la que se gestionarán las *URLs* y otras configuraciones adicionales. \n",
    "* [```dispatch.yaml```](https://cloud.google.com/appengine/docs/standard/python3/reference/dispatch-yaml). El cual permite definir rutas para más de un servicio. Cada servicio tendrá su propio script ```app.yaml```. En caso de que no exista este archivo, el servicio por defecto es ```default```.\n",
    "* [```cron.yaml```](https://cloud.google.com/appengine/docs/standard/python3/config/cronref). El cual perimite realizar operaciones programadas.\n",
    "* [```index.yaml```](https://cloud.google.com/appengine/docs/standard/python3/config/indexref). El cual puede configurar índices de *Datastore*."
   ]
  },
  {
   "cell_type": "markdown",
   "metadata": {},
   "source": [
    "### Contenidos de ```app.yaml```.\n",
    "\n",
    "* La descripción del entorno de ejecución (*runtime*) con el que se ejecutará el servicio.\n",
    "* Las rutas a las que accederá el servicio.\n",
    "* El escalamiento de los servicios."
   ]
  },
  {
   "cell_type": "markdown",
   "metadata": {},
   "source": [
    "## Gestión de una aplicación."
   ]
  },
  {
   "cell_type": "markdown",
   "metadata": {},
   "source": [
    "### Creación de una *app*.\n",
    "\n",
    "```\n",
    "gcloud app-create --region <región>\n",
    "```"
   ]
  },
  {
   "cell_type": "code",
   "execution_count": null,
   "metadata": {},
   "outputs": [],
   "source": [
    "gcloud app create --region us-central"
   ]
  },
  {
   "cell_type": "markdown",
   "metadata": {},
   "source": [
    "### Descripción de una *app*.\n",
    "\n",
    "```\n",
    "gcloud app describe\n",
    "```"
   ]
  },
  {
   "cell_type": "code",
   "execution_count": null,
   "metadata": {},
   "outputs": [],
   "source": [
    "gcloud app describe"
   ]
  },
  {
   "cell_type": "markdown",
   "metadata": {},
   "source": [
    "### Despliegue de una *app*."
   ]
  },
  {
   "cell_type": "markdown",
   "metadata": {},
   "source": [
    "Para desplegar una aplicación se ejecuta el siguiente comando:\n",
    "```\n",
    "gcloud app deploy <script> <argumentos>\n",
    "```\n",
    "\n",
    "Donde:\n",
    "\n",
    "* ```<script>``` es un script de *YAML* como ```app.yaml``` o ```dispatch.yaml```.\n",
    "\n",
    "Algunos argumentos adicionales son:\n",
    "\n",
    "* ```--version```\n",
    "* ```--project```\n",
    "* ```--no-promote```"
   ]
  },
  {
   "cell_type": "markdown",
   "metadata": {},
   "source": [
    "### Navegación hacia la aplicación."
   ]
  },
  {
   "cell_type": "markdown",
   "metadata": {},
   "source": [
    "```\n",
    "glcoud app browse \n",
    "```"
   ]
  },
  {
   "cell_type": "markdown",
   "metadata": {},
   "source": [
    "## Gestión de servicios."
   ]
  },
  {
   "cell_type": "markdown",
   "metadata": {},
   "source": [
    "```\n",
    "gcloud app services\n",
    "```\n",
    "\n",
    "https://cloud.google.com/sdk/gcloud/reference/app/services"
   ]
  },
  {
   "cell_type": "code",
   "execution_count": null,
   "metadata": {},
   "outputs": [],
   "source": [
    "gcloud app services list"
   ]
  },
  {
   "cell_type": "code",
   "execution_count": null,
   "metadata": {},
   "outputs": [],
   "source": [
    "gcloud app services describe default"
   ]
  },
  {
   "cell_type": "markdown",
   "metadata": {},
   "source": [
    "## Gestión de versiones."
   ]
  },
  {
   "cell_type": "markdown",
   "metadata": {},
   "source": [
    "```\n",
    "gcloud app versions <argumentos>\n",
    "```\n",
    "\n",
    "https://cloud.google.com/sdk/gcloud/reference/app/versions"
   ]
  },
  {
   "cell_type": "code",
   "execution_count": null,
   "metadata": {
    "scrolled": true
   },
   "outputs": [],
   "source": [
    "gcloud app versions list"
   ]
  },
  {
   "cell_type": "code",
   "execution_count": null,
   "metadata": {},
   "outputs": [],
   "source": []
  },
  {
   "cell_type": "code",
   "execution_count": null,
   "metadata": {},
   "outputs": [],
   "source": [
    "gcloud app versions describe 20211122t191234 --service default"
   ]
  },
  {
   "cell_type": "code",
   "execution_count": null,
   "metadata": {},
   "outputs": [],
   "source": [
    "gcloud app versions --help"
   ]
  },
  {
   "cell_type": "code",
   "execution_count": null,
   "metadata": {
    "scrolled": true
   },
   "outputs": [],
   "source": [
    "gcloud app versions stop 20211122t191234 --quiet"
   ]
  },
  {
   "cell_type": "code",
   "execution_count": null,
   "metadata": {},
   "outputs": [],
   "source": [
    "gcloud app versions start 20211122t191234"
   ]
  },
  {
   "cell_type": "markdown",
   "metadata": {},
   "source": [
    "## Escalado de instancias.\n",
    "\n",
    "*App Engine* permite definir instancias de *VM* que puedan procesar los requerimientos de cómputo de la aplicación a partir de ciertas condiciones.\n",
    "\n",
    "Dichas condiciones son descritas en el *script* ```apt.yaml```.\n",
    "\n",
    "https://cloud.google.com/appengine/docs/standard/python3/how-instances-are-managed"
   ]
  },
  {
   "cell_type": "markdown",
   "metadata": {},
   "source": [
    "### Clases de instancias.\n",
    "\n",
    "La opción ```instance_class``` permite definir el tipo de instancia que utilizará la aplicación.\n",
    "\n",
    "```\n",
    "instance_class:<tipo>\n",
    "```\n",
    "\n",
    "\n",
    "Las clase de instancia por defecto es ```F1```.\n",
    "\n",
    "https://cloud.google.com/appengine/docs/standard/python3/config/appref#instance_class"
   ]
  },
  {
   "cell_type": "markdown",
   "metadata": {},
   "source": [
    "* Instancias residentes cuando se define unn número fijo de instancias.\n",
    "* Instancias dinámicas cuando escalan con base en la carga."
   ]
  },
  {
   "cell_type": "markdown",
   "metadata": {},
   "source": [
    "### Escalado manual.\n",
    "\n",
    "Añadir al archivo ```app.yaml``` el parámetro ```manual_scaling```\n",
    "\n",
    "```\n",
    "manual_scaling:\n",
    "  instances <número>\n",
    "```"
   ]
  },
  {
   "cell_type": "markdown",
   "metadata": {},
   "source": [
    "### Escalado básico.\n",
    "\n",
    "* ```max_instances``` \n",
    "* ```idle-timeout``` ```m``` en minutos.\n",
    "\n",
    "```\n",
    "basic_scaling:\n",
    "  max_instances: <número máximo>\n",
    "  idle_timeout: <tiempo>m\n",
    "```"
   ]
  },
  {
   "cell_type": "markdown",
   "metadata": {},
   "source": [
    "### Escalado dinámico.\n",
    "\n",
    "Añadir al archivo ```app.yaml``` la sección ```automatic_scaling``` \n",
    "\n",
    "* ```target_cpu_utilization``` máximo uso de CPU antes de crear una nueva instancia.\n",
    "* ```target_throughput_utilization``` número máximo de peticiones concurrentes 0.5 a 0.95\n",
    "* ```max_concurrent_requests``` número máximo de petciones en una instancia. 10 por defecto, máximo 80.\n",
    "* ```max_instances``` \n",
    "* ```min_instances```\n",
    "* ```max_pending_latency```\n",
    "* ```min_pending_latency```\n",
    "\n",
    "```\n",
    "automatic_scaling:\n",
    "  target_cpu_utilization: <objetivo de CPU>\n",
    "  min_instances: <número mínimo de instancias>\n",
    "  max_instances: <número máximo de instancias>\n",
    "  min_pending_latency: <tiempo mínimo de latencia>ms\n",
    "  max_pending_latency: <tiempo máximo de latencia>ms\n",
    "  max_concurrent_requests: <número máximo de peticiones concurrentes>  \n",
    "```"
   ]
  },
  {
   "cell_type": "markdown",
   "metadata": {},
   "source": [
    "### Distribución de tráfico."
   ]
  },
  {
   "cell_type": "markdown",
   "metadata": {},
   "source": [
    "* Dirección IP.\n",
    "* Cookie HTTP.\n",
    "* Selección aleatoria."
   ]
  },
  {
   "cell_type": "markdown",
   "metadata": {},
   "source": [
    "## Gestión de tráfico entre versiones."
   ]
  },
  {
   "cell_type": "markdown",
   "metadata": {},
   "source": [
    "### Migrar tráfico.\n",
    "\n",
    "https://cloud.google.com/appengine/docs/standard/python3/migrating-traffic"
   ]
  },
  {
   "cell_type": "markdown",
   "metadata": {},
   "source": [
    "### Dividir tráfico.\n",
    "\n",
    "https://cloud.google.com/appengine/docs/standard/python3/migrating-traffic"
   ]
  },
  {
   "cell_type": "markdown",
   "metadata": {},
   "source": [
    "```\n",
    "gcloud app services set-traffic <servicio> --splits v1=.4,v2=.6\n",
    "```\n",
    "\n",
    "* ```--m̀igrate```\n",
    "* ```--split-by```"
   ]
  },
  {
   "cell_type": "code",
   "execution_count": null,
   "metadata": {},
   "outputs": [],
   "source": [
    "gcloud app services set-traffic default --splits v1=.4,v2=.6 --quiet"
   ]
  },
  {
   "cell_type": "markdown",
   "metadata": {},
   "source": [
    "<p style=\"text-align: center\"><a rel=\"license\" href=\"http://creativecommons.org/licenses/by/4.0/\"><img alt=\"Licencia Creative Commons\" style=\"border-width:0\" src=\"https://i.creativecommons.org/l/by/4.0/80x15.png\" /></a><br />Esta obra está bajo una <a rel=\"license\" href=\"http://creativecommons.org/licenses/by/4.0/\">Licencia Creative Commons Atribución 4.0 Internacional</a>.</p>\n",
    "<p style=\"text-align: center\">&copy; José Luis Chiquete Valdivieso. 2021.</p>"
   ]
  }
 ],
 "metadata": {
  "kernelspec": {
   "display_name": "Bash",
   "language": "bash",
   "name": "bash"
  },
  "language_info": {
   "codemirror_mode": "shell",
   "file_extension": ".sh",
   "mimetype": "text/x-sh",
   "name": "bash"
  }
 },
 "nbformat": 4,
 "nbformat_minor": 2
}
