{
 "cells": [
  {
   "cell_type": "markdown",
   "metadata": {},
   "source": [
    "[![cloudevel](img/cloudevel.png)](https://cloudevel.com)"
   ]
  },
  {
   "cell_type": "markdown",
   "metadata": {},
   "source": [
    "# Grupos de instancias."
   ]
  },
  {
   "cell_type": "markdown",
   "metadata": {},
   "source": [
    "Los grupos de instancias pueden contener instancias de una sola zona o de toda una región.\n",
    "\n",
    "* ```zonal managed instance group```\n",
    "* ```region managed instance group```\n",
    "\n",
    "https://cloud.google.com/compute/docs/instance-groups\n",
    "\n",
    "https://www.youtube.com/watch?reload=9&v=uaoauF5p7gw"
   ]
  },
  {
   "cell_type": "markdown",
   "metadata": {},
   "source": [
    "* Gestionadas. VMs idénticas creadas a partir de una plantilla de instancias (instance template). \n",
    "* No gestionadas."
   ]
  },
  {
   "cell_type": "markdown",
   "metadata": {},
   "source": [
    "## Ventajas de los grupos de instancias gestionadas (*MIG*).\n",
    "\n",
    "* Alta disponibilidad.\n",
    "    * Mantienen las instancias de *VM* en ejecución.\n",
    "    * Reparación automática basada en la aplicación.\n",
    "    * Cobertura regional.\n",
    "    * Balanceo de cargas.\n",
    "* Escalabilidad.\n",
    "* Actualizaciones automatizadas.\n",
    "* Compatibilidad con cargas de trabajo con estado."
   ]
  },
  {
   "cell_type": "markdown",
   "metadata": {},
   "source": [
    "### Tipos de *MIG*.\n",
    "\n",
    "* Con estado.\n",
    "    * Conservación de discos y metadatos.\n",
    "    * Reparación automática.\n",
    "    * Actualización automática.\n",
    "    * Implementación en varias zonas.\n",
    "    * Balanceo de cargas.\n",
    "    \n",
    "* Sin estado.\n",
    "    * Ajuste de escala automático.\n",
    "    * Reparación automática.\n",
    "    * Actualización automática.\n",
    "    * Implementación en varias zonas.\n",
    "    * Balanceo de cargas."
   ]
  },
  {
   "cell_type": "markdown",
   "metadata": {},
   "source": [
    "## Plantillas de instancia.\n",
    "\n",
    "https://cloud.google.com/compute/docs/instance-templates/create-instance-templates"
   ]
  },
  {
   "cell_type": "code",
   "execution_count": null,
   "metadata": {},
   "outputs": [],
   "source": [
    "gcloud compute instance-template"
   ]
  },
  {
   "cell_type": "markdown",
   "metadata": {},
   "source": [
    "### Creación de plantillas de instancia."
   ]
  },
  {
   "cell_type": "markdown",
   "metadata": {},
   "source": [
    "```\n",
    "gcloud compute instance-templates create <NOMBRE> <argumentos>\n",
    "```\n",
    "\n",
    "https://cloud.google.com/sdk/gcloud/reference/compute/instance-templates"
   ]
  },
  {
   "cell_type": "markdown",
   "metadata": {},
   "source": [
    "### Configuración por defecto:\n",
    "\n",
    "* Tipo de máquina: ```n1-standard-1```\n",
    "* OS: ```Debian 10```\n",
    "* Disco: ```10GB```"
   ]
  },
  {
   "cell_type": "code",
   "execution_count": null,
   "metadata": {},
   "outputs": [],
   "source": [
    "gcloud compute instance-templates create plantilla-base-jlcv"
   ]
  },
  {
   "cell_type": "markdown",
   "metadata": {},
   "source": [
    "### Listado de plantillas de instancias."
   ]
  },
  {
   "cell_type": "code",
   "execution_count": null,
   "metadata": {
    "scrolled": true
   },
   "outputs": [],
   "source": [
    "gcloud compute instance-templates list"
   ]
  },
  {
   "cell_type": "markdown",
   "metadata": {},
   "source": [
    "### Descripción de una plantilla de instancias:"
   ]
  },
  {
   "cell_type": "code",
   "execution_count": null,
   "metadata": {},
   "outputs": [],
   "source": [
    "gcloud compute instance-templates describe plantilla-base-jlcv"
   ]
  },
  {
   "cell_type": "markdown",
   "metadata": {},
   "source": [
    "### Eliminación de una plantilla de instancias."
   ]
  },
  {
   "cell_type": "code",
   "execution_count": null,
   "metadata": {
    "scrolled": true
   },
   "outputs": [],
   "source": [
    "gcloud compute instance-templates delete plantilla-base-jlcv --quiet"
   ]
  },
  {
   "cell_type": "markdown",
   "metadata": {},
   "source": [
    "## Gestión de grupos de instancias gestionadas."
   ]
  },
  {
   "cell_type": "markdown",
   "metadata": {},
   "source": [
    "### Creación de un grupo de instancias gestionadas.\n",
    "\n",
    "https://cloud.google.com/sdk/gcloud/reference/compute/instance-groups/managed"
   ]
  },
  {
   "cell_type": "code",
   "execution_count": null,
   "metadata": {},
   "outputs": [],
   "source": [
    "gcloud compute instance-groups managed create grupo-instancias-jlcv \\\n",
    "--template=plantilla-base-jlcv --size=4 --region=us-central1"
   ]
  },
  {
   "cell_type": "markdown",
   "metadata": {},
   "source": [
    "### Listado de grupos de instancias."
   ]
  },
  {
   "cell_type": "code",
   "execution_count": null,
   "metadata": {
    "scrolled": true
   },
   "outputs": [],
   "source": [
    "gcloud compute instance-groups list"
   ]
  },
  {
   "cell_type": "markdown",
   "metadata": {},
   "source": [
    "### Descripción de un grupo de instancias."
   ]
  },
  {
   "cell_type": "code",
   "execution_count": null,
   "metadata": {
    "scrolled": true
   },
   "outputs": [],
   "source": [
    "gcloud compute instance-groups describe grupo-instancias-jlcv --region=us-central1"
   ]
  },
  {
   "cell_type": "markdown",
   "metadata": {},
   "source": [
    "### Listado de instancias en un grupo."
   ]
  },
  {
   "cell_type": "code",
   "execution_count": null,
   "metadata": {},
   "outputs": [],
   "source": [
    "gcloud compute instance-groups list-instances grupo-instancias-jlcv --region=us-central1"
   ]
  },
  {
   "cell_type": "markdown",
   "metadata": {},
   "source": [
    "### Conexión a una instancia en un grupo."
   ]
  },
  {
   "cell_type": "markdown",
   "metadata": {},
   "source": [
    "```\n",
    "gcloud compute connect grupo-instancias-jlcv-3634\n",
    "```"
   ]
  },
  {
   "cell_type": "markdown",
   "metadata": {},
   "source": [
    "### Modificación del número de instancias en un grupo."
   ]
  },
  {
   "cell_type": "code",
   "execution_count": null,
   "metadata": {},
   "outputs": [],
   "source": [
    "gcloud beta compute instance-groups managed resize grupo-instancias-jlcv --size=2 --region=us-central1"
   ]
  },
  {
   "cell_type": "code",
   "execution_count": null,
   "metadata": {
    "scrolled": true
   },
   "outputs": [],
   "source": [
    "gcloud compute instance-groups list-instances grupo-instancias-jlcv --region=us-central1"
   ]
  },
  {
   "cell_type": "markdown",
   "metadata": {},
   "source": [
    "### Eliminación de instancias en un grupo. "
   ]
  },
  {
   "cell_type": "code",
   "execution_count": null,
   "metadata": {
    "scrolled": true
   },
   "outputs": [],
   "source": [
    "gcloud beta compute instance-groups managed delete-instances grupo-instancias-jlcv --instances=grupo-instancias-jlcv-szm9  --region=us-central1"
   ]
  },
  {
   "cell_type": "code",
   "execution_count": null,
   "metadata": {},
   "outputs": [],
   "source": [
    "gcloud compute instance-groups list-instances grupo-instancias-jlcv --region=us-central1"
   ]
  },
  {
   "cell_type": "markdown",
   "metadata": {},
   "source": [
    "### Eliminanción de un grupo de instancias en un grupo."
   ]
  },
  {
   "cell_type": "code",
   "execution_count": null,
   "metadata": {},
   "outputs": [],
   "source": [
    "gcloud beta compute instance-groups managed delete grupo-instancias-jlcv --region=us-central1 --quiet"
   ]
  },
  {
   "cell_type": "markdown",
   "metadata": {},
   "source": [
    "## Alta disponibilidad."
   ]
  },
  {
   "cell_type": "markdown",
   "metadata": {},
   "source": [
    "### Reparación automática.\n",
    "\n",
    "https://cloud.google.com/compute/docs/instance-groups/autohealing-instances-in-migs"
   ]
  },
  {
   "cell_type": "markdown",
   "metadata": {},
   "source": [
    "## Escalabilidad."
   ]
  },
  {
   "cell_type": "markdown",
   "metadata": {},
   "source": [
    "## Actualización automática.\n",
    "\n",
    "https://cloud.google.com/compute/docs/instance-groups/rolling-out-updates-to-managed-instance-groups"
   ]
  },
  {
   "cell_type": "markdown",
   "metadata": {},
   "source": [
    "<p style=\"text-align: center\"><a rel=\"license\" href=\"http://creativecommons.org/licenses/by/4.0/\"><img alt=\"Licencia Creative Commons\" style=\"border-width:0\" src=\"https://i.creativecommons.org/l/by/4.0/80x15.png\" /></a><br />Esta obra está bajo una <a rel=\"license\" href=\"http://creativecommons.org/licenses/by/4.0/\">Licencia Creative Commons Atribución 4.0 Internacional</a>.</p>\n",
    "<p style=\"text-align: center\">&copy; José Luis Chiquete Valdivieso. 2021.</p>"
   ]
  }
 ],
 "metadata": {
  "kernelspec": {
   "display_name": "Bash",
   "language": "bash",
   "name": "bash"
  },
  "language_info": {
   "codemirror_mode": "shell",
   "file_extension": ".sh",
   "mimetype": "text/x-sh",
   "name": "bash"
  }
 },
 "nbformat": 4,
 "nbformat_minor": 2
}
