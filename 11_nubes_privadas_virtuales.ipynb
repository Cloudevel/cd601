{
 "cells": [
  {
   "cell_type": "markdown",
   "metadata": {},
   "source": [
    "[![cloudevel](img/cloudevel.png)](https://cloudevel.com)"
   ]
  },
  {
   "cell_type": "markdown",
   "metadata": {},
   "source": [
    "# Nubes Privadas Virtuales (*VPC*)."
   ]
  },
  {
   "cell_type": "markdown",
   "metadata": {},
   "source": [
    "Las *VPC* son redes desplegadas por *Google* y sus nodos están disperso por to el mundo. Estas redes son infraestrcutura propia de *Google* y tienen direcciones *IP* de redes locales."
   ]
  },
  {
   "cell_type": "markdown",
   "metadata": {},
   "source": [
    "Las VPC son globales y se asignan automáticamente cuando se crea una instancia de *VM*. La *VPC* por defecto es ```default```."
   ]
  },
  {
   "cell_type": "markdown",
   "metadata": {},
   "source": [
    "Las *VPC* pueden contener subredes y estas subredes tiene rangos de *IP* distintos dependiendo de la región. Sin emabrgo, todas las subredes de una *VPC* son visibles entre sí."
   ]
  },
  {
   "cell_type": "markdown",
   "metadata": {},
   "source": [
    "Los segmentos de las VPC y de las subredes se definen usando la nomenclatura de [*CIDR*](https://es.wikipedia.org/wiki/Classless_Inter-Domain_Routing)."
   ]
  },
  {
   "cell_type": "markdown",
   "metadata": {},
   "source": [
    "### Cálculo de la notación *CIDR*.\n",
    "\n",
    "```\n",
    "<dirección IP>/<n>\n",
    "```\n",
    "\n",
    "* ```n``` define el rango de direcciones *IP* calculando $2^{32-n}$"
   ]
  },
  {
   "cell_type": "markdown",
   "metadata": {},
   "source": [
    "## Gestión de redes desde *Google Compute*.\n",
    "\n",
    "```\n",
    "    gcloud compute networks <comandos> <argumentos> \n",
    "```"
   ]
  },
  {
   "cell_type": "markdown",
   "metadata": {},
   "source": [
    "### Listado de las redes existentes."
   ]
  },
  {
   "cell_type": "code",
   "execution_count": null,
   "metadata": {
    "scrolled": true
   },
   "outputs": [],
   "source": [
    "gcloud compute networks list"
   ]
  },
  {
   "cell_type": "markdown",
   "metadata": {},
   "source": [
    "### Descripción de una red."
   ]
  },
  {
   "cell_type": "code",
   "execution_count": null,
   "metadata": {
    "scrolled": true
   },
   "outputs": [],
   "source": [
    "gcloud compute networks describe tercera-generacion"
   ]
  },
  {
   "cell_type": "markdown",
   "metadata": {},
   "source": [
    "### Creación de una red."
   ]
  },
  {
   "cell_type": "code",
   "execution_count": null,
   "metadata": {
    "scrolled": true
   },
   "outputs": [],
   "source": [
    "gcloud compute networks create demo-qualtop --range=10.12.25.0/20"
   ]
  },
  {
   "cell_type": "code",
   "execution_count": null,
   "metadata": {},
   "outputs": [],
   "source": [
    "gcloud compute firewall-rules create demo-qualtop --network demo-qualtop --allow tcp:22,tcp:3389,icmp"
   ]
  },
  {
   "cell_type": "markdown",
   "metadata": {},
   "source": [
    "## Subredes."
   ]
  },
  {
   "cell_type": "code",
   "execution_count": null,
   "metadata": {
    "scrolled": false
   },
   "outputs": [],
   "source": [
    "gcloud compute networks subnets list"
   ]
  },
  {
   "cell_type": "markdown",
   "metadata": {},
   "source": [
    "### Creación de una subred."
   ]
  },
  {
   "cell_type": "code",
   "execution_count": null,
   "metadata": {
    "scrolled": false
   },
   "outputs": [],
   "source": [
    "gcloud compute networks subnets create subred-jlcv --network=demo-qualtop --range=10.12.26.0/25"
   ]
  },
  {
   "cell_type": "markdown",
   "metadata": {},
   "source": [
    "### Descripción de una subred."
   ]
  },
  {
   "cell_type": "code",
   "execution_count": null,
   "metadata": {},
   "outputs": [],
   "source": [
    "gcloud compute networks subnets describe subred-jlcv"
   ]
  },
  {
   "cell_type": "markdown",
   "metadata": {},
   "source": [
    "## Creación de una instancia con asignación a una subred."
   ]
  },
  {
   "cell_type": "markdown",
   "metadata": {},
   "source": [
    "* Una instancia puede tener al menos una interfaz de red y como máximo 8 interfaces de red."
   ]
  },
  {
   "cell_type": "code",
   "execution_count": null,
   "metadata": {},
   "outputs": [],
   "source": [
    "gcloud compute instances delete instancia-jlcv --quiet"
   ]
  },
  {
   "cell_type": "code",
   "execution_count": null,
   "metadata": {},
   "outputs": [],
   "source": [
    "gcloud compute instances create instancia-jlcv --project=\"tercera-generacion\" --zone=us-central1-c --machine-type=f1-micro \\\n",
    "--image=projects/debian-cloud/global/images/debian-10-buster-v20210916 --boot-disk-type=pd-balanced --boot-disk-size=10 \\\n",
    "--network-interface=subnet=demo-qualtop,no-address"
   ]
  },
  {
   "cell_type": "code",
   "execution_count": null,
   "metadata": {
    "scrolled": true
   },
   "outputs": [],
   "source": [
    "gcloud compute instances describe instancia-jlcv"
   ]
  },
  {
   "cell_type": "markdown",
   "metadata": {},
   "source": [
    "## Creación de  un grupo de instancias con asignación a una subred."
   ]
  },
  {
   "cell_type": "markdown",
   "metadata": {},
   "source": [
    "### Creación de una platilla de instancias."
   ]
  },
  {
   "cell_type": "code",
   "execution_count": null,
   "metadata": {
    "scrolled": true
   },
   "outputs": [],
   "source": [
    "gcloud beta compute --project=tercera-generacion instance-templates create instancias-vpc-jlcv \\\n",
    "--machine-type=f1-micro --subnet=projects/tercera-generacion/regions/us-central1/subnetworks/demo-qualtop --no-address \\\n",
    "--region=us-central1 --image=debian-10-buster-v20210916 --image-project=debian-cloud \\\n",
    "--boot-disk-size=10GB --boot-disk-type=pd-balanced --boot-disk-device-name=instancias-vpc"
   ]
  },
  {
   "cell_type": "code",
   "execution_count": null,
   "metadata": {
    "scrolled": true
   },
   "outputs": [],
   "source": [
    "gcloud compute instance-groups managed create grupo-instancias-jlcv --template=instancias-vpc-jlcv --size=2 --region=us-central1"
   ]
  },
  {
   "cell_type": "code",
   "execution_count": null,
   "metadata": {},
   "outputs": [],
   "source": [
    "gcloud compute instance-groups managed list-instances grupo-instancias-jlcv --region=us-central1"
   ]
  },
  {
   "cell_type": "code",
   "execution_count": null,
   "metadata": {},
   "outputs": [],
   "source": [
    "gcloud compute instance-groups managed describe-instance grupo-instancias-jlcv --instance=grupo-instancias-jlcv-rvgj"
   ]
  },
  {
   "cell_type": "markdown",
   "metadata": {},
   "source": [
    "## Proceso de eliminación de una subred."
   ]
  },
  {
   "cell_type": "code",
   "execution_count": null,
   "metadata": {},
   "outputs": [],
   "source": [
    "gcloud compute instance-groups managed delete grupo-instancias-jlcv --region=us-central1 --quiet"
   ]
  },
  {
   "cell_type": "code",
   "execution_count": null,
   "metadata": {},
   "outputs": [],
   "source": [
    "gcloud compute instance-templates delete instancias-vpc-jlcv --quiet"
   ]
  },
  {
   "cell_type": "code",
   "execution_count": null,
   "metadata": {},
   "outputs": [],
   "source": [
    "gcloud compute instances delete instancia-jlcv --quiet"
   ]
  },
  {
   "cell_type": "code",
   "execution_count": null,
   "metadata": {},
   "outputs": [],
   "source": [
    "gcloud compute firewall-rules delete demo-qualtop --quiet"
   ]
  },
  {
   "cell_type": "code",
   "execution_count": null,
   "metadata": {},
   "outputs": [],
   "source": [
    "gcloud compute networks subnets delete subred-jlcv --quiet"
   ]
  },
  {
   "cell_type": "code",
   "execution_count": null,
   "metadata": {
    "scrolled": true
   },
   "outputs": [],
   "source": [
    "gcloud compute networks delete demo-qualtop --quiet"
   ]
  },
  {
   "cell_type": "markdown",
   "metadata": {},
   "source": [
    "## Intercambio de tráfico (*peering*) de *VPC*.\n",
    "\n",
    "https://cloud.google.com/vpc/docs/using-vpc-peering"
   ]
  },
  {
   "cell_type": "markdown",
   "metadata": {},
   "source": [
    "## *VPC* compartida.\n",
    "\n",
    "https://cloud.google.com/vpc/docs/shared-vpc"
   ]
  },
  {
   "cell_type": "markdown",
   "metadata": {},
   "source": [
    "## Rutas.\n",
    "\n",
    "https://cloud.google.com/vpc/docs/routes"
   ]
  },
  {
   "cell_type": "markdown",
   "metadata": {},
   "source": [
    "## Monitoreo de redes.\n",
    "\n",
    "https://cloud.google.com/vpc/docs/flow-logs"
   ]
  },
  {
   "cell_type": "markdown",
   "metadata": {},
   "source": [
    "<p style=\"text-align: center\"><a rel=\"license\" href=\"http://creativecommons.org/licenses/by/4.0/\"><img alt=\"Licencia Creative Commons\" style=\"border-width:0\" src=\"https://i.creativecommons.org/l/by/4.0/80x15.png\" /></a><br />Esta obra está bajo una <a rel=\"license\" href=\"http://creativecommons.org/licenses/by/4.0/\">Licencia Creative Commons Atribución 4.0 Internacional</a>.</p>\n",
    "<p style=\"text-align: center\">&copy; José Luis Chiquete Valdivieso. 2021.</p>"
   ]
  }
 ],
 "metadata": {
  "kernelspec": {
   "display_name": "Bash",
   "language": "bash",
   "name": "bash"
  },
  "language_info": {
   "codemirror_mode": "shell",
   "file_extension": ".sh",
   "mimetype": "text/x-sh",
   "name": "bash"
  }
 },
 "nbformat": 4,
 "nbformat_minor": 2
}
