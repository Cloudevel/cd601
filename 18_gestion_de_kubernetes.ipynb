{
 "cells": [
  {
   "cell_type": "markdown",
   "metadata": {},
   "source": [
    "[![cloudevel](img/cloudevel.png)](https://cloudevel.com)"
   ]
  },
  {
   "cell_type": "markdown",
   "metadata": {},
   "source": [
    "# Orquestación de contenedores con *Kubernetes*. "
   ]
  },
  {
   "cell_type": "markdown",
   "metadata": {},
   "source": [
    "https://kubernetes.io/es/docs/concepts/"
   ]
  },
  {
   "cell_type": "markdown",
   "metadata": {},
   "source": [
    "## Objetos de *Kubernetes*."
   ]
  },
  {
   "cell_type": "markdown",
   "metadata": {},
   "source": [
    "*Kubernetes* puede definir a varios tipos de objetos los cuales son definidos/descritos mediante archivos *YAML*.\n",
    "\n",
    "Los objetos son entidades persistentes de *Kubernetes*.\n",
    "\n",
    "https://kubernetes.io/es/docs/concepts/overview/working-with-objects/kubernetes-objects/"
   ]
  },
  {
   "cell_type": "markdown",
   "metadata": {},
   "source": [
    "* [*Pods*](https://kubernetes.io/es/docs/concepts/workloads/pods/pod/).\n",
    "* [Volúmenes](https://kubernetes.io/es/docs/concepts/storage/volumes/).\n",
    "* [Servicios](https://kubernetes.io/es/docs/concepts/services-networking/service/).\n",
    "* [Espacios de nombres](https://kubernetes.io/es/docs/concepts/overview/working-with-objects/namespaces/) (*namespaces*)."
   ]
  },
  {
   "cell_type": "markdown",
   "metadata": {},
   "source": [
    "## *Pods*."
   ]
  },
  {
   "cell_type": "markdown",
   "metadata": {},
   "source": [
    "Los *pods* son cargas de trabajo (algo similar a un proceso) que pueden estar compuestas por uno o mas contenedores.\n",
    "\n",
    "* Son inmutables.\n",
    "* Su naturaleza es efímera.\n",
    "* Son desechables.\n",
    "* Pueden escalar horizontalmente.\n",
    "\n",
    "https://kubernetes.io/docs/concepts/workloads/pods/"
   ]
  },
  {
   "cell_type": "markdown",
   "metadata": {},
   "source": [
    "**Ejemplo:**\n",
    "\n",
    "\n",
    "``` yaml\n",
    "apiVersion: v1\n",
    "kind: Pod\n",
    "metadata:\n",
    "  name: nginx\n",
    "spec:\n",
    "  containers:\n",
    "  - name: nginx\n",
    "    image: nginx:1.14.2\n",
    "    ports:\n",
    "    - containerPort: 80\n",
    "```"
   ]
  },
  {
   "cell_type": "markdown",
   "metadata": {},
   "source": [
    "### Diferencias entre un *pod* y un controlador.\n",
    "\n",
    "Etiquetas y anotaicones.\n",
    "Políticas de reinicio.\n",
    "Sensores (*probes*).\n",
    "Reglas de afinidad u anti-afinidad.\n",
    "Control de finalización.\n",
    "Políticas de seguridad.\n",
    "Petciones de recursos y límites."
   ]
  },
  {
   "cell_type": "markdown",
   "metadata": {},
   "source": [
    "### Ciclo de vida de un *pod*.\n",
    "\n",
    "Un *pod* experimenta varias fases desde el momento que es creado y hasta que es desechado.\n",
    "\n",
    "* ```Pending```\n",
    "* ```Running```\n",
    "* ```Succeeded```\n",
    "* ```Failed```\n",
    "\n",
    "https://kubernetes.io/docs/concepts/workloads/pods/pod-lifecycle/"
   ]
  },
  {
   "cell_type": "markdown",
   "metadata": {},
   "source": [
    "## Volúmenes.\n",
    "\n",
    "https://kubernetes.io/es/docs/concepts/storage/volumes/"
   ]
  },
  {
   "cell_type": "markdown",
   "metadata": {},
   "source": [
    "## Servicios.\n",
    "\n",
    "https://kubernetes.io/es/docs/concepts/services-networking/service/"
   ]
  },
  {
   "cell_type": "markdown",
   "metadata": {},
   "source": [
    "## Espacios de nombres.\n",
    "\n",
    "https://kubernetes.io/es/docs/concepts/overview/working-with-objects/namespaces/"
   ]
  },
  {
   "cell_type": "markdown",
   "metadata": {},
   "source": [
    "## Cargas de trabajo (*workloads*)."
   ]
  },
  {
   "cell_type": "markdown",
   "metadata": {},
   "source": [
    "Las cargas de trabajo son procesos que se ejecutan dentro de un clsuter de nodos.\n",
    "\n",
    "* *Pods*.\n",
    "* Controladores."
   ]
  },
  {
   "cell_type": "markdown",
   "metadata": {},
   "source": [
    "### Controladores."
   ]
  },
  {
   "cell_type": "markdown",
   "metadata": {},
   "source": [
    "Los controladores son cargas de trabajo que implementan uno o varios *pods* y son configurados para cumplir porpósitos específicos.\n",
    "\n",
    "https://kubernetes.io/es/docs/concepts/workloads/controllers/"
   ]
  },
  {
   "cell_type": "markdown",
   "metadata": {},
   "source": [
    "* [```ReplicaSet```](https://kubernetes.io/es/docs/concepts/workloads/controllers/replicaset/) es el controlador base, el cual permite crear un número específico de pods disponibles para su uso.\n",
    "* [```Deployment```](https://kubernetes.io/es/docs/concepts/workloads/controllers/deployment/) un Deployment proporciona actualizaciones declarativas para los Pods y los ReplicaSets.\n",
    "* [```StatefulSet```](https://kubernetes.io/es/docs/concepts/workloads/controllers/statefulset/) un StatefulSet es el objeto de la API workload que se usa para gestionar aplicaciones con estado.\n",
    "* [```DaemonSet```](https://kubernetes.io/es/docs/concepts/workloads/controllers/daemonset/) un DaemonSet garantiza que todos (o algunos) de los nodos ejecuten una copia de un Pod. \n",
    "* [```Job```](https://kubernetes.io/es/docs/concepts/workloads/controllers/jobs-run-to-completion/) crea uno o más Pods y se asegura de que un número específico de ellos termina de forma satisfactoria.\n",
    "* [```CronJob```](https://kubernetes.io/es/docs/concepts/workloads/controllers/cron-jobs/) un Cron Job ejecuta tareas, Jobs, a intervalos regulares."
   ]
  },
  {
   "cell_type": "markdown",
   "metadata": {},
   "source": [
    "<p style=\"text-align: center\"><a rel=\"license\" href=\"http://creativecommons.org/licenses/by/4.0/\"><img alt=\"Licencia Creative Commons\" style=\"border-width:0\" src=\"https://i.creativecommons.org/l/by/4.0/80x15.png\" /></a><br />Esta obra está bajo una <a rel=\"license\" href=\"http://creativecommons.org/licenses/by/4.0/\">Licencia Creative Commons Atribución 4.0 Internacional</a>.</p>\n",
    "<p style=\"text-align: center\">&copy; José Luis Chiquete Valdivieso. 2021.</p>"
   ]
  }
 ],
 "metadata": {
  "kernelspec": {
   "display_name": "Bash",
   "language": "bash",
   "name": "bash"
  },
  "language_info": {
   "codemirror_mode": "shell",
   "file_extension": ".sh",
   "mimetype": "text/x-sh",
   "name": "bash"
  }
 },
 "nbformat": 4,
 "nbformat_minor": 2
}
