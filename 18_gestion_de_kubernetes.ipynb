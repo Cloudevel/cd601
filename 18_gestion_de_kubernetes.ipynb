{
 "cells": [
  {
   "cell_type": "markdown",
   "metadata": {},
   "source": [
    "[![cloudevel](img/cloudevel.png)](https://cloudevel.com)"
   ]
  },
  {
   "cell_type": "markdown",
   "metadata": {},
   "source": [
    "# Orquestación de contenedores con *Kubernetes*. "
   ]
  },
  {
   "cell_type": "markdown",
   "metadata": {},
   "source": [
    "https://kubernetes.io/es/docs/concepts/"
   ]
  },
  {
   "cell_type": "markdown",
   "metadata": {},
   "source": [
    "## Objetos de *Kubernetes*."
   ]
  },
  {
   "cell_type": "markdown",
   "metadata": {},
   "source": [
    "*Kubernetes* puede definir a varios tipos de objetos los cuales son definidos/descritos mediante archivos *YAML*.\n",
    "\n",
    "Los objetos son entidades persistentes de *Kubernetes*.\n",
    "\n",
    "https://kubernetes.io/es/docs/concepts/overview/working-with-objects/kubernetes-objects/"
   ]
  },
  {
   "cell_type": "markdown",
   "metadata": {},
   "source": [
    "* [*Pods*](https://kubernetes.io/es/docs/concepts/workloads/pods/pod/).\n",
    "* [Volúmenes](https://kubernetes.io/es/docs/concepts/storage/volumes/).\n",
    "* [Servicios](https://kubernetes.io/es/docs/concepts/services-networking/service/).\n",
    "* [Espacios de nombres](https://kubernetes.io/es/docs/concepts/overview/working-with-objects/namespaces/) (*namespaces*)."
   ]
  },
  {
   "cell_type": "markdown",
   "metadata": {},
   "source": [
    "### *Pods*."
   ]
  },
  {
   "cell_type": "markdown",
   "metadata": {},
   "source": [
    "https://kubernetes.io/docs/concepts/workloads/pods/"
   ]
  },
  {
   "cell_type": "markdown",
   "metadata": {},
   "source": [
    "**Ejemplo:**\n",
    "\n",
    "\n",
    "``` yaml\n",
    "apiVersion: v1\n",
    "kind: Pod\n",
    "metadata:\n",
    "  name: nginx\n",
    "spec:\n",
    "  containers:\n",
    "  - name: nginx\n",
    "    image: nginx:1.14.2\n",
    "    ports:\n",
    "    - containerPort: 80\n",
    "```"
   ]
  },
  {
   "cell_type": "markdown",
   "metadata": {},
   "source": [
    "#### Ciclo de vida de un *pod*.\n",
    "\n",
    "https://kubernetes.io/docs/concepts/workloads/pods/pod-lifecycle/"
   ]
  },
  {
   "cell_type": "markdown",
   "metadata": {},
   "source": [
    "### Volúmenes.\n",
    "\n",
    "https://kubernetes.io/es/docs/concepts/storage/volumes/"
   ]
  },
  {
   "cell_type": "markdown",
   "metadata": {},
   "source": [
    "### Servicios.\n",
    "\n",
    "https://kubernetes.io/es/docs/concepts/services-networking/service/"
   ]
  },
  {
   "cell_type": "markdown",
   "metadata": {},
   "source": [
    "### Espacios de nombres.\n",
    "\n",
    "https://kubernetes.io/es/docs/concepts/overview/working-with-objects/namespaces/"
   ]
  },
  {
   "cell_type": "markdown",
   "metadata": {},
   "source": [
    "## Cargas de trabajo (*workloads*)."
   ]
  },
  {
   "cell_type": "markdown",
   "metadata": {},
   "source": [
    "* *Pods*.\n",
    "* Controladores."
   ]
  },
  {
   "cell_type": "markdown",
   "metadata": {},
   "source": [
    "### Controladores."
   ]
  },
  {
   "cell_type": "markdown",
   "metadata": {},
   "source": [
    "https://kubernetes.io/es/docs/concepts/workloads/controllers/"
   ]
  },
  {
   "cell_type": "markdown",
   "metadata": {},
   "source": [
    "* [```ReplicaSet```](https://kubernetes.io/es/docs/concepts/workloads/controllers/replicaset/)\n",
    "* [```Deployment```](https://kubernetes.io/es/docs/concepts/workloads/controllers/deployment/)\n",
    "* [```StatefulSet```](https://kubernetes.io/es/docs/concepts/workloads/controllers/statefulset/)\n",
    "* [```DaemonSet```](https://kubernetes.io/es/docs/concepts/workloads/controllers/daemonset/)\n",
    "* [```Job```](https://kubernetes.io/es/docs/concepts/workloads/controllers/jobs-run-to-completion/)\n",
    "* [```CronJob```](https://kubernetes.io/es/docs/concepts/workloads/controllers/cron-jobs/)"
   ]
  },
  {
   "cell_type": "markdown",
   "metadata": {},
   "source": [
    "## ```kubectl```"
   ]
  },
  {
   "cell_type": "markdown",
   "metadata": {},
   "source": [
    "```\n",
    "gcloud components install kubectl\n",
    "```"
   ]
  },
  {
   "cell_type": "markdown",
   "metadata": {},
   "source": [
    "https://kubernetes.io/docs/reference/kubectl/cheatsheet/"
   ]
  },
  {
   "cell_type": "markdown",
   "metadata": {},
   "source": [
    "<p style=\"text-align: center\"><a rel=\"license\" href=\"http://creativecommons.org/licenses/by/4.0/\"><img alt=\"Licencia Creative Commons\" style=\"border-width:0\" src=\"https://i.creativecommons.org/l/by/4.0/80x15.png\" /></a><br />Esta obra está bajo una <a rel=\"license\" href=\"http://creativecommons.org/licenses/by/4.0/\">Licencia Creative Commons Atribución 4.0 Internacional</a>.</p>\n",
    "<p style=\"text-align: center\">&copy; José Luis Chiquete Valdivieso. 2021.</p>"
   ]
  }
 ],
 "metadata": {
  "kernelspec": {
   "display_name": "Bash",
   "language": "bash",
   "name": "bash"
  },
  "language_info": {
   "codemirror_mode": "shell",
   "file_extension": ".sh",
   "mimetype": "text/x-sh",
   "name": "bash"
  }
 },
 "nbformat": 4,
 "nbformat_minor": 2
}
